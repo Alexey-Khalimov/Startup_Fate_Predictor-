{
 "cells": [
  {
   "cell_type": "markdown",
   "id": "b6f4b04e",
   "metadata": {
    "toc": true
   },
   "source": [
    "<h1>Table of Contents<span class=\"tocSkip\"></span></h1>\n",
    "<div class=\"toc\"><ul class=\"toc-item\"><li><span><a href=\"#Загрузка-и-первичны-обзор-данных\" data-toc-modified-id=\"Загрузка-и-первичны-обзор-данных-1\"><span class=\"toc-item-num\">1&nbsp;&nbsp;</span>Загрузка и первичны обзор данных</a></span><ul class=\"toc-item\"><li><span><a href=\"#Импорт-библиотек-и-настройка-графиков\" data-toc-modified-id=\"Импорт-библиотек-и-настройка-графиков-1.1\"><span class=\"toc-item-num\">1.1&nbsp;&nbsp;</span>Импорт библиотек и настройка графиков</a></span></li><li><span><a href=\"#Используемые-функции\" data-toc-modified-id=\"Используемые-функции-1.2\"><span class=\"toc-item-num\">1.2&nbsp;&nbsp;</span>Используемые функции</a></span></li><li><span><a href=\"#Загрузка-данных\" data-toc-modified-id=\"Загрузка-данных-1.3\"><span class=\"toc-item-num\">1.3&nbsp;&nbsp;</span>Загрузка данных</a></span></li></ul></li><li><span><a href=\"#Предобработка-данных\" data-toc-modified-id=\"Предобработка-данных-2\"><span class=\"toc-item-num\">2&nbsp;&nbsp;</span>Предобработка данных</a></span><ul class=\"toc-item\"><li><span><a href=\"#Проверка-на-наличие-ошибок-и-дубликатов-в-данных\" data-toc-modified-id=\"Проверка-на-наличие-ошибок-и-дубликатов-в-данных-2.1\"><span class=\"toc-item-num\">2.1&nbsp;&nbsp;</span>Проверка на наличие ошибок и дубликатов в данных</a></span></li><li><span><a href=\"#Заполняем-пропущенные-значения-в-столбце-name\" data-toc-modified-id=\"Заполняем-пропущенные-значения-в-столбце-name-2.2\"><span class=\"toc-item-num\">2.2&nbsp;&nbsp;</span>Заполняем пропущенные значения в столбце <code>name</code></a></span></li><li><span><a href=\"#Заполним-пропуски-в-стобце-closed_at-и-добавим-столбец-lifetime\" data-toc-modified-id=\"Заполним-пропуски-в-стобце-closed_at-и-добавим-столбец-lifetime-2.3\"><span class=\"toc-item-num\">2.3&nbsp;&nbsp;</span>Заполним пропуски в стобце <code>closed_at</code> и добавим столбец <code>lifetime</code></a></span></li><li><span><a href=\"#Уменьшение-групп-для-столбца-category_list\" data-toc-modified-id=\"Уменьшение-групп-для-столбца-category_list-2.4\"><span class=\"toc-item-num\">2.4&nbsp;&nbsp;</span>Уменьшение групп для столбца <code>category_list</code></a></span></li><li><span><a href=\"#Уменьшение-групп-для-столбца-city\" data-toc-modified-id=\"Уменьшение-групп-для-столбца-city-2.5\"><span class=\"toc-item-num\">2.5&nbsp;&nbsp;</span>Уменьшение групп для столбца <code>city</code></a></span></li><li><span><a href=\"#Заполним-пропуски-столбца-country_code\" data-toc-modified-id=\"Заполним-пропуски-столбца-country_code-2.6\"><span class=\"toc-item-num\">2.6&nbsp;&nbsp;</span>Заполним пропуски столбца <code>country_code</code></a></span><ul class=\"toc-item\"><li><span><a href=\"#\" data-toc-modified-id=\"-2.6.1\"><span class=\"toc-item-num\">2.6.1&nbsp;&nbsp;</span></a></span></li></ul></li><li><span><a href=\"#Удалим-строки-с-пропущенными-значениями\" data-toc-modified-id=\"Удалим-строки-с-пропущенными-значениями-2.7\"><span class=\"toc-item-num\">2.7&nbsp;&nbsp;</span>Удалим строки с пропущенными значениями</a></span></li><li><span><a href=\"#Удалим-лишнии-сиволы-из-столбца-region\" data-toc-modified-id=\"Удалим-лишнии-сиволы-из-столбца-region-2.8\"><span class=\"toc-item-num\">2.8&nbsp;&nbsp;</span>Удалим лишнии сиволы из столбца <code>region</code></a></span></li><li><span><a href=\"#Заполним-пропуски-в-столбцах-state_code-и-region\" data-toc-modified-id=\"Заполним-пропуски-в-столбцах-state_code-и-region-2.9\"><span class=\"toc-item-num\">2.9&nbsp;&nbsp;</span>Заполним пропуски в столбцах <code>state_code</code> и <code>region</code></a></span></li><li><span><a href=\"#Проверим-наличие-ошибок--в-датах\" data-toc-modified-id=\"Проверим-наличие-ошибок--в-датах-2.10\"><span class=\"toc-item-num\">2.10&nbsp;&nbsp;</span>Проверим наличие ошибок  в датах</a></span></li><li><span><a href=\"#Создание-новых-столбцов-time_until_first_round,-funding_duration-и-time_until_last_round\" data-toc-modified-id=\"Создание-новых-столбцов-time_until_first_round,-funding_duration-и-time_until_last_round-2.11\"><span class=\"toc-item-num\">2.11&nbsp;&nbsp;</span>Создание новых столбцов <code>time_until_first_round</code>, <code>funding_duration</code> и <code>time_until_last_round</code></a></span></li><li><span><a href=\"#Заполним-пропуски-в-funding_total_usd\" data-toc-modified-id=\"Заполним-пропуски-в-funding_total_usd-2.12\"><span class=\"toc-item-num\">2.12&nbsp;&nbsp;</span>Заполним пропуски в <code>funding_total_usd</code></a></span></li><li><span><a href=\"#Создадим-столбец-с-частями-света-continent\" data-toc-modified-id=\"Создадим-столбец-с-частями-света-continent-2.13\"><span class=\"toc-item-num\">2.13&nbsp;&nbsp;</span>Создадим столбец с частями света <code>continent</code></a></span></li></ul></li><li><span><a href=\"#Исследовательский-анализ-данных\" data-toc-modified-id=\"Исследовательский-анализ-данных-3\"><span class=\"toc-item-num\">3&nbsp;&nbsp;</span>Исследовательский анализ данных</a></span><ul class=\"toc-item\"><li><span><a href=\"#Описание-количественных-параметров\" data-toc-modified-id=\"Описание-количественных-параметров-3.1\"><span class=\"toc-item-num\">3.1&nbsp;&nbsp;</span>Описание количественных параметров</a></span></li><li><span><a href=\"#Разделим-датафрейм-по-таргету\" data-toc-modified-id=\"Разделим-датафрейм-по-таргету-3.2\"><span class=\"toc-item-num\">3.2&nbsp;&nbsp;</span>Разделим датафрейм по таргету</a></span></li><li><span><a href=\"#Распеределение-стартапов-по-категориям\" data-toc-modified-id=\"Распеределение-стартапов-по-категориям-3.3\"><span class=\"toc-item-num\">3.3&nbsp;&nbsp;</span>Распеределение стартапов по категориям</a></span></li><li><span><a href=\"#Распеределение-стартапов-по-странам\" data-toc-modified-id=\"Распеределение-стартапов-по-странам-3.4\"><span class=\"toc-item-num\">3.4&nbsp;&nbsp;</span>Распеределение стартапов по странам</a></span></li><li><span><a href=\"#Распеределение-стартапов-по-частям-света\" data-toc-modified-id=\"Распеределение-стартапов-по-частям-света-3.5\"><span class=\"toc-item-num\">3.5&nbsp;&nbsp;</span>Распеределение стартапов по частям света</a></span></li><li><span><a href=\"#Распеределение-стартапов-по-городам\" data-toc-modified-id=\"Распеределение-стартапов-по-городам-3.6\"><span class=\"toc-item-num\">3.6&nbsp;&nbsp;</span>Распеределение стартапов по городам</a></span></li><li><span><a href=\"#Распеределение-стартапов-по-раундам-финансирования\" data-toc-modified-id=\"Распеределение-стартапов-по-раундам-финансирования-3.7\"><span class=\"toc-item-num\">3.7&nbsp;&nbsp;</span>Распеределение стартапов по раундам финансирования</a></span></li><li><span><a href=\"#Распеределение-стартапов-по-годам-основания-и-суммы-финансирования\" data-toc-modified-id=\"Распеределение-стартапов-по-годам-основания-и-суммы-финансирования-3.8\"><span class=\"toc-item-num\">3.8&nbsp;&nbsp;</span>Распеределение стартапов по годам основания и суммы финансирования</a></span></li></ul></li><li><span><a href=\"#Создание-новых-признаков\" data-toc-modified-id=\"Создание-новых-признаков-4\"><span class=\"toc-item-num\">4&nbsp;&nbsp;</span>Создание новых признаков</a></span><ul class=\"toc-item\"><li><span><a href=\"#Уровень-финансирования\" data-toc-modified-id=\"Уровень-финансирования-4.1\"><span class=\"toc-item-num\">4.1&nbsp;&nbsp;</span>Уровень финансирования</a></span></li></ul></li><li><span><a href=\"#Модель\" data-toc-modified-id=\"Модель-5\"><span class=\"toc-item-num\">5&nbsp;&nbsp;</span>Модель</a></span></li><li><span><a href=\"#Пробы\" data-toc-modified-id=\"Пробы-6\"><span class=\"toc-item-num\">6&nbsp;&nbsp;</span>Пробы</a></span></li><li><span><a href=\"#Пайплайн\" data-toc-modified-id=\"Пайплайн-7\"><span class=\"toc-item-num\">7&nbsp;&nbsp;</span>Пайплайн</a></span><ul class=\"toc-item\"><li><ul class=\"toc-item\"><li><span><a href=\"#\" data-toc-modified-id=\"-7.0.1\"><span class=\"toc-item-num\">7.0.1&nbsp;&nbsp;</span></a></span></li><li><span><a href=\"#\" data-toc-modified-id=\"-7.0.2\"><span class=\"toc-item-num\">7.0.2&nbsp;&nbsp;</span></a></span></li></ul></li></ul></li></ul></div>"
   ]
  },
  {
   "cell_type": "markdown",
   "id": "6f2a67f0",
   "metadata": {},
   "source": [
    "# Предсказание судьбы стартапа"
   ]
  },
  {
   "cell_type": "markdown",
   "id": "240c13e7",
   "metadata": {},
   "source": [
    "**Заказчик исследования:**\n",
    "Соревнование на Kaggle, цель которого — предсказать, какие стартапы, из данных за период с 1970 по 2018 год, закроются.\n",
    "\n",
    "**Исходные данные:**\n",
    "Набор данных содержит информацию о стартапах, функционировавших с 1970 по 2018 год. Данные псевдо-реальные, что означает наличие как реальных, так и синтетически добавленных данных. Детали включают, но не ограничиваются, историческими операционными статусами стартапов и различными характеристиками, которые могут влиять на их успех или закрытие.\n",
    "\n",
    "**Цель исследования:**\n",
    "Предсказание закрытия стартапов на основе анализа исторических данных, чтобы выявить закономерности и факторы, влияющие на неудачу или успех стартапов.\n",
    "\n",
    "**Задачи исследования:**\n",
    "1. Загрузка и первичное ознакомление с предоставленными данными.\n",
    "2. Предварительная обработка данных, включая очистку, нормализацию и обработку пропущенных значений.\n",
    "3. Проведение полноценного разведочного анализа данных.\n",
    "4. Разработка новых синтетических признаков, которые могут помочь в прогнозировании закрытия стартапов.\n",
    "5. Проверка данных на мультиколлинеарность и отбор признаков для моделирования.\n",
    "6. Обучение и тестирование различных моделей машинного обучения с использованием отобранных признаков.\n",
    "7. Оценка качества предсказаний с помощью метрики F1-Score.\n",
    "8. Анализ важности признаков лучших моделей.\n",
    "9. Подготовка отчета по результатам исследования с рекомендациями для увеличения шансов на успех стартапов.\n",
    "10. Дополнительное задание: реализация решения с использованием технологии pipeline."
   ]
  },
  {
   "cell_type": "markdown",
   "id": "b81443f0",
   "metadata": {},
   "source": [
    "## Загрузка и первичны обзор данных"
   ]
  },
  {
   "cell_type": "markdown",
   "id": "6c23e1e5",
   "metadata": {},
   "source": [
    "### Импорт библиотек и настройка графиков"
   ]
  },
  {
   "cell_type": "code",
   "execution_count": 1,
   "id": "52fd24c4",
   "metadata": {
    "ExecuteTime": {
     "end_time": "2024-06-16T21:05:03.024453Z",
     "start_time": "2024-06-16T21:04:59.714560Z"
    }
   },
   "outputs": [],
   "source": [
    "# Импорт из стандартной библиотеки\n",
    "import os\n",
    "import random\n",
    "import string\n",
    "import re\n",
    "import matplotlib.pyplot as plt\n",
    "import warnings\n",
    "warnings.filterwarnings('ignore', category=FutureWarning)\n",
    "\n",
    "\n",
    "from fuzzywuzzy import process, fuzz\n",
    "import pycountry_convert as pc\n",
    "import pycountry\n",
    "\n",
    "# Стандартные библиотеки для научных вычислений\n",
    "import numpy as np\n",
    "import pandas as pd\n",
    "import seaborn as sns\n",
    "import plotly.express as px\n",
    "import re\n",
    "\n",
    "# Дополнительные библиотеки для анализа данных\n",
    "from phik import phik_matrix\n",
    "from phik.report import plot_correlation_matrix\n",
    "import sweetviz as sv\n",
    "from ydata_profiling import ProfileReport\n",
    "\n",
    "# Библиотеки с API\n",
    "from google.cloud import translate_v2 as translate\n",
    "\n",
    "# Расчет статистик\n",
    "from sklearn.metrics import make_scorer, roc_auc_score, f1_score\n",
    "from sklearn.impute import SimpleImputer, KNNImputer\n",
    "from sklearn.model_selection import (\n",
    "    StratifiedKFold,\n",
    "    RandomizedSearchCV, \n",
    "    GridSearchCV,\n",
    "    KFold,\n",
    "    train_test_split\n",
    ")\n",
    "from sklearn.pipeline import Pipeline, make_pipeline\n",
    "from sklearn.compose import ColumnTransformer\n",
    "from sklearn.preprocessing import (\n",
    "    OneHotEncoder,\n",
    "    LabelEncoder,\n",
    "    OrdinalEncoder, \n",
    "    StandardScaler, \n",
    "    MinMaxScaler,\n",
    "    RobustScaler,\n",
    "    FunctionTransformer\n",
    ")\n",
    "\n",
    "# Модели машинного обучения\n",
    "from sklearn.dummy import DummyClassifier, DummyRegressor\n",
    "from sklearn.linear_model import LinearRegression, LogisticRegression\n",
    "from sklearn.neighbors import KNeighborsRegressor, KNeighborsClassifier\n",
    "from sklearn.tree import DecisionTreeRegressor, DecisionTreeClassifier\n",
    "from sklearn.svm import SVC\n",
    "\n",
    "# Настройка отображения встроенных фреймов\n",
    "from IPython.display import IFrame\n",
    "\n",
    "\n",
    "# Модели машинного обучения\n",
    "# from sklearn.linear_model import LinearRegression, Lasso\n",
    "\n",
    "# Загрузка ключа для работы с API\n",
    "os.environ[\"GOOGLE_APPLICATION_CREDENTIALS\"] = 'key/translate_key_cloud_api.json'\n",
    "\n",
    "from wordcloud import WordCloud\n",
    "\n",
    "from imblearn.over_sampling import SMOTE\n",
    "\n",
    "\n",
    "# Установка опции для отображения всех столбцов\n",
    "pd.options.display.max_columns = None\n",
    "\n",
    "# Константы\n",
    "LINE_1 = '-'*125\n",
    "RANDOM_STATE = 45\n",
    "TEST_SIZE = 0.25"
   ]
  },
  {
   "cell_type": "markdown",
   "id": "e38922f2",
   "metadata": {},
   "source": [
    "### Используемые функции"
   ]
  },
  {
   "cell_type": "markdown",
   "id": "2f1410b9",
   "metadata": {},
   "source": [
    "Функция для загрузки данных"
   ]
  },
  {
   "cell_type": "code",
   "execution_count": 2,
   "id": "48888018",
   "metadata": {
    "ExecuteTime": {
     "end_time": "2024-06-16T21:05:03.040451Z",
     "start_time": "2024-06-16T21:05:03.026456Z"
    }
   },
   "outputs": [],
   "source": [
    "# Функция для загрузки данных\n",
    "def load_data(file_path, sep=',', decimal='.', date_columns=None):\n",
    "    try:\n",
    "        print(f'Загрузка данных из локального файла: {file_path}')\n",
    "        return pd.read_csv(file_path, sep=sep, decimal=decimal, parse_dates=date_columns)\n",
    "    except Exception as e:\n",
    "        # Если возникла ошибка, выводим сообщение об ошибке\n",
    "        print('Загрузка произошла с ошибкой')\n",
    "        error_message = str(e)\n",
    "        print(error_message)"
   ]
  },
  {
   "cell_type": "markdown",
   "id": "d05f3dd0",
   "metadata": {
    "ExecuteTime": {
     "end_time": "2024-06-04T18:04:42.546689Z",
     "start_time": "2024-06-04T18:04:42.531691Z"
    }
   },
   "source": [
    "Генерирует случайное имя заданной длины."
   ]
  },
  {
   "cell_type": "code",
   "execution_count": 3,
   "id": "6a2923b5",
   "metadata": {
    "ExecuteTime": {
     "end_time": "2024-06-16T21:05:03.055958Z",
     "start_time": "2024-06-16T21:05:03.041451Z"
    }
   },
   "outputs": [],
   "source": [
    "def generate_random_name(length=7):\n",
    "    letters = string.ascii_letters\n",
    "    random_name = ''.join(random.choice(letters) for i in range(length))\n",
    "    return random_name.capitalize()"
   ]
  },
  {
   "cell_type": "markdown",
   "id": "816aa3d8",
   "metadata": {},
   "source": [
    "Функция убирает различные нежелательные символы"
   ]
  },
  {
   "cell_type": "code",
   "execution_count": 4,
   "id": "f74ac0ae",
   "metadata": {
    "ExecuteTime": {
     "end_time": "2024-06-16T21:05:03.071958Z",
     "start_time": "2024-06-16T21:05:03.057960Z"
    }
   },
   "outputs": [],
   "source": [
    "# Функция убирает различные нежелательные символы\n",
    "def standardize_names(name):\n",
    "    if pd.isna(name):\n",
    "        return name\n",
    "    # Убираем лишние пробелы и делаем все символы строчными\n",
    "    name = name.strip().lower()\n",
    "    # Удаляем все нежелательные символы, кроме букв, цифр, пробелов и символа |\n",
    "    name = re.sub(r'[^\\w\\s|]', '', name)\n",
    "    return name"
   ]
  },
  {
   "cell_type": "markdown",
   "id": "828ada94",
   "metadata": {},
   "source": [
    "Функция для извлечения первых значений из списка"
   ]
  },
  {
   "cell_type": "code",
   "execution_count": 5,
   "id": "68001f51",
   "metadata": {
    "ExecuteTime": {
     "end_time": "2024-06-16T21:05:03.087958Z",
     "start_time": "2024-06-16T21:05:03.072960Z"
    }
   },
   "outputs": [],
   "source": [
    "# Функция для извлечения первых значений из списка\n",
    "def extract_first_value(lst):\n",
    "    if isinstance(lst, str):\n",
    "        return lst.split('|')[0].strip()  # Извлекаем первое значение (удаляем лишние пробелы)\n",
    "    else:\n",
    "        return None"
   ]
  },
  {
   "cell_type": "markdown",
   "id": "ec5f75a7",
   "metadata": {},
   "source": [
    "Функция которая стандартизирует категории"
   ]
  },
  {
   "cell_type": "code",
   "execution_count": 6,
   "id": "bf729b28",
   "metadata": {
    "ExecuteTime": {
     "end_time": "2024-06-16T21:05:03.103033Z",
     "start_time": "2024-06-16T21:05:03.088959Z"
    }
   },
   "outputs": [],
   "source": [
    "def fuzz_standardize_names(column, threshold=90):\n",
    "    # Подсчитываем частоту каждой категории в столбце\n",
    "    frequency = column.value_counts().to_dict()\n",
    "    \n",
    "    # Уникальные категории из столбца (исключая NaN)\n",
    "    categories = column.dropna().unique().tolist()\n",
    "    \n",
    "    # Ищем совпадения с порогом сходства\n",
    "    threshold = threshold  # Порог сходства в процентах\n",
    "    groups = {}\n",
    "    for category in categories:\n",
    "        # Ищем наиболее схожие категории\n",
    "        matches = process.extract(category, categories, limit=None, scorer=fuzz.partial_ratio)\n",
    "        for match, score in matches:\n",
    "            if score >= threshold and match != category:\n",
    "                if match in groups:\n",
    "                    groups[match].add(category)\n",
    "                else:\n",
    "                    groups[match] = {match, category}\n",
    "    \n",
    "    # Создаем словарь для хранения конечных категорий\n",
    "    category_mapping = {}\n",
    "    for group in groups.values():\n",
    "        # Выбираем категорию с максимальной частотой встречаемости\n",
    "        main_category = max(group, key=lambda cat: frequency.get(cat, 0))\n",
    "        for cat in group:\n",
    "            category_mapping[cat] = main_category\n",
    "    \n",
    "    # Применяем маппинг к исходному столбцу для создания нового столбца\n",
    "    standardized_column = column.map(category_mapping).fillna(column)\n",
    "    \n",
    "    return standardized_column\n"
   ]
  },
  {
   "cell_type": "markdown",
   "id": "a2d06ec1",
   "metadata": {},
   "source": [
    "Функция для перевода текста на англ язык"
   ]
  },
  {
   "cell_type": "code",
   "execution_count": 7,
   "id": "3718276c",
   "metadata": {
    "ExecuteTime": {
     "end_time": "2024-06-16T21:05:03.150568Z",
     "start_time": "2024-06-16T21:05:03.103959Z"
    }
   },
   "outputs": [],
   "source": [
    "# Инициализация клиента перевода и кэша\n",
    "client = translate.Client()\n",
    "translation_cache = {}\n",
    "\n",
    "def translate_text(text, target_language='ru'):\n",
    "    \"\"\"Функция для перевода текста с кэшированием.\"\"\"\n",
    "    if pd.isna(text):\n",
    "        return None\n",
    "    # Проверяем, есть ли текст уже в кэше\n",
    "    if text in translation_cache:\n",
    "        return translation_cache[text]\n",
    "    # Перевод текста через Google Translate API\n",
    "    translation = client.translate(text, target_language=target_language)\n",
    "    translated_text = translation['translatedText']\n",
    "    # Сохраняем переведенный текст в кэш\n",
    "    translation_cache[text] = translated_text\n",
    "    return translated_text\n",
    "\n",
    "# Пример\n",
    "#df_['city_translated'] = df_['city'].apply(lambda x: translate_text(x))"
   ]
  },
  {
   "cell_type": "code",
   "execution_count": 8,
   "id": "452ae009",
   "metadata": {
    "ExecuteTime": {
     "end_time": "2024-06-16T21:05:03.165974Z",
     "start_time": "2024-06-16T21:05:03.151468Z"
    }
   },
   "outputs": [],
   "source": [
    "def plot_histograms_for_df(df, name):\n",
    "    # Выбираем количественные столбцы, исключая 'id'\n",
    "    numeric_columns = df.drop('name', axis=1).select_dtypes(include=['int64', 'float64']).columns\n",
    "    \n",
    "    n_cols = 2  # Количество колонок подграфиков\n",
    "    n_rows = (len(numeric_columns) + n_cols - 1) // n_cols  # Количество строк подграфиков\n",
    "\n",
    "    fig, axes = plt.subplots(n_rows, n_cols, figsize=(15, 5 * n_rows))\n",
    "    axes = axes.ravel()  # Преобразование в 1D массив для удобного индексирования\n",
    "\n",
    "    for i, column in enumerate(numeric_columns):\n",
    "        sns.histplot(data=df, x=column, bins=20, kde=True, ax=axes[i])\n",
    "        axes[i].set_title(f'{name} - {column}')\n",
    "\n",
    "        # Добавление медианы и среднего значения\n",
    "        median_value = df[column].median()\n",
    "        mean_value = df[column].mean()\n",
    "        axes[i].axvline(median_value, color='r', linestyle='--', label=f'Median: {median_value:.2f}')\n",
    "        axes[i].axvline(mean_value, color='g', linestyle='-', label=f'Mean: {mean_value:.2f}')\n",
    "        axes[i].legend()\n",
    "\n",
    "    # Удаляем лишние подграфики, если они есть\n",
    "    for j in range(i + 1, len(axes)):\n",
    "        fig.delaxes(axes[j])\n",
    "\n",
    "    plt.subplots_adjust(hspace=0.3, wspace=0.3)\n",
    "    plt.show()"
   ]
  },
  {
   "cell_type": "code",
   "execution_count": 9,
   "id": "e526b616",
   "metadata": {
    "ExecuteTime": {
     "end_time": "2024-06-16T21:05:03.181976Z",
     "start_time": "2024-06-16T21:05:03.166976Z"
    }
   },
   "outputs": [],
   "source": [
    "def plot_histograms(df):\n",
    "    sns.set(style=\"whitegrid\")\n",
    "    fig, axes = plt.subplots(7, 1, figsize=(15, 30))\n",
    "\n",
    "    features = [\"funding_rounds\", \"lifetime\", \"time_until_first_round\",\n",
    "                \"funding_duration\", \"country_code\"]\n",
    "    titles = [\"Распределение Количества раундов финансирования по Статусу\",\n",
    "              \"Распределение Времи существования стартапа в днях по Статусу\",\n",
    "              \"Распределение Времи до начала финансирования стартапа в днях по Статусу\",\n",
    "              \"Распределение Времи финансирования стартапа в днях по Статусу\",\n",
    "              \"Распределение Стран стартапов по Статусу\"]\n",
    "    \n",
    "    for ax, feature, title in zip(axes, features, titles):\n",
    "        sns.histplot(data=df, x=feature, hue=\"status\", multiple=\"stack\", ax=ax, palette=\"viridis\")\n",
    "        ax.set_title(title)\n",
    "        ax.set_xlabel(feature)\n",
    "        ax.set_ylabel(\"Количество записей\")\n",
    "\n",
    "    plt.tight_layout()\n",
    "    plt.show()"
   ]
  },
  {
   "cell_type": "markdown",
   "id": "108cbb15",
   "metadata": {},
   "source": [
    "Функция для преобразования кода страны в континент"
   ]
  },
  {
   "cell_type": "code",
   "execution_count": 10,
   "id": "9f5182cc",
   "metadata": {
    "ExecuteTime": {
     "end_time": "2024-06-16T21:05:03.197974Z",
     "start_time": "2024-06-16T21:05:03.184982Z"
    }
   },
   "outputs": [],
   "source": [
    "#import pycountry_convert as pc\n",
    "# Создаем функцию для преобразования кода страны в континент\n",
    "def country_to_continent(country_code):\n",
    "    try:\n",
    "        # Получаем код континента по коду страны\n",
    "        continent_code = pc.country_alpha2_to_continent_code(country_code)\n",
    "        # Преобразуем код континента в название\n",
    "        continent_name = pc.convert_continent_code_to_continent_name(continent_code)\n",
    "        return continent_name\n",
    "    except KeyError:\n",
    "        # Если код страны не найден, возвращаем 'Other'\n",
    "        return 'Other'"
   ]
  },
  {
   "cell_type": "markdown",
   "id": "fe7ee9a9",
   "metadata": {},
   "source": [
    "Функция для стандартизации названий стран"
   ]
  },
  {
   "cell_type": "code",
   "execution_count": 11,
   "id": "f78574f0",
   "metadata": {
    "ExecuteTime": {
     "end_time": "2024-06-16T21:05:03.213483Z",
     "start_time": "2024-06-16T21:05:03.198975Z"
    }
   },
   "outputs": [],
   "source": [
    "#import pycountry\n",
    "def alpha3_to_alpha2(alpha3):\n",
    "    try:\n",
    "        return pycountry.countries.get(alpha_3=alpha3).alpha_2\n",
    "    except Exception:  # Используем более общий Exception для перехвата любых ошибок\n",
    "        return 'Other'"
   ]
  },
  {
   "cell_type": "code",
   "execution_count": 12,
   "id": "e7529b90",
   "metadata": {
    "ExecuteTime": {
     "end_time": "2024-06-16T21:05:03.229485Z",
     "start_time": "2024-06-16T21:05:03.214485Z"
    }
   },
   "outputs": [],
   "source": [
    "def plot_grouped_bar_chart(group, group_closed, group_operating, title, label, label_operating, label_closed):\n",
    "    group_normalized = ((group / group.sum()) * 100) \n",
    "    group_operating_normalized = ((group_operating / group_operating.sum()) * 100)\n",
    "    group_closed_normalized = ((group_closed / group_closed.sum()) * 100)\n",
    "    \n",
    "    width = 0.25  # Ширина столбцов\n",
    "    n = len(group_normalized)  # Количество столбцов\n",
    "    ind = np.arange(n)  # Позиции для групп столбцов\n",
    "\n",
    "    plt.figure(figsize=(10, 8))\n",
    "    plt.bar(ind - width, group_normalized.head(10).values, width=width, color='#2A9D8F', label='Часть света (все стартапы)')\n",
    "    plt.bar(ind, group_operating.head(10).values, width=width, color='#E9C46A', label='Часть света (действующие стартапы)')\n",
    "    plt.bar(ind + width, group_closed.head(10).values, width=width, color='#F4A261', label='Часть света (закрытые стартапы)')\n",
    "\n",
    "    plt.title('Топ-10 частей света по действующим и закрытым стартапам')\n",
    "    plt.xlabel('Категории')\n",
    "    plt.ylabel('Процент')\n",
    "    plt.xticks(ind, group_normalized.head(10).index, rotation=90)\n",
    "    plt.legend()\n",
    "    plt.grid(True)\n",
    "    plt.show()"
   ]
  },
  {
   "cell_type": "markdown",
   "id": "33cdbe50",
   "metadata": {},
   "source": [
    "### Загрузка данных"
   ]
  },
  {
   "cell_type": "code",
   "execution_count": 13,
   "id": "520f1975",
   "metadata": {
    "ExecuteTime": {
     "end_time": "2024-06-16T21:05:03.434569Z",
     "start_time": "2024-06-16T21:05:03.230486Z"
    }
   },
   "outputs": [
    {
     "name": "stdout",
     "output_type": "stream",
     "text": [
      "Загрузка данных из локального файла: datasets/kaggle_startups_train_27042024.csv\n",
      "Загрузка данных из локального файла: datasets/kaggle_startups_test_27042024.csv\n"
     ]
    }
   ],
   "source": [
    "# Путь к локальному файлу и URL удаленного файла\n",
    "local_file_path_train = 'datasets/kaggle_startups_train_27042024.csv'\n",
    "local_file_path_test = 'datasets/kaggle_startups_test_27042024.csv'\n",
    "\n",
    "# Загрузка данных\n",
    "df_train = load_data(local_file_path_train, date_columns=['founded_at', 'first_funding_at', 'last_funding_at'])\n",
    "df_test = load_data(local_file_path_test, date_columns=['founded_at', 'first_funding_at', 'last_funding_at'])"
   ]
  },
  {
   "cell_type": "code",
   "execution_count": 14,
   "id": "ad9020ad",
   "metadata": {
    "ExecuteTime": {
     "end_time": "2024-06-16T21:05:03.450632Z",
     "start_time": "2024-06-16T21:05:03.436572Z"
    }
   },
   "outputs": [],
   "source": [
    "# Возможность обращаться к датафреймам по именам, используйем словарь вместо списка\n",
    "df = [df_train, df_test]\n",
    "df_names = ['df_train', 'df_test']\n",
    "df_dict = dict(zip(df_names, df))"
   ]
  },
  {
   "cell_type": "markdown",
   "id": "b04273dd",
   "metadata": {},
   "source": [
    "Выведем первые 10 строчек DataFrame `df_train` и общую информацию о них"
   ]
  },
  {
   "cell_type": "code",
   "execution_count": 15,
   "id": "ed6680d6",
   "metadata": {
    "ExecuteTime": {
     "end_time": "2024-06-16T21:05:03.498077Z",
     "start_time": "2024-06-16T21:05:03.451582Z"
    },
    "scrolled": false
   },
   "outputs": [
    {
     "data": {
      "text/html": [
       "<div>\n",
       "<style scoped>\n",
       "    .dataframe tbody tr th:only-of-type {\n",
       "        vertical-align: middle;\n",
       "    }\n",
       "\n",
       "    .dataframe tbody tr th {\n",
       "        vertical-align: top;\n",
       "    }\n",
       "\n",
       "    .dataframe thead th {\n",
       "        text-align: right;\n",
       "    }\n",
       "</style>\n",
       "<table border=\"1\" class=\"dataframe\">\n",
       "  <thead>\n",
       "    <tr style=\"text-align: right;\">\n",
       "      <th></th>\n",
       "      <th>name</th>\n",
       "      <th>category_list</th>\n",
       "      <th>funding_total_usd</th>\n",
       "      <th>status</th>\n",
       "      <th>country_code</th>\n",
       "      <th>state_code</th>\n",
       "      <th>region</th>\n",
       "      <th>city</th>\n",
       "      <th>funding_rounds</th>\n",
       "      <th>founded_at</th>\n",
       "      <th>first_funding_at</th>\n",
       "      <th>last_funding_at</th>\n",
       "      <th>closed_at</th>\n",
       "    </tr>\n",
       "  </thead>\n",
       "  <tbody>\n",
       "    <tr>\n",
       "      <th>0</th>\n",
       "      <td>Lunchgate</td>\n",
       "      <td>Online Reservations|Restaurants</td>\n",
       "      <td>828626.0</td>\n",
       "      <td>operating</td>\n",
       "      <td>CHE</td>\n",
       "      <td>25</td>\n",
       "      <td>Zurich</td>\n",
       "      <td>Zürich</td>\n",
       "      <td>2</td>\n",
       "      <td>2009-12-31</td>\n",
       "      <td>2011-05-01</td>\n",
       "      <td>2014-12-01</td>\n",
       "      <td>NaN</td>\n",
       "    </tr>\n",
       "    <tr>\n",
       "      <th>1</th>\n",
       "      <td>EarLens</td>\n",
       "      <td>Manufacturing|Medical|Medical Devices</td>\n",
       "      <td>42935019.0</td>\n",
       "      <td>operating</td>\n",
       "      <td>USA</td>\n",
       "      <td>CA</td>\n",
       "      <td>SF Bay Area</td>\n",
       "      <td>Redwood City</td>\n",
       "      <td>4</td>\n",
       "      <td>2005-01-01</td>\n",
       "      <td>2010-05-04</td>\n",
       "      <td>2014-02-25</td>\n",
       "      <td>NaN</td>\n",
       "    </tr>\n",
       "    <tr>\n",
       "      <th>2</th>\n",
       "      <td>Reviva Pharmaceuticals</td>\n",
       "      <td>Biotechnology</td>\n",
       "      <td>35456381.0</td>\n",
       "      <td>operating</td>\n",
       "      <td>USA</td>\n",
       "      <td>CA</td>\n",
       "      <td>SF Bay Area</td>\n",
       "      <td>San Jose</td>\n",
       "      <td>3</td>\n",
       "      <td>2006-01-01</td>\n",
       "      <td>2012-08-20</td>\n",
       "      <td>2014-07-02</td>\n",
       "      <td>NaN</td>\n",
       "    </tr>\n",
       "    <tr>\n",
       "      <th>3</th>\n",
       "      <td>Sancilio and Company</td>\n",
       "      <td>Health Care</td>\n",
       "      <td>22250000.0</td>\n",
       "      <td>operating</td>\n",
       "      <td>NaN</td>\n",
       "      <td>NaN</td>\n",
       "      <td>NaN</td>\n",
       "      <td>NaN</td>\n",
       "      <td>3</td>\n",
       "      <td>2004-01-01</td>\n",
       "      <td>2011-09-01</td>\n",
       "      <td>2014-07-18</td>\n",
       "      <td>NaN</td>\n",
       "    </tr>\n",
       "    <tr>\n",
       "      <th>4</th>\n",
       "      <td>WireTough Cylinders</td>\n",
       "      <td>Manufacturing</td>\n",
       "      <td>NaN</td>\n",
       "      <td>operating</td>\n",
       "      <td>USA</td>\n",
       "      <td>VA</td>\n",
       "      <td>VA - Other</td>\n",
       "      <td>Bristol</td>\n",
       "      <td>1</td>\n",
       "      <td>2010-09-30</td>\n",
       "      <td>2012-02-01</td>\n",
       "      <td>2012-02-01</td>\n",
       "      <td>NaN</td>\n",
       "    </tr>\n",
       "    <tr>\n",
       "      <th>5</th>\n",
       "      <td>Connected Sports Ventures</td>\n",
       "      <td>Mobile</td>\n",
       "      <td>4300000.0</td>\n",
       "      <td>operating</td>\n",
       "      <td>USA</td>\n",
       "      <td>NJ</td>\n",
       "      <td>Newark</td>\n",
       "      <td>Princeton</td>\n",
       "      <td>1</td>\n",
       "      <td>2011-01-20</td>\n",
       "      <td>2012-11-12</td>\n",
       "      <td>2012-11-12</td>\n",
       "      <td>NaN</td>\n",
       "    </tr>\n",
       "    <tr>\n",
       "      <th>6</th>\n",
       "      <td>Attensity</td>\n",
       "      <td>Analytics|Business Analytics|Social CRM|Social...</td>\n",
       "      <td>90000000.0</td>\n",
       "      <td>operating</td>\n",
       "      <td>USA</td>\n",
       "      <td>CA</td>\n",
       "      <td>SF Bay Area</td>\n",
       "      <td>Redwood City</td>\n",
       "      <td>1</td>\n",
       "      <td>2000-01-01</td>\n",
       "      <td>2014-05-14</td>\n",
       "      <td>2014-05-14</td>\n",
       "      <td>NaN</td>\n",
       "    </tr>\n",
       "    <tr>\n",
       "      <th>7</th>\n",
       "      <td>Mesh Networks</td>\n",
       "      <td>Software</td>\n",
       "      <td>4300000.0</td>\n",
       "      <td>operating</td>\n",
       "      <td>USA</td>\n",
       "      <td>TX</td>\n",
       "      <td>Houston</td>\n",
       "      <td>Houston</td>\n",
       "      <td>1</td>\n",
       "      <td>2005-01-01</td>\n",
       "      <td>2014-11-09</td>\n",
       "      <td>2014-11-09</td>\n",
       "      <td>NaN</td>\n",
       "    </tr>\n",
       "    <tr>\n",
       "      <th>8</th>\n",
       "      <td>AngioScore</td>\n",
       "      <td>Biotechnology</td>\n",
       "      <td>42000000.0</td>\n",
       "      <td>operating</td>\n",
       "      <td>USA</td>\n",
       "      <td>CA</td>\n",
       "      <td>SF Bay Area</td>\n",
       "      <td>Fremont</td>\n",
       "      <td>2</td>\n",
       "      <td>2003-01-01</td>\n",
       "      <td>2007-10-09</td>\n",
       "      <td>2011-04-20</td>\n",
       "      <td>NaN</td>\n",
       "    </tr>\n",
       "    <tr>\n",
       "      <th>9</th>\n",
       "      <td>Vidatronic</td>\n",
       "      <td>Semiconductors</td>\n",
       "      <td>1250500.0</td>\n",
       "      <td>operating</td>\n",
       "      <td>USA</td>\n",
       "      <td>TX</td>\n",
       "      <td>Austin</td>\n",
       "      <td>College Station</td>\n",
       "      <td>2</td>\n",
       "      <td>2010-01-01</td>\n",
       "      <td>2011-08-23</td>\n",
       "      <td>2013-03-21</td>\n",
       "      <td>NaN</td>\n",
       "    </tr>\n",
       "  </tbody>\n",
       "</table>\n",
       "</div>"
      ],
      "text/plain": [
       "                        name  \\\n",
       "0                  Lunchgate   \n",
       "1                    EarLens   \n",
       "2     Reviva Pharmaceuticals   \n",
       "3       Sancilio and Company   \n",
       "4        WireTough Cylinders   \n",
       "5  Connected Sports Ventures   \n",
       "6                  Attensity   \n",
       "7              Mesh Networks   \n",
       "8                 AngioScore   \n",
       "9                 Vidatronic   \n",
       "\n",
       "                                       category_list  funding_total_usd  \\\n",
       "0                    Online Reservations|Restaurants           828626.0   \n",
       "1              Manufacturing|Medical|Medical Devices         42935019.0   \n",
       "2                                      Biotechnology         35456381.0   \n",
       "3                                        Health Care         22250000.0   \n",
       "4                                      Manufacturing                NaN   \n",
       "5                                             Mobile          4300000.0   \n",
       "6  Analytics|Business Analytics|Social CRM|Social...         90000000.0   \n",
       "7                                           Software          4300000.0   \n",
       "8                                      Biotechnology         42000000.0   \n",
       "9                                     Semiconductors          1250500.0   \n",
       "\n",
       "      status country_code state_code       region             city  \\\n",
       "0  operating          CHE         25       Zurich           Zürich   \n",
       "1  operating          USA         CA  SF Bay Area     Redwood City   \n",
       "2  operating          USA         CA  SF Bay Area         San Jose   \n",
       "3  operating          NaN        NaN          NaN              NaN   \n",
       "4  operating          USA         VA   VA - Other          Bristol   \n",
       "5  operating          USA         NJ       Newark        Princeton   \n",
       "6  operating          USA         CA  SF Bay Area     Redwood City   \n",
       "7  operating          USA         TX      Houston          Houston   \n",
       "8  operating          USA         CA  SF Bay Area          Fremont   \n",
       "9  operating          USA         TX       Austin  College Station   \n",
       "\n",
       "   funding_rounds founded_at first_funding_at last_funding_at closed_at  \n",
       "0               2 2009-12-31       2011-05-01      2014-12-01       NaN  \n",
       "1               4 2005-01-01       2010-05-04      2014-02-25       NaN  \n",
       "2               3 2006-01-01       2012-08-20      2014-07-02       NaN  \n",
       "3               3 2004-01-01       2011-09-01      2014-07-18       NaN  \n",
       "4               1 2010-09-30       2012-02-01      2012-02-01       NaN  \n",
       "5               1 2011-01-20       2012-11-12      2012-11-12       NaN  \n",
       "6               1 2000-01-01       2014-05-14      2014-05-14       NaN  \n",
       "7               1 2005-01-01       2014-11-09      2014-11-09       NaN  \n",
       "8               2 2003-01-01       2007-10-09      2011-04-20       NaN  \n",
       "9               2 2010-01-01       2011-08-23      2013-03-21       NaN  "
      ]
     },
     "metadata": {},
     "output_type": "display_data"
    },
    {
     "name": "stdout",
     "output_type": "stream",
     "text": [
      "<class 'pandas.core.frame.DataFrame'>\n",
      "RangeIndex: 52514 entries, 0 to 52513\n",
      "Data columns (total 13 columns):\n",
      " #   Column             Non-Null Count  Dtype         \n",
      "---  ------             --------------  -----         \n",
      " 0   name               52513 non-null  object        \n",
      " 1   category_list      50049 non-null  object        \n",
      " 2   funding_total_usd  42445 non-null  float64       \n",
      " 3   status             52514 non-null  object        \n",
      " 4   country_code       47013 non-null  object        \n",
      " 5   state_code         45752 non-null  object        \n",
      " 6   region             46156 non-null  object        \n",
      " 7   city               46156 non-null  object        \n",
      " 8   funding_rounds     52514 non-null  int64         \n",
      " 9   founded_at         52514 non-null  datetime64[ns]\n",
      " 10  first_funding_at   52514 non-null  datetime64[ns]\n",
      " 11  last_funding_at    52514 non-null  datetime64[ns]\n",
      " 12  closed_at          4915 non-null   object        \n",
      "dtypes: datetime64[ns](3), float64(1), int64(1), object(8)\n",
      "memory usage: 5.2+ MB\n"
     ]
    }
   ],
   "source": [
    "display(df_train.head(10))\n",
    "df_train.info()"
   ]
  },
  {
   "cell_type": "code",
   "execution_count": 16,
   "id": "3d7a99f1",
   "metadata": {
    "ExecuteTime": {
     "end_time": "2024-06-16T21:05:03.513587Z",
     "start_time": "2024-06-16T21:05:03.499079Z"
    }
   },
   "outputs": [
    {
     "data": {
      "text/plain": [
       "5501"
      ]
     },
     "execution_count": 16,
     "metadata": {},
     "output_type": "execute_result"
    }
   ],
   "source": [
    "missing_all = df_train[['country_code', 'state_code', 'region', 'city']].isna().all(axis=1).sum()\n",
    "missing_all"
   ]
  },
  {
   "cell_type": "markdown",
   "id": "a3ae69ac",
   "metadata": {},
   "source": [
    "Выведем первые 10 строчек DataFrame `df_test` и общую информацию о них"
   ]
  },
  {
   "cell_type": "code",
   "execution_count": 17,
   "id": "46361b3a",
   "metadata": {
    "ExecuteTime": {
     "end_time": "2024-06-16T21:05:03.545608Z",
     "start_time": "2024-06-16T21:05:03.514588Z"
    }
   },
   "outputs": [
    {
     "data": {
      "text/html": [
       "<div>\n",
       "<style scoped>\n",
       "    .dataframe tbody tr th:only-of-type {\n",
       "        vertical-align: middle;\n",
       "    }\n",
       "\n",
       "    .dataframe tbody tr th {\n",
       "        vertical-align: top;\n",
       "    }\n",
       "\n",
       "    .dataframe thead th {\n",
       "        text-align: right;\n",
       "    }\n",
       "</style>\n",
       "<table border=\"1\" class=\"dataframe\">\n",
       "  <thead>\n",
       "    <tr style=\"text-align: right;\">\n",
       "      <th></th>\n",
       "      <th>name</th>\n",
       "      <th>category_list</th>\n",
       "      <th>funding_total_usd</th>\n",
       "      <th>country_code</th>\n",
       "      <th>state_code</th>\n",
       "      <th>region</th>\n",
       "      <th>city</th>\n",
       "      <th>funding_rounds</th>\n",
       "      <th>founded_at</th>\n",
       "      <th>first_funding_at</th>\n",
       "      <th>last_funding_at</th>\n",
       "      <th>lifetime</th>\n",
       "    </tr>\n",
       "  </thead>\n",
       "  <tbody>\n",
       "    <tr>\n",
       "      <th>0</th>\n",
       "      <td>Crystalsol</td>\n",
       "      <td>Clean Technology</td>\n",
       "      <td>2819200.0</td>\n",
       "      <td>NIC</td>\n",
       "      <td>17</td>\n",
       "      <td>NaN</td>\n",
       "      <td>NaN</td>\n",
       "      <td>1</td>\n",
       "      <td>2008-06-01</td>\n",
       "      <td>2009-07-01</td>\n",
       "      <td>2009-07-01</td>\n",
       "      <td>3501</td>\n",
       "    </tr>\n",
       "    <tr>\n",
       "      <th>1</th>\n",
       "      <td>JBI Fish &amp; Wings</td>\n",
       "      <td>Hospitality</td>\n",
       "      <td>NaN</td>\n",
       "      <td>USA</td>\n",
       "      <td>TN</td>\n",
       "      <td>TN - Other</td>\n",
       "      <td>Humboldt</td>\n",
       "      <td>1</td>\n",
       "      <td>2010-07-25</td>\n",
       "      <td>2010-07-28</td>\n",
       "      <td>2010-07-28</td>\n",
       "      <td>2717</td>\n",
       "    </tr>\n",
       "    <tr>\n",
       "      <th>2</th>\n",
       "      <td>COINPLUS</td>\n",
       "      <td>Finance</td>\n",
       "      <td>428257.0</td>\n",
       "      <td>LUX</td>\n",
       "      <td>3</td>\n",
       "      <td>Esch-sur-alzette</td>\n",
       "      <td>Esch-sur-alzette</td>\n",
       "      <td>2</td>\n",
       "      <td>2014-06-16</td>\n",
       "      <td>2014-05-15</td>\n",
       "      <td>2014-09-18</td>\n",
       "      <td>1295</td>\n",
       "    </tr>\n",
       "    <tr>\n",
       "      <th>3</th>\n",
       "      <td>Imagine Communications</td>\n",
       "      <td>Software|Video|Video Streaming</td>\n",
       "      <td>34700000.0</td>\n",
       "      <td>USA</td>\n",
       "      <td>CA</td>\n",
       "      <td>San Diego</td>\n",
       "      <td>San Diego</td>\n",
       "      <td>4</td>\n",
       "      <td>2005-01-01</td>\n",
       "      <td>2005-01-01</td>\n",
       "      <td>2010-04-20</td>\n",
       "      <td>4748</td>\n",
       "    </tr>\n",
       "    <tr>\n",
       "      <th>4</th>\n",
       "      <td>DNA13</td>\n",
       "      <td>Software</td>\n",
       "      <td>4530000.0</td>\n",
       "      <td>CAN</td>\n",
       "      <td>ON</td>\n",
       "      <td>Ottawa</td>\n",
       "      <td>Ottawa</td>\n",
       "      <td>1</td>\n",
       "      <td>2001-01-01</td>\n",
       "      <td>2007-05-08</td>\n",
       "      <td>2007-05-08</td>\n",
       "      <td>6209</td>\n",
       "    </tr>\n",
       "    <tr>\n",
       "      <th>5</th>\n",
       "      <td>Quickfire Games</td>\n",
       "      <td>Design|Entertainment|Games</td>\n",
       "      <td>160000.0</td>\n",
       "      <td>NaN</td>\n",
       "      <td>NaN</td>\n",
       "      <td>NaN</td>\n",
       "      <td>NaN</td>\n",
       "      <td>2</td>\n",
       "      <td>2013-09-01</td>\n",
       "      <td>2013-09-18</td>\n",
       "      <td>2014-09-18</td>\n",
       "      <td>1583</td>\n",
       "    </tr>\n",
       "    <tr>\n",
       "      <th>6</th>\n",
       "      <td>Sente Inc.</td>\n",
       "      <td>Biotechnology</td>\n",
       "      <td>26842000.0</td>\n",
       "      <td>USA</td>\n",
       "      <td>CA</td>\n",
       "      <td>San Diego</td>\n",
       "      <td>Encinitas</td>\n",
       "      <td>5</td>\n",
       "      <td>2007-01-01</td>\n",
       "      <td>2009-01-31</td>\n",
       "      <td>2014-06-02</td>\n",
       "      <td>4018</td>\n",
       "    </tr>\n",
       "    <tr>\n",
       "      <th>7</th>\n",
       "      <td>Triosyn</td>\n",
       "      <td>Health Care|Medical|Therapeutics</td>\n",
       "      <td>4000000.0</td>\n",
       "      <td>NaN</td>\n",
       "      <td>NaN</td>\n",
       "      <td>NaN</td>\n",
       "      <td>NaN</td>\n",
       "      <td>1</td>\n",
       "      <td>2002-07-22</td>\n",
       "      <td>2003-06-02</td>\n",
       "      <td>2003-06-02</td>\n",
       "      <td>5642</td>\n",
       "    </tr>\n",
       "    <tr>\n",
       "      <th>8</th>\n",
       "      <td>Urgent.ly</td>\n",
       "      <td>Software</td>\n",
       "      <td>8710000.0</td>\n",
       "      <td>USA</td>\n",
       "      <td>VA</td>\n",
       "      <td>Washington, D.C.</td>\n",
       "      <td>Sterling</td>\n",
       "      <td>3</td>\n",
       "      <td>2013-01-01</td>\n",
       "      <td>2014-04-17</td>\n",
       "      <td>2015-09-29</td>\n",
       "      <td>1826</td>\n",
       "    </tr>\n",
       "    <tr>\n",
       "      <th>9</th>\n",
       "      <td>Map Decisions</td>\n",
       "      <td>Software</td>\n",
       "      <td>13200.0</td>\n",
       "      <td>USA</td>\n",
       "      <td>PA</td>\n",
       "      <td>Allentown</td>\n",
       "      <td>Bethlehem</td>\n",
       "      <td>1</td>\n",
       "      <td>2012-05-15</td>\n",
       "      <td>2013-08-09</td>\n",
       "      <td>2013-08-09</td>\n",
       "      <td>2057</td>\n",
       "    </tr>\n",
       "  </tbody>\n",
       "</table>\n",
       "</div>"
      ],
      "text/plain": [
       "                     name                     category_list  \\\n",
       "0              Crystalsol                  Clean Technology   \n",
       "1        JBI Fish & Wings                       Hospitality   \n",
       "2                COINPLUS                           Finance   \n",
       "3  Imagine Communications    Software|Video|Video Streaming   \n",
       "4                   DNA13                          Software   \n",
       "5         Quickfire Games        Design|Entertainment|Games   \n",
       "6              Sente Inc.                     Biotechnology   \n",
       "7                 Triosyn  Health Care|Medical|Therapeutics   \n",
       "8               Urgent.ly                          Software   \n",
       "9           Map Decisions                          Software   \n",
       "\n",
       "   funding_total_usd country_code state_code            region  \\\n",
       "0          2819200.0          NIC         17               NaN   \n",
       "1                NaN          USA         TN        TN - Other   \n",
       "2           428257.0          LUX          3  Esch-sur-alzette   \n",
       "3         34700000.0          USA         CA         San Diego   \n",
       "4          4530000.0          CAN         ON            Ottawa   \n",
       "5           160000.0          NaN        NaN               NaN   \n",
       "6         26842000.0          USA         CA         San Diego   \n",
       "7          4000000.0          NaN        NaN               NaN   \n",
       "8          8710000.0          USA         VA  Washington, D.C.   \n",
       "9            13200.0          USA         PA         Allentown   \n",
       "\n",
       "               city  funding_rounds founded_at first_funding_at  \\\n",
       "0               NaN               1 2008-06-01       2009-07-01   \n",
       "1          Humboldt               1 2010-07-25       2010-07-28   \n",
       "2  Esch-sur-alzette               2 2014-06-16       2014-05-15   \n",
       "3         San Diego               4 2005-01-01       2005-01-01   \n",
       "4            Ottawa               1 2001-01-01       2007-05-08   \n",
       "5               NaN               2 2013-09-01       2013-09-18   \n",
       "6         Encinitas               5 2007-01-01       2009-01-31   \n",
       "7               NaN               1 2002-07-22       2003-06-02   \n",
       "8          Sterling               3 2013-01-01       2014-04-17   \n",
       "9         Bethlehem               1 2012-05-15       2013-08-09   \n",
       "\n",
       "  last_funding_at  lifetime  \n",
       "0      2009-07-01      3501  \n",
       "1      2010-07-28      2717  \n",
       "2      2014-09-18      1295  \n",
       "3      2010-04-20      4748  \n",
       "4      2007-05-08      6209  \n",
       "5      2014-09-18      1583  \n",
       "6      2014-06-02      4018  \n",
       "7      2003-06-02      5642  \n",
       "8      2015-09-29      1826  \n",
       "9      2013-08-09      2057  "
      ]
     },
     "metadata": {},
     "output_type": "display_data"
    },
    {
     "name": "stdout",
     "output_type": "stream",
     "text": [
      "<class 'pandas.core.frame.DataFrame'>\n",
      "RangeIndex: 13125 entries, 0 to 13124\n",
      "Data columns (total 12 columns):\n",
      " #   Column             Non-Null Count  Dtype         \n",
      "---  ------             --------------  -----         \n",
      " 0   name               13125 non-null  object        \n",
      " 1   category_list      12534 non-null  object        \n",
      " 2   funding_total_usd  10547 non-null  float64       \n",
      " 3   country_code       11743 non-null  object        \n",
      " 4   state_code         11430 non-null  object        \n",
      " 5   region             11536 non-null  object        \n",
      " 6   city               11538 non-null  object        \n",
      " 7   funding_rounds     13125 non-null  int64         \n",
      " 8   founded_at         13125 non-null  datetime64[ns]\n",
      " 9   first_funding_at   13125 non-null  datetime64[ns]\n",
      " 10  last_funding_at    13125 non-null  datetime64[ns]\n",
      " 11  lifetime           13125 non-null  int64         \n",
      "dtypes: datetime64[ns](3), float64(1), int64(2), object(6)\n",
      "memory usage: 1.2+ MB\n"
     ]
    }
   ],
   "source": [
    "display(df_test.head(10))\n",
    "df_test.info()"
   ]
  },
  {
   "cell_type": "markdown",
   "id": "57664778",
   "metadata": {},
   "source": [
    "**Согласно полученной информации в данных `df_train` мы имеем 13 столбцов:**\n",
    "- *`name`* — уникальный идентификатор сотрудника.\n",
    "- *`category_list      `* — Список категорий, к которым относится стартап.\n",
    "- *`funding_total_usd  `* — Общая сумма финансирования в USD.\n",
    "- *`status             `* — Статус стартапа (закрыт или действующий). Таргет\n",
    "- *`country_code       `* — Код страны.\n",
    "- *`state_code         `* — Код штата.\n",
    "- *`region             `* — Регион.\n",
    "- *`city               `* — Город.\n",
    "- *`funding_rounds     `* — Количество раундов финансирования.\n",
    "- *`founded_at         `* — Дата основания.\n",
    "- *`first_funding_at   `* — Дата первого раунда финансирования.\n",
    "- *`last_funding_at    `* — Дата последнего раунда финансирования.\n",
    "- *`closed_at          `* — Дата закрытия стартапа."
   ]
  },
  {
   "cell_type": "markdown",
   "id": "72de5864",
   "metadata": {},
   "source": [
    "**Согласно полученной информации в данных `df_test` мы имеем 12 столбцов:**\n",
    "- *`name`* — уникальный идентификатор сотрудника.\n",
    "- *`category_list      `* — Список категорий, к которым относится стартап.\n",
    "- *`funding_total_usd  `* — Общая сумма финансирования в USD.\n",
    "- *`country_code       `* — Код страны.\n",
    "- *`state_code         `* — Код штата.\n",
    "- *`region             `* — Регион.\n",
    "- *`city               `* — Город.\n",
    "- *`funding_rounds     `* — Количество раундов финансирования.\n",
    "- *`founded_at         `* — Дата основания.\n",
    "- *`first_funding_at   `* — Дата первого раунда финансирования.\n",
    "- *`last_funding_at    `* — Дата последнего раунда финансирования.\n",
    "- *`lifetime           `* — Время существования стартапа в днях."
   ]
  },
  {
   "cell_type": "markdown",
   "id": "19595607",
   "metadata": {},
   "source": [
    "Итак, мы имее следующие тип данных:\n",
    "- `int` - 2 переменных;\n",
    "- `float` - 1 переменную;\n",
    "- `object` - 6 переменных;\n",
    "- `datetime64` - 3 переменных;\n",
    "\n",
    "Количество значений в столбцах различается, значит, в данных есть пропущенные значения.\n",
    "Названия столбцов имеют коректный формат.\n",
    "В тестовых данных присутсвует столбец `lifetime` а в тренировочном нет. При этом необходимо эти данные внести в тренировочный датасет, при это исключить утечку данных, путем удалении столбца `closed_at`"
   ]
  },
  {
   "cell_type": "markdown",
   "id": "53ec55cb",
   "metadata": {},
   "source": [
    "Бегло взгянем на данные"
   ]
  },
  {
   "cell_type": "code",
   "execution_count": 18,
   "id": "dbd96f32",
   "metadata": {
    "ExecuteTime": {
     "end_time": "2024-06-16T21:05:05.290538Z",
     "start_time": "2024-06-16T21:05:03.546587Z"
    },
    "scrolled": false
   },
   "outputs": [
    {
     "data": {
      "image/png": "[encoded data removed]",
      "text/plain": [
       "<Figure size 1500x1200 with 6 Axes>"
      ]
     },
     "metadata": {},
     "output_type": "display_data"
    },
    {
     "name": "stdout",
     "output_type": "stream",
     "text": [
      "-----------------------------------------------------------------------------------------------------------------------------\n"
     ]
    },
    {
     "data": {
      "image/png": "[encoded data removed]",
      "text/plain": [
       "<Figure size 1500x1200 with 6 Axes>"
      ]
     },
     "metadata": {},
     "output_type": "display_data"
    },
    {
     "name": "stdout",
     "output_type": "stream",
     "text": [
      "-----------------------------------------------------------------------------------------------------------------------------\n"
     ]
    }
   ],
   "source": [
    "for name in df_names:\n",
    "    df_train.hist(figsize=(15, 12), bins=12)\n",
    "    # Добавляем заголовок графика\n",
    "    plt.suptitle(f'Гистограммы признаков {name}', fontsize=16)\n",
    "\n",
    "    # Добавляем подписи к осям x и y для каждой гистограммы\n",
    "    for ax in plt.gcf().get_axes():\n",
    "        ax.set_xlabel('Значения')\n",
    "        ax.set_ylabel('Частота')\n",
    "    plt.show()\n",
    "    print(LINE_1)"
   ]
  },
  {
   "cell_type": "code",
   "execution_count": 19,
   "id": "0e996073",
   "metadata": {
    "ExecuteTime": {
     "end_time": "2024-06-16T21:05:06.092879Z",
     "start_time": "2024-06-16T21:05:05.292545Z"
    }
   },
   "outputs": [
    {
     "data": {
      "image/png": "[encoded data removed]",
      "text/plain": [
       "<Figure size 1500x1200 with 6 Axes>"
      ]
     },
     "metadata": {},
     "output_type": "display_data"
    }
   ],
   "source": [
    "df_train.hist(figsize=(15, 12), bins=12)\n",
    "# Добавляем заголовок графика\n",
    "plt.suptitle('Гистограммы признаков', fontsize=16)\n",
    "\n",
    "# Добавляем подписи к осям x и y для каждой гистограммы\n",
    "for ax in plt.gcf().get_axes():\n",
    "    ax.set_xlabel('Значения')\n",
    "    ax.set_ylabel('Частота')\n",
    "plt.show()"
   ]
  },
  {
   "cell_type": "code",
   "execution_count": 20,
   "id": "0f3432ab",
   "metadata": {
    "ExecuteTime": {
     "end_time": "2024-06-16T21:05:07.209628Z",
     "start_time": "2024-06-16T21:05:06.093769Z"
    },
    "scrolled": false
   },
   "outputs": [
    {
     "data": {
      "image/png": "[encoded data removed]",
      "text/plain": [
       "<Figure size 1200x400 with 1 Axes>"
      ]
     },
     "metadata": {},
     "output_type": "display_data"
    },
    {
     "data": {
      "image/png": "[encoded data removed]",
      "text/plain": [
       "<Figure size 1200x400 with 1 Axes>"
      ]
     },
     "metadata": {},
     "output_type": "display_data"
    },
    {
     "data": {
      "image/png": "[encoded data removed]",
      "text/plain": [
       "<Figure size 1200x400 with 1 Axes>"
      ]
     },
     "metadata": {},
     "output_type": "display_data"
    }
   ],
   "source": [
    "# Визуализируем дискретные данные\n",
    "discrete_columns = df_train[['status', 'funding_rounds', 'country_code']].columns\n",
    "for column in discrete_columns:\n",
    "    plt.figure(figsize=(12, 4))\n",
    "    sns.countplot(x=column, data=df_train)\n",
    "    plt.title(f'Распределение {column}')\n",
    "    plt.xlabel('Значения')\n",
    "    plt.ylabel('Частота')\n",
    "    plt.xticks(rotation=90)\n",
    "    plt.show()"
   ]
  },
  {
   "cell_type": "code",
   "execution_count": 21,
   "id": "8cb7a033",
   "metadata": {
    "ExecuteTime": {
     "end_time": "2024-06-16T21:05:08.139051Z",
     "start_time": "2024-06-16T21:05:07.210627Z"
    },
    "scrolled": false
   },
   "outputs": [
    {
     "data": {
      "image/png": "[encoded data removed]",
      "text/plain": [
       "<Figure size 1200x400 with 1 Axes>"
      ]
     },
     "metadata": {},
     "output_type": "display_data"
    },
    {
     "data": {
      "image/png": "[encoded data removed]",
      "text/plain": [
       "<Figure size 1200x400 with 1 Axes>"
      ]
     },
     "metadata": {},
     "output_type": "display_data"
    }
   ],
   "source": [
    "# Визуализируем дискретные данные\n",
    "discrete_columns = df_test[['funding_rounds', 'country_code']].columns\n",
    "for column in discrete_columns:\n",
    "    plt.figure(figsize=(12, 4))\n",
    "    sns.countplot(x=column, data=df_train)\n",
    "    plt.title(f'Распределение {column}')\n",
    "    plt.xlabel('Значения')\n",
    "    plt.ylabel('Частота')\n",
    "    plt.xticks(rotation=90)\n",
    "    plt.show()"
   ]
  },
  {
   "cell_type": "markdown",
   "id": "fcc6948c",
   "metadata": {},
   "source": [
    "**ВЫВОД:**\n",
    "\n",
    "В первой главе проекта мы провели следующие действия.\n",
    "\n",
    "1. **Импорт библиотек и настройка графиков**: Были успешно импортированы все необходимые библиотеки для выполнения анализа данных, включая `pandas`, `numpy`, `matplotlib`, `seaborn`, и дополнительные библиотеки для анализа корреляций и визуализации данных. Установлены параметры для подавления предупреждений, что позволяет избежать ненужного вывода предупреждений во время работы.\n",
    "\n",
    "2. **Загрузка данных**: Данные успешно загружены из локальных файлов. Файлы содержат информацию о стартапах с различными атрибутами, такими как категория, общая сумма финансирования, статус, страна, город, даты финансирования и дата основания. В тренировочном наборе данных присутствует дополнительный столбец `closed_at`, которого нет в тестовом наборе.\n",
    "\n",
    "3. **Первичный анализ данных**: Проведён предварительный анализ структуры данных, включая проверку типов данных и наличие пропущенных значений. Обнаружено, что в данных есть пропущенные значения в нескольких столбцах, что потребует дальнейшей обработки.\n",
    "\n",
    "4. **Гистограммы признаков**: Гистограммы были созданы для визуализации распределений различных численных признаков. Это позволяет быстро оценить форму распределений и наличие возможных выбросов.\n",
    "\n",
    "5. **Визуализация дискретных данных**: Построены графики распределения для дискретных переменных, таких как статус стартапа, количество раундов финансирования и код страны. Эти визуализации помогают понять, какие категории наиболее часто встречаются в данных, что важно для понимания контекста данных и подготовки к моделированию. Для остальных столбцов не было построены гистограммы так как количество категорий в них слишком много, необходимо будет сгрупировать данные\n",
    "\n",
    "**Дальнейшие шаги**: На следующих этапах необходимо провести детальный анализ пропущенных значений и определить стратегии их обработки. Также важно будет рассмотреть возможности создания новых признаков, основанных на имеющихся данных, и провести детальный анализ мультиколлинеарности признаков, что поможет в оптимизации выбора модели и улучшении качества предсказаний."
   ]
  },
  {
   "cell_type": "markdown",
   "id": "459fc0c8",
   "metadata": {},
   "source": [
    "## Предобработка данных"
   ]
  },
  {
   "cell_type": "markdown",
   "id": "f12f8771",
   "metadata": {},
   "source": [
    "### Проверка на наличие ошибок и дубликатов в данных"
   ]
  },
  {
   "cell_type": "code",
   "execution_count": 22,
   "id": "2527f660",
   "metadata": {
    "ExecuteTime": {
     "end_time": "2024-06-16T21:05:08.202443Z",
     "start_time": "2024-06-16T21:05:08.140907Z"
    },
    "scrolled": true
   },
   "outputs": [
    {
     "name": "stdout",
     "output_type": "stream",
     "text": [
      "Количество явных дубликатов в df_train: 0\n",
      "Количество явных дубликатов в df_test: 0\n"
     ]
    }
   ],
   "source": [
    "# Подсчет количества явных дубликатов\n",
    "for i in range(len(df)):\n",
    "    print(f'Количество явных дубликатов в {df_names[i]}: {df[i].duplicated().sum()}')"
   ]
  },
  {
   "cell_type": "markdown",
   "id": "09f4c4c9",
   "metadata": {},
   "source": [
    "Явных дубликатов не найдено."
   ]
  },
  {
   "cell_type": "markdown",
   "id": "606766de",
   "metadata": {},
   "source": [
    "Определим наличие ошибок в данных (неявные дубликаты) для столбцов с типом `object`"
   ]
  },
  {
   "cell_type": "code",
   "execution_count": 23,
   "id": "c167bc17",
   "metadata": {
    "ExecuteTime": {
     "end_time": "2024-06-16T21:05:08.421978Z",
     "start_time": "2024-06-16T21:05:08.203422Z"
    }
   },
   "outputs": [
    {
     "name": "stdout",
     "output_type": "stream",
     "text": [
      "\n",
      "Уникальные значения для: df_train\n",
      "Столбец \"name\": ['#BratPackStyle, LLC.' '#fame' '&TV Communications' ... '\\u200bWestEd'\n",
      " '吃神马 ChiShenMa' nan]\n",
      "Столбец \"category_list\": ['3D' '3D Printing' '3D Printing|3D Technology' ... 'mHealth|Software'\n",
      " 'mHealth|Software|Therapeutics' nan]\n",
      "Столбец \"status\": ['closed' 'operating']\n",
      "Столбец \"country_code\": ['ALB' 'ARE' 'ARG' 'ARM' 'AUS' 'AUT' 'AZE' 'BAH' 'BEL' 'BGD' 'BGR' 'BHR'\n",
      " 'BLM' 'BLR' 'BLZ' 'BMU' 'BRA' 'BRN' 'BWA' 'CAN' 'CHE' 'CHL' 'CHN' 'CMR'\n",
      " 'COL' 'CRI' 'CYM' 'CYP' 'CZE' 'DEU' 'DNK' 'DOM' 'DZA' 'ECU' 'EGY' 'ESP'\n",
      " 'EST' 'FIN' 'FRA' 'GBR' 'GEO' 'GGY' 'GHA' 'GIB' 'GRC' 'GRD' 'GTM' 'HKG'\n",
      " 'HND' 'HRV' 'HUN' 'IDN' 'IND' 'IRL' 'IRN' 'ISL' 'ISR' 'ITA' 'JAM' 'JEY'\n",
      " 'JOR' 'JPN' 'KAZ' 'KEN' 'KHM' 'KNA' 'KOR' 'KWT' 'LAO' 'LBN' 'LIE' 'LKA'\n",
      " 'LTU' 'LUX' 'LVA' 'MAF' 'MAR' 'MCO' 'MDA' 'MEX' 'MKD' 'MLT' 'MMR' 'MNE'\n",
      " 'MOZ' 'MUS' 'MYS' 'NGA' 'NIC' 'NLD' 'NOR' 'NPL' 'NZL' 'OMN' 'PAK' 'PAN'\n",
      " 'PER' 'PHL' 'POL' 'PRI' 'PRT' 'PRY' 'PSE' 'QAT' 'ROM' 'RUS' 'RWA' 'SAU'\n",
      " 'SEN' 'SGP' 'SLV' 'SOM' 'SRB' 'SVK' 'SVN' 'SWE' 'SYC' 'TAN' 'TGO' 'THA'\n",
      " 'TTO' 'TUN' 'TUR' 'TWN' 'UGA' 'UKR' 'URY' 'USA' 'UZB' 'VEN' 'VNM' 'ZAF'\n",
      " 'ZMB' 'ZWE' nan]\n",
      "Столбец \"state_code\": ['1' '10' '11' '12' '13' '14' '15' '16' '17' '18' '19' '2' '20' '21' '22'\n",
      " '23' '24' '25' '26' '27' '28' '29' '3' '30' '31' '32' '33' '34' '35' '36'\n",
      " '37' '38' '39' '4' '40' '41' '42' '43' '44' '45' '46' '47' '48' '49' '5'\n",
      " '50' '51' '52' '53' '54' '55' '56' '57' '58' '59' '6' '60' '61' '62' '65'\n",
      " '66' '68' '7' '71' '72' '73' '77' '78' '8' '81' '82' '83' '86' '87' '88'\n",
      " '89' '9' '90' '91' '97' '98' '99' 'A1' 'A2' 'A3' 'A4' 'A5' 'A6' 'A7' 'A8'\n",
      " 'A9' 'AB' 'AK' 'AL' 'AR' 'AZ' 'B1' 'B2' 'B3' 'B4' 'B5' 'B6' 'B7' 'B8'\n",
      " 'B9' 'BC' 'C1' 'C3' 'C5' 'C6' 'C7' 'C8' 'C9' 'CA' 'CO' 'CT' 'D2' 'D3'\n",
      " 'D4' 'D5' 'D6' 'D7' 'D8' 'D9' 'DC' 'DE' 'E1' 'E2' 'E3' 'E4' 'E5' 'E6'\n",
      " 'E7' 'E8' 'E9' 'F1' 'F2' 'F4' 'F5' 'F7' 'F8' 'F9' 'FL' 'G1' 'G2' 'G3'\n",
      " 'G5' 'G7' 'G8' 'GA' 'GU' 'H2' 'H3' 'H4' 'H5' 'H7' 'H8' 'H9' 'HI' 'I2'\n",
      " 'I4' 'I5' 'I6' 'I7' 'I9' 'IA' 'ID' 'IL' 'IN' 'J1' 'J2' 'J3' 'J4' 'J6'\n",
      " 'J7' 'J8' 'J9' 'K2' 'K3' 'K4' 'K7' 'K8' 'KS' 'KY' 'L1' 'L3' 'L6' 'L7'\n",
      " 'L8' 'L9' 'LA' 'M2' 'M3' 'M4' 'M5' 'M8' 'M9' 'MA' 'MB' 'MD' 'ME' 'MI'\n",
      " 'MN' 'MO' 'MS' 'MT' 'N1' 'N2' 'N3' 'N4' 'N5' 'N7' 'NB' 'NC' 'ND' 'NE'\n",
      " 'NH' 'NJ' 'NL' 'NM' 'NS' 'NU' 'NV' 'NY' 'O1' 'O2' 'OH' 'OK' 'ON' 'OR'\n",
      " 'P1' 'P2' 'P3' 'P4' 'P5' 'P6' 'P8' 'P9' 'PA' 'PE' 'Q1' 'Q2' 'Q3' 'Q4'\n",
      " 'Q5' 'Q6' 'QC' 'R3' 'R6' 'RI' 'SC' 'SD' 'SK' 'T5' 'T6' 'T7' 'T8' 'TN'\n",
      " 'TX' 'U1' 'U3' 'U6' 'U8' 'UT' 'V1' 'V2' 'V3' 'V5' 'V6' 'V7' 'V8' 'VA'\n",
      " 'VI' 'VT' 'W1' 'W2' 'W4' 'W5' 'W6' 'W9' 'WA' 'WI' 'WV' 'WY' 'X1' 'X2'\n",
      " 'X3' 'X4' 'X5' 'X7' 'Y1' 'Y2' 'Y4' 'Y5' 'Y6' 'Y7' 'Y9' 'Z1' 'Z7' 'Z8' nan]\n",
      "Столбец \"region\": ['A Coruna' 'AB - Other' 'AK - Other' ... 'Ã‡an' 'Ã‰vry' nan]\n",
      "Столбец \"city\": [\"'s-hertogenbosch\" 'A Coruña' 'Aachen' ... 'Ísafjörður' 'Örnsköldsvik'\n",
      " nan]\n",
      "Столбец \"closed_at\": ['1983-12-19' '1984-03-25' '1984-06-06' ... '2017-11-06' '2017-11-12' nan]\n",
      "\n",
      "Уникальные значения для: df_test\n",
      "Столбец \"name\": ['#HASHOFF' '#waywire' '(THE) ONE of THEM,Inc.' ... 'zipMoney Payments'\n",
      " 'zipcodemailer.com' 'İş kutusu video ajansı']\n",
      "Столбец \"category_list\": ['3D Printing' '3D Printing|3D Technology|Printing'\n",
      " '3D Printing|Art|Curated Web|Design|E-Commerce|Fashion|Jewelry|Marketplaces|Publishing'\n",
      " ... 'iPhone|Mobile|Social Media' 'iPhone|Mobile|Venture Capital' nan]\n",
      "Столбец \"country_code\": ['ARE' 'ARG' 'AUS' 'AUT' 'AZE' 'BEL' 'BGD' 'BGR' 'BHR' 'BLR' 'BMU' 'BRA'\n",
      " 'BRB' 'BWA' 'CAN' 'CHE' 'CHL' 'CHN' 'CIV' 'CMR' 'COL' 'CRI' 'CYM' 'CYP'\n",
      " 'CZE' 'DEU' 'DMA' 'DNK' 'ECU' 'EGY' 'ESP' 'EST' 'FIN' 'FRA' 'GBR' 'GHA'\n",
      " 'GRC' 'GTM' 'HKG' 'HRV' 'HUN' 'IDN' 'IND' 'IRL' 'ISL' 'ISR' 'ITA' 'JAM'\n",
      " 'JOR' 'JPN' 'KEN' 'KOR' 'LBN' 'LKA' 'LTU' 'LUX' 'LVA' 'MEX' 'MKD' 'MMR'\n",
      " 'MUS' 'MYS' 'NGA' 'NIC' 'NLD' 'NOR' 'NZL' 'PAK' 'PAN' 'PER' 'PHL' 'POL'\n",
      " 'PRT' 'PSE' 'ROM' 'RUS' 'SAU' 'SGP' 'SRB' 'SVK' 'SVN' 'SWE' 'TAN' 'THA'\n",
      " 'TTO' 'TUR' 'TWN' 'UGA' 'UKR' 'URY' 'USA' 'VEN' 'VNM' 'ZAF' 'ZMB' 'ZWE'\n",
      " nan]\n",
      "Столбец \"state_code\": ['1' '10' '11' '12' '13' '14' '15' '16' '17' '18' '19' '2' '20' '21' '22'\n",
      " '23' '24' '25' '26' '27' '28' '29' '3' '30' '31' '32' '34' '35' '36' '37'\n",
      " '38' '39' '4' '40' '41' '42' '46' '48' '5' '51' '52' '53' '56' '58' '59'\n",
      " '6' '60' '61' '65' '66' '68' '7' '71' '72' '73' '75' '77' '78' '79' '8'\n",
      " '81' '82' '83' '86' '87' '89' '9' '90' '97' '99' 'A2' 'A3' 'A4' 'A5' 'A6'\n",
      " 'A7' 'A8' 'A9' 'AB' 'AK' 'AL' 'AR' 'AZ' 'B1' 'B3' 'B4' 'B5' 'B6' 'B7'\n",
      " 'B8' 'B9' 'BC' 'C2' 'C3' 'C5' 'C6' 'C7' 'C8' 'C9' 'CA' 'CO' 'CT' 'D2'\n",
      " 'D4' 'D6' 'D8' 'D9' 'DC' 'DE' 'E2' 'E4' 'E5' 'E6' 'E7' 'E9' 'F2' 'F4'\n",
      " 'F7' 'F8' 'F9' 'FL' 'G1' 'G2' 'G4' 'G5' 'G7' 'G8' 'GA' 'H2' 'H3' 'H4'\n",
      " 'H7' 'H8' 'H9' 'HI' 'I2' 'I5' 'I6' 'I7' 'I9' 'IA' 'ID' 'IL' 'IN' 'J1'\n",
      " 'J5' 'J7' 'J8' 'J9' 'K2' 'K7' 'KS' 'KY' 'L1' 'L3' 'L9' 'LA' 'M3' 'M4'\n",
      " 'M9' 'MA' 'MB' 'MD' 'ME' 'MI' 'MN' 'MO' 'MS' 'MT' 'N2' 'N4' 'N5' 'N7'\n",
      " 'NB' 'NC' 'ND' 'NE' 'NH' 'NJ' 'NL' 'NM' 'NS' 'NV' 'NY' 'O3' 'OH' 'OK'\n",
      " 'ON' 'OR' 'P2' 'P3' 'P4' 'P6' 'P8' 'PA' 'Q4' 'Q5' 'QC' 'R3' 'RI' 'SC'\n",
      " 'SD' 'SK' 'T5' 'T6' 'T7' 'T9' 'TN' 'TX' 'U3' 'U8' 'UT' 'V2' 'V8' 'V9'\n",
      " 'VA' 'VI' 'VT' 'W1' 'W3' 'W5' 'W9' 'WA' 'WE' 'WI' 'WV' 'WY' 'X4' 'X5'\n",
      " 'Y2' 'Y4' 'Y6' 'Y9' 'Z3' 'Z7' nan]\n",
      "Столбец \"region\": ['A Coruna' 'AB - Other' 'AK - Other' 'AL - Other' 'AR - Other'\n",
      " 'ARG - Other' 'AUS - Other' 'AUT - Other' 'AZ - Other' 'Aachen' 'Aalborg'\n",
      " 'Aarhus' 'Abbotsford' 'Aberdeen' 'Abu Dhabi' 'Abuja' 'Accra' 'Adelaide'\n",
      " 'Ahmedabad' 'Aix-en-provence' 'Akron - Canton' 'Albany, Georgia'\n",
      " 'Albany, New York' 'Albuquerque' 'Alexandria' 'Alicante' 'Allentown'\n",
      " 'Alton Barnes' 'Amersham' 'Amman' 'Amsterdam' 'Anaheim' 'Anchorage'\n",
      " 'Ancona' 'Ankara' 'Annecy' 'Antwerp' 'Asheville' 'Athens'\n",
      " 'Athens, Georgia' 'Atlanta' 'Atlantic City' 'Auckland' 'Augusta, Maine'\n",
      " 'Aurangabad' 'Austin' 'BC - Other' 'BEL - Other' 'BRA - Other'\n",
      " 'BRB - Other' 'Baar' 'Bahrain' 'Bakersfield' 'Baku' 'Ballerup'\n",
      " 'Baltimore' 'Bangalore' 'Bangkok' 'Barcelona' 'Basel' 'Bath'\n",
      " 'Baton Rouge' 'Beijing' 'Beirut' 'Belfast' 'Belgrade' 'Berlin' 'Bermuda'\n",
      " 'Bern' 'Bhubaneswar' 'Bilbao' 'Biloxi - Gulfport' 'Binton' 'Birmingham'\n",
      " 'Blackrock' 'Bochum' 'Bogota' 'Boise' 'Bologna' 'Bolton Upon Dearne'\n",
      " 'Bonn' 'Bordeaux' 'Bormujos' 'Boston' 'Boston Spa' 'Boulogne' 'Bozeman'\n",
      " 'Bradford' 'Branson' 'Brasilia' 'Bratislava' 'Braunschweig' 'Brentford'\n",
      " 'Brescia' 'Brisbane' 'Bristol' 'Bromsgrove' 'Brussels' 'Bucharest'\n",
      " 'Budapest' 'Buenos Aires' 'Buffalo' 'Bundangdong' 'Burleigh Heads'\n",
      " 'Burnaby' 'Busan' 'CA - Other' 'CHE - Other' 'CHL - Other' 'CHN - Other'\n",
      " 'CIV - Other' 'CMR - Other' 'CO - Other' 'COL - Other' 'CRI - Other'\n",
      " 'CT - Other' 'CYP - Other' 'CZE - Other' 'Cadiz' 'Caerphilly' 'Cagliari'\n",
      " 'Cairo' 'Calgary' 'Camberley' 'Camborne' 'Campinas' 'Canberra' 'Cannock'\n",
      " 'Cape Cod' 'Cape Town' 'Cardiff' 'Castelldefels' 'Cayman Islands'\n",
      " 'Cedar Rapids' \"Champagne-au-mont-d'or\" 'Charleston, South Carolina'\n",
      " 'Charlotte' 'Chattanooga' 'Cheltenham' 'Chemnitz' 'Chengdu' 'Chennai'\n",
      " 'Chester' 'Cheyenne' 'Chiasso' 'Chicago' 'Christchurch' 'Cincinnati'\n",
      " 'Cirencester' 'Cleveland' 'Cluj-Napoca' 'Cologne' 'Colorado Springs'\n",
      " 'Columbia, South Carolina' 'Columbus, Ohio' 'Copenhagen' 'Cordoba, ARG'\n",
      " 'Cork' 'Costa Rica' 'Coventry' 'Crook Of Devon' 'Curitiba' 'Cyprus'\n",
      " 'DE - Other' 'DEU - Other' 'DMA - Other' 'DNK - Other' 'Daejeon' 'Dallas'\n",
      " 'Daresbury' 'Davao' 'Dayton' 'Daytona Beach' 'Delhi' 'Delta' 'Denver'\n",
      " 'Derby' 'Des Moines' 'Detroit' 'Dhaka' 'Dnepropetrovsk' 'Dornbirn'\n",
      " 'Dorval' 'Douglas' 'Dover' 'Dresden' 'Dubai' 'Dublin' 'Duluth' 'Dundee'\n",
      " 'Durban' 'Dusseldrof' 'DÃºn Laoghaire' 'ECU - Other' 'EGY - Other'\n",
      " 'ESP - Other' 'EST - Other' 'Ecublens' 'Edinburgh' 'Edmonton' 'Eindhoven'\n",
      " 'El Paso' 'Elmira' 'Esch-sur-alzette' 'Essen' 'Eugene' 'FIN - Other'\n",
      " 'FL - Other' 'FRA - Other' 'Fargo' 'Farum' 'Fayetteville' 'Firenze'\n",
      " 'Florence' \"Florida's Space Coast\" \"Florida's Treasure Coast\"\n",
      " 'Fort Collins' 'Fort Myers' 'Fort Saskatchewan' 'Fort Wayne' 'Fortaleza'\n",
      " 'Foshan' 'Frankfurt' 'Freiburg' 'Frensham' 'Fresno' 'Ft. Lauderdale'\n",
      " 'Fukuoka' 'Fuzhou Shi' 'GA - Other' 'GBR - Other' 'GRC - Other'\n",
      " 'Gainesville' 'Gateshead' 'Gdynia' 'Geneva' 'Ghaziabad' 'Glasgow'\n",
      " 'Gothenburg' 'Grand Junction' 'Grand Rapids' 'Graz' 'Green Bay'\n",
      " 'Greensboro' 'Greenville - Spartanburg' 'Grenoble' 'Groningen'\n",
      " 'Guangdong' 'Guangzhou' 'Guatemala City' 'HKG - Other' 'Hagerstown'\n",
      " 'Haifa' 'Hainan' 'Halifax' 'Halmstad' 'Hamburg' 'Hangzhou' 'Hanoi'\n",
      " 'Harare' 'Harrisburg' 'Harrogate' 'Hartford' 'Haryana' 'Heathrow'\n",
      " 'Hellerup' 'Helsinki' 'Henley On Thames' 'Herisau' 'Herlev'\n",
      " 'Hilton Head Island' 'Ho Chi Minh' 'Holmes Chapel' 'Hong Kong' 'Honolulu'\n",
      " 'Houston' 'Hubli' 'Huddersfield' 'Huntsville' 'Hyderabad' 'HÃ¸rsholm'\n",
      " 'IA - Other' 'ID - Other' 'IDN - Other' 'IL - Other' 'IN - Other'\n",
      " 'IND - Other' 'IRL - Other' 'ISR - Other' 'ITA - Other' 'Iasi'\n",
      " 'Idaho Falls' 'Indianapolis' 'Istanbul' 'ItÃ¡' 'JAM - Other'\n",
      " 'JOR - Other' 'JPN - Other' 'Jackson' 'Jacksonville' 'Jaipur' 'Jakarta'\n",
      " 'Jeddah' 'Jena' 'Jerusalem' 'Johannesburg' 'JyvÃ¤skylÃ¤' 'KOR - Other'\n",
      " 'KS - Other' 'KY - Other' 'Kalamazoo' 'Kampala' 'Kansas City' 'Karachi'\n",
      " 'Katowice' 'Kauai' 'Kelowna' 'Kent' 'Kiev' 'Knoxville' 'Knutsford'\n",
      " 'Kochi' 'Kolding' 'Kolkata' 'Krakow' 'Kristiansand' 'Kuala Lumpur'\n",
      " 'Kunshan' 'Kuopio' 'LA - Other' 'LUX - Other' 'LabÃ¨ge'\n",
      " 'Lafayette, Louisiana' 'Lagos' 'Lahore' 'Lake Tahoe' 'Lancaster'\n",
      " 'Lansing' 'Las Vegas' 'Lausanne' 'Leamington Spa' 'Leeds' 'Leicester'\n",
      " 'Leipzig' 'Leonberg' 'Leudelange' 'Lexington' 'Lima' 'Linkoping'\n",
      " 'Linlithgow' 'Linz' 'Lisbon' 'Little Rock' 'Liverpool' 'Livingston'\n",
      " 'Ljubljana' 'Logrono' 'London' 'Long Island' 'Los Angeles' 'Louisville'\n",
      " 'Lubbock' 'Lugano' 'Luxemburg' 'Lyon' 'Lysaker' 'MA - Other' 'MD - Other'\n",
      " 'ME - Other' 'MEX - Other' 'MI - Other' 'MN - Other' 'MO - Other'\n",
      " 'MS - Other' 'MYS - Other' 'Macclesfield' 'Macon' 'Madison' 'Madrid'\n",
      " 'Magdeburg' 'Malaga' 'Malmo' 'Manchester' 'Manchester, New Hampshire'\n",
      " 'Manila' 'Maple Ridge' 'MaroÃºli' 'Marseille' 'Martinsried' 'Mauritius'\n",
      " 'Medellin' 'Melbourne' 'Memphis' 'Meridian' 'Mexico City' 'Miami'\n",
      " 'Middlesbrough' 'Milan' 'Milwaukee' 'Minneapolis' 'Minsk' 'Missoula'\n",
      " 'Mobile' 'Modena' 'Mohali' 'Moline - Davenport' 'Monterey' 'Monterrey'\n",
      " 'Montevideo' 'Montgomery' 'Montpelier' 'Montpellier' 'Montreal'\n",
      " 'Montreuil' 'Moscow' 'Mumbai' 'Munich' 'Myrtle Beach' 'NB - Other'\n",
      " 'NC - Other' 'ND - Other' 'NE - Other' 'NGA - Other' 'NH - Other'\n",
      " 'NJ - Other' 'NL - Other' 'NLD - Other' 'NM - Other' 'NOR - Other'\n",
      " 'NS - Other' 'NV - Other' 'NY - Other' 'NZL - Other' 'Nagpur' 'Nairobi'\n",
      " 'Nanjing' 'Nantes' 'Napa Valley' 'Naples, Florida' 'Napoli' 'Nashville'\n",
      " 'Netanya' 'New Bedford' 'New Delhi' 'New Orleans' 'New York City'\n",
      " 'Newark' 'Newbury' 'Newcastle' 'Newcastle Under Lyme' 'Newport' 'Nice'\n",
      " 'Nizhniy Novgorod' 'Norfolk - Virginia Beach' 'Northampton' 'Nottingham'\n",
      " 'Novosibirsk' 'NoÃ¡in' 'Nuremberg' 'OH - Other' 'ON - Other'\n",
      " 'Oberhaching' 'Odense' 'Odessa' 'Oklahoma City' 'Omaha'\n",
      " 'Ontario - Inland Empire' 'Orange County, California' 'Orlando' 'Orsay'\n",
      " 'Osaka' 'Oslo' 'Osnabruck' 'Ottawa' 'Oulu' 'Oviedo' 'Oxton' 'PA - Other'\n",
      " 'PAK - Other' 'PER - Other' 'PHL - Other' 'POL - Other' 'PRT - Other'\n",
      " 'Palm Beaches' 'Palm Springs' 'Palma De Mallorca' 'Palma Del RÃ\\xado'\n",
      " 'Panama City' 'Paris' 'Penang' 'Pensacola' 'Peoria' 'Perm' 'Perth'\n",
      " 'Philadelphia' 'Phoenix' 'Picardie' 'Pittsburgh' 'Poole'\n",
      " 'Portland, Maine' 'Portland, Oregon' 'Porto' 'Porto Alegre' 'Portsmouth'\n",
      " 'Poznan' 'Pozuelo De Alarcon' 'Prague' 'Providence' 'Pune' 'Puteaux'\n",
      " 'QC - Other' 'Quebec City' 'ROM - Other' 'RUS - Other' 'Raleigh' 'Recife'\n",
      " 'Regensburg' 'Reggio Nell Emilia' 'Reinach' 'Rennes' 'Reno - Sparks'\n",
      " 'Reyjavik' 'Richmond' 'Riga' 'Rimini' 'Rio de Janeiro' 'Roanoke'\n",
      " 'Rochester, Minnesota' 'Rochester, New York' 'Rockford' 'Rome' 'Roncade'\n",
      " 'Rotterdam' 'Roubaix' 'SC - Other' 'SF Bay Area' 'SK - Other'\n",
      " 'SRB - Other' 'SVK - Other' 'SVN - Other' 'SWE - Other' 'Saarbrucken'\n",
      " 'Sacramento' 'Sacramento Valley' 'Saint-denis-sur-loire' 'Salerno'\n",
      " 'Salisbury' 'Salt Lake City' 'San Antonio' 'San Diego' 'San Luis Obispo'\n",
      " 'San Sebastian ' 'San SebastiÃ¡n De Los Reyes' 'Sandnes' 'Santa Barbara'\n",
      " 'Santiago' 'Sao Paulo' 'Sarasota - Bradenton' 'Saskatoon' 'Scranton'\n",
      " 'Seattle' 'Secunderabad' 'Seongnam' 'Seoul' 'Seville' 'Shanghai'\n",
      " 'Sheffield' 'Shenyang' 'Shenzhen' 'Sheung Wan' 'Shreveport' 'Singapore'\n",
      " 'Sioux Falls' 'Skien' 'Skopje' 'Sligo' 'Snodland' 'Sofia' 'South Bend'\n",
      " 'South Grafton' 'Spokane' 'Springfield' 'Springfield, Illinois'\n",
      " 'Spruce Grove' 'Sri Lanka' 'St. Cloud' \"St. John's\" 'St. Louis'\n",
      " 'St. Petersburg' 'Stafford' 'Starnberg' 'State College' 'Stavanger'\n",
      " 'Stockholm' 'Stockport' 'Stoke-on-trent' 'Stratford-upon-avon'\n",
      " 'Stuttgart' 'Sunderland Bridge' 'Sundsvall' 'Surabaya' 'Surbiton'\n",
      " 'Surrey' 'Swindon' 'Sydney' 'Syracuse' 'Szczecin' 'SÃ¨te' 'THA - Other'\n",
      " 'TN - Other' 'TTO - Other' 'TX - Other' 'TZA - Other' 'Taiwan'\n",
      " 'Tallahassee' 'Tallinn' 'Tampa' 'Tampere' 'Tel Aviv' 'Terni' 'Thame'\n",
      " 'The Hague' 'Tianjin' 'Tokyo' 'Toledo' 'Toronto' 'Toulouse' 'Tralee'\n",
      " 'Traverse City' 'Trento' 'Trondheim' 'Tucson' 'Tulsa' 'Tunbridge Wells'\n",
      " 'Tupelo' 'Turin' 'Turku' 'UKR - Other' 'UT - Other' 'Ulm' 'Umea'\n",
      " 'Utrecht' 'VA - Other' 'VT - Other' 'Vadodara' 'Vail' 'Valby' 'Valencia'\n",
      " 'Vancouver' 'Vantaa' 'Vejle' 'Vellore' 'Venice' 'Verona' 'Vienna'\n",
      " 'Villeurbanne' 'Vilnius' 'WA - Other' 'WI - Other' 'WV - Other'\n",
      " 'WY - Other' 'Wan Chai' 'Warrington' 'Warsaw' 'Warwick'\n",
      " 'Washington, D.C.' 'Watford' 'Wellington' 'Westmount'\n",
      " 'Wilmington - Cape Fear, North Carolina' 'Wilmington, Delaware' 'Windsor'\n",
      " 'Winnipeg' 'Winston-Salem' 'Worcester' 'Wroclaw' 'Wuhan' 'Yangon'\n",
      " 'Yokohama' 'York' 'Youngstown' 'Yucatan' 'ZMB - Other' 'Zagreb'\n",
      " 'Zaragoza' 'Zhengzhou' 'Zurich' 'Ã‡an' nan]\n",
      "Столбец \"city\": [\"'s-hertogenbosch\" '6 October City' 'A Coruña' ... 'Çan' 'Évora' nan]\n"
     ]
    }
   ],
   "source": [
    "for i, dataframe in enumerate(df):\n",
    "    print(f'\\nУникальные значения для: {df_names[i]}')\n",
    "    for column in dataframe.columns:\n",
    "        if dataframe[column].dtype == 'object':\n",
    "            unique_values = dataframe[column].sort_values().unique()\n",
    "            print(f'Столбец \"{column}\": {unique_values}')"
   ]
  },
  {
   "cell_type": "code",
   "execution_count": 24,
   "id": "5fb15fbc",
   "metadata": {
    "ExecuteTime": {
     "end_time": "2024-06-16T21:05:08.468495Z",
     "start_time": "2024-06-16T21:05:08.423982Z"
    }
   },
   "outputs": [
    {
     "name": "stdout",
     "output_type": "stream",
     "text": [
      "-----------------------------------------------------------------------------------------------------------------------------\n",
      "В df_train:\n",
      "  - Количество уникальных значений в столбце 'name': 52513\n",
      "  - Количество уникальных значений в столбце 'category_list': 22108\n",
      "  - Количество уникальных значений в столбце 'funding_total_usd': 15551\n",
      "  - Количество уникальных значений в столбце 'status': 2\n",
      "  - Количество уникальных значений в столбце 'country_code': 134\n",
      "  - Количество уникальных значений в столбце 'state_code': 300\n",
      "  - Количество уникальных значений в столбце 'region': 1036\n",
      "  - Количество уникальных значений в столбце 'city': 4477\n",
      "  - Количество уникальных значений в столбце 'funding_rounds': 19\n",
      "  - Количество уникальных значений в столбце 'founded_at': 5401\n",
      "  - Количество уникальных значений в столбце 'first_funding_at': 4603\n",
      "  - Количество уникальных значений в столбце 'last_funding_at': 4305\n",
      "  - Количество уникальных значений в столбце 'closed_at': 3007\n",
      "\n",
      "-----------------------------------------------------------------------------------------------------------------------------\n",
      "В df_test:\n",
      "  - Количество уникальных значений в столбце 'name': 13125\n",
      "  - Количество уникальных значений в столбце 'category_list': 6206\n",
      "  - Количество уникальных значений в столбце 'funding_total_usd': 4549\n",
      "  - Количество уникальных значений в столбце 'country_code': 96\n",
      "  - Количество уникальных значений в столбце 'state_code': 235\n",
      "  - Количество уникальных значений в столбце 'region': 688\n",
      "  - Количество уникальных значений в столбце 'city': 2117\n",
      "  - Количество уникальных значений в столбце 'funding_rounds': 15\n",
      "  - Количество уникальных значений в столбце 'founded_at': 3165\n",
      "  - Количество уникальных значений в столбце 'first_funding_at': 3299\n",
      "  - Количество уникальных значений в столбце 'last_funding_at': 3021\n",
      "  - Количество уникальных значений в столбце 'lifetime': 3421\n",
      "\n"
     ]
    }
   ],
   "source": [
    "# Проходим по словарю DataFrame'ов\n",
    "for name, dataframe in df_dict.items():\n",
    "    print(LINE_1)\n",
    "    print(f\"В {name}:\")\n",
    "    for column in dataframe.columns:\n",
    "        unique_values = dataframe[column].nunique()\n",
    "        print(f\"  - Количество уникальных значений в столбце '{column}': {unique_values}\")\n",
    "    print()"
   ]
  },
  {
   "cell_type": "code",
   "execution_count": 25,
   "id": "b6075b5d",
   "metadata": {
    "ExecuteTime": {
     "end_time": "2024-06-16T21:05:08.484492Z",
     "start_time": "2024-06-16T21:05:08.469492Z"
    },
    "scrolled": false
   },
   "outputs": [
    {
     "name": "stdout",
     "output_type": "stream",
     "text": [
      "(52514, 13) (13125, 12)\n"
     ]
    }
   ],
   "source": [
    "print(df_train.shape, df_test.shape)"
   ]
  },
  {
   "cell_type": "markdown",
   "id": "48536f8f",
   "metadata": {},
   "source": [
    "**ВЫВОД:** Мы вявили, что в большинстве случаях, в категориальных переменных очень много уникальных категорий, следователь необходимо уменьшить количество уникальных категорий, путем группировки по некоторым признакам, а часть признаков где это невозможно, удалить. \n",
    "Также было определено, что в столбце `name` у df_train, есть 1 пропущенное значение."
   ]
  },
  {
   "cell_type": "markdown",
   "id": "02539c01",
   "metadata": {},
   "source": [
    "### Заполняем пропущенные значения в столбце `name`"
   ]
  },
  {
   "cell_type": "code",
   "execution_count": 26,
   "id": "93bedbb3",
   "metadata": {
    "ExecuteTime": {
     "end_time": "2024-06-16T21:05:08.500599Z",
     "start_time": "2024-06-16T21:05:08.485491Z"
    }
   },
   "outputs": [
    {
     "data": {
      "text/html": [
       "<div>\n",
       "<style scoped>\n",
       "    .dataframe tbody tr th:only-of-type {\n",
       "        vertical-align: middle;\n",
       "    }\n",
       "\n",
       "    .dataframe tbody tr th {\n",
       "        vertical-align: top;\n",
       "    }\n",
       "\n",
       "    .dataframe thead th {\n",
       "        text-align: right;\n",
       "    }\n",
       "</style>\n",
       "<table border=\"1\" class=\"dataframe\">\n",
       "  <thead>\n",
       "    <tr style=\"text-align: right;\">\n",
       "      <th></th>\n",
       "      <th>name</th>\n",
       "      <th>category_list</th>\n",
       "      <th>funding_total_usd</th>\n",
       "      <th>status</th>\n",
       "      <th>country_code</th>\n",
       "      <th>state_code</th>\n",
       "      <th>region</th>\n",
       "      <th>city</th>\n",
       "      <th>funding_rounds</th>\n",
       "      <th>founded_at</th>\n",
       "      <th>first_funding_at</th>\n",
       "      <th>last_funding_at</th>\n",
       "      <th>closed_at</th>\n",
       "    </tr>\n",
       "  </thead>\n",
       "  <tbody>\n",
       "    <tr>\n",
       "      <th>3291</th>\n",
       "      <td>NaN</td>\n",
       "      <td>Startups</td>\n",
       "      <td>25000.0</td>\n",
       "      <td>closed</td>\n",
       "      <td>USA</td>\n",
       "      <td>OR</td>\n",
       "      <td>Portland, Oregon</td>\n",
       "      <td>Portland</td>\n",
       "      <td>1</td>\n",
       "      <td>2011-10-01</td>\n",
       "      <td>2012-03-01</td>\n",
       "      <td>2012-03-01</td>\n",
       "      <td>2013-03-31</td>\n",
       "    </tr>\n",
       "  </tbody>\n",
       "</table>\n",
       "</div>"
      ],
      "text/plain": [
       "     name category_list  funding_total_usd  status country_code state_code  \\\n",
       "3291  NaN      Startups            25000.0  closed          USA         OR   \n",
       "\n",
       "                region      city  funding_rounds founded_at first_funding_at  \\\n",
       "3291  Portland, Oregon  Portland               1 2011-10-01       2012-03-01   \n",
       "\n",
       "     last_funding_at   closed_at  \n",
       "3291      2012-03-01  2013-03-31  "
      ]
     },
     "execution_count": 26,
     "metadata": {},
     "output_type": "execute_result"
    }
   ],
   "source": [
    "df_train[df_train['name'].isna() == True]"
   ]
  },
  {
   "cell_type": "markdown",
   "id": "310e2e77",
   "metadata": {},
   "source": [
    "Так как данные полные, и количество закрытых стартапом мало, заполним название стартапа рандомным именем с длиной не больше 7 букв"
   ]
  },
  {
   "cell_type": "code",
   "execution_count": 27,
   "id": "980fd77f",
   "metadata": {
    "ExecuteTime": {
     "end_time": "2024-06-16T21:05:08.532009Z",
     "start_time": "2024-06-16T21:05:08.501495Z"
    }
   },
   "outputs": [],
   "source": [
    "# Заполняем пропущенные значения в столбце 'name'\n",
    "df_train['name'] = df_train['name'].apply(lambda x: generate_random_name() if pd.isnull(x) else x)"
   ]
  },
  {
   "cell_type": "code",
   "execution_count": 28,
   "id": "52a77dc7",
   "metadata": {
    "ExecuteTime": {
     "end_time": "2024-06-16T21:05:08.548067Z",
     "start_time": "2024-06-16T21:05:08.538008Z"
    },
    "scrolled": true
   },
   "outputs": [
    {
     "name": "stdout",
     "output_type": "stream",
     "text": [
      "Количество NaN значений в столбце 'name' после обработки: 0\n"
     ]
    }
   ],
   "source": [
    "# Проверяем, остались ли пропущенные значения в столбце 'name'\n",
    "print(\"Количество NaN значений в столбце 'name' после обработки:\", df_train['name'].isna().sum())"
   ]
  },
  {
   "cell_type": "markdown",
   "id": "6c79c28f",
   "metadata": {},
   "source": [
    "### Заполним пропуски в стобце `closed_at` и добавим столбец `lifetime`"
   ]
  },
  {
   "cell_type": "markdown",
   "id": "a30e2466",
   "metadata": {},
   "source": [
    "Заполним пропуски датой выгрузки датасета, для этого создадим функцию"
   ]
  },
  {
   "cell_type": "code",
   "execution_count": 29,
   "id": "43f3655d",
   "metadata": {
    "ExecuteTime": {
     "end_time": "2024-06-16T21:05:08.563514Z",
     "start_time": "2024-06-16T21:05:08.549007Z"
    }
   },
   "outputs": [],
   "source": [
    "def convert_closed_at(df):\n",
    "    # Проверяем, есть ли столбец 'closed_at' в DataFrame\n",
    "    if 'closed_at' in df.columns:\n",
    "        # Преобразуем столбец 'closed_at' в datetime, заменяя NaN на '2018-01-01'\n",
    "        df['closed_at'] = pd.to_datetime(df['closed_at'].fillna('2018-01-01'))\n",
    "    else:\n",
    "        # Если столбца нет, выводим предупреждение\n",
    "        print(\"Столбец 'closed_at' не найден в DataFrame.\")\n",
    "    return df"
   ]
  },
  {
   "cell_type": "markdown",
   "id": "d3a21936",
   "metadata": {},
   "source": [
    "Применим функцию"
   ]
  },
  {
   "cell_type": "code",
   "execution_count": 30,
   "id": "0d26ca98",
   "metadata": {
    "ExecuteTime": {
     "end_time": "2024-06-16T21:05:08.579514Z",
     "start_time": "2024-06-16T21:05:08.564518Z"
    },
    "scrolled": true
   },
   "outputs": [
    {
     "name": "stdout",
     "output_type": "stream",
     "text": [
      "Количество пропущенных значений: 0\n"
     ]
    }
   ],
   "source": [
    "df_train = convert_closed_at(df_train)\n",
    "print('Количество пропущенных значений:', df_train['closed_at'].isna().sum())"
   ]
  },
  {
   "cell_type": "markdown",
   "id": "971d1850",
   "metadata": {},
   "source": [
    "Посчитаем время жизни стартапа с помощью функции"
   ]
  },
  {
   "cell_type": "code",
   "execution_count": 31,
   "id": "d268dc92",
   "metadata": {
    "ExecuteTime": {
     "end_time": "2024-06-16T21:05:08.595623Z",
     "start_time": "2024-06-16T21:05:08.580517Z"
    }
   },
   "outputs": [],
   "source": [
    "def calculate_lifetime(df):\n",
    "    # Проверяем, есть ли необходимые столбцы в DataFrame\n",
    "    if 'closed_at' in df.columns and 'founded_at' in df.columns:\n",
    "        # Рассчитываем 'lifetime'\n",
    "        df['lifetime'] = (df['closed_at'] - df['founded_at']).dt.days\n",
    "    else:\n",
    "        # Если один из столбцов отсутствует, выводим предупреждение\n",
    "        print(\"Не найден один из столбцов 'closed_at' или 'founded_at'.\")\n",
    "    return df"
   ]
  },
  {
   "cell_type": "code",
   "execution_count": 32,
   "id": "85919f2b",
   "metadata": {
    "ExecuteTime": {
     "end_time": "2024-06-16T21:05:08.611026Z",
     "start_time": "2024-06-16T21:05:08.597527Z"
    }
   },
   "outputs": [
    {
     "name": "stdout",
     "output_type": "stream",
     "text": [
      "Количество пропущенных значений: 0\n"
     ]
    }
   ],
   "source": [
    "df_train = calculate_lifetime(df_train)\n",
    "print('Количество пропущенных значений:', df_train['lifetime'].isna().sum())"
   ]
  },
  {
   "cell_type": "markdown",
   "id": "840220c1",
   "metadata": {},
   "source": [
    "### Уменьшение групп для столбца `category_list`"
   ]
  },
  {
   "cell_type": "markdown",
   "id": "f1ae9ee3",
   "metadata": {},
   "source": [
    "Создадим копию датафрейма для отработки "
   ]
  },
  {
   "cell_type": "code",
   "execution_count": 33,
   "id": "b75eaa97",
   "metadata": {
    "ExecuteTime": {
     "end_time": "2024-06-16T21:05:08.642165Z",
     "start_time": "2024-06-16T21:05:08.613030Z"
    }
   },
   "outputs": [],
   "source": [
    "df_train_copy = df_train.copy()\n",
    "df_train_copy_def = df_train.copy()"
   ]
  },
  {
   "cell_type": "code",
   "execution_count": 34,
   "id": "70d77d7a",
   "metadata": {
    "ExecuteTime": {
     "end_time": "2024-06-16T21:05:08.657546Z",
     "start_time": "2024-06-16T21:05:08.643027Z"
    }
   },
   "outputs": [
    {
     "data": {
      "text/html": [
       "<div>\n",
       "<style scoped>\n",
       "    .dataframe tbody tr th:only-of-type {\n",
       "        vertical-align: middle;\n",
       "    }\n",
       "\n",
       "    .dataframe tbody tr th {\n",
       "        vertical-align: top;\n",
       "    }\n",
       "\n",
       "    .dataframe thead th {\n",
       "        text-align: right;\n",
       "    }\n",
       "</style>\n",
       "<table border=\"1\" class=\"dataframe\">\n",
       "  <thead>\n",
       "    <tr style=\"text-align: right;\">\n",
       "      <th></th>\n",
       "      <th>name</th>\n",
       "      <th>category_list</th>\n",
       "      <th>funding_total_usd</th>\n",
       "      <th>status</th>\n",
       "      <th>country_code</th>\n",
       "      <th>state_code</th>\n",
       "      <th>region</th>\n",
       "      <th>city</th>\n",
       "      <th>funding_rounds</th>\n",
       "      <th>founded_at</th>\n",
       "      <th>first_funding_at</th>\n",
       "      <th>last_funding_at</th>\n",
       "      <th>closed_at</th>\n",
       "      <th>lifetime</th>\n",
       "    </tr>\n",
       "  </thead>\n",
       "  <tbody>\n",
       "  </tbody>\n",
       "</table>\n",
       "</div>"
      ],
      "text/plain": [
       "Empty DataFrame\n",
       "Columns: [name, category_list, funding_total_usd, status, country_code, state_code, region, city, funding_rounds, founded_at, first_funding_at, last_funding_at, closed_at, lifetime]\n",
       "Index: []"
      ]
     },
     "execution_count": 34,
     "metadata": {},
     "output_type": "execute_result"
    }
   ],
   "source": [
    "df_train_copy[df_train_copy['name'].isna() == True]"
   ]
  },
  {
   "cell_type": "code",
   "execution_count": 35,
   "id": "f87d90bd",
   "metadata": {
    "ExecuteTime": {
     "end_time": "2024-06-16T21:05:08.673544Z",
     "start_time": "2024-06-16T21:05:08.659567Z"
    }
   },
   "outputs": [],
   "source": [
    "df_train_copy.loc[df_train_copy['category_list'].isna(), 'category_list'] = 'undefined'"
   ]
  },
  {
   "cell_type": "markdown",
   "id": "aa9f2a4e",
   "metadata": {},
   "source": [
    "Уменьшим категории путем использования функции `standardize_names` которая убирает различные символы и переводит в нижний регистр"
   ]
  },
  {
   "cell_type": "code",
   "execution_count": 36,
   "id": "26b28fdb",
   "metadata": {
    "ExecuteTime": {
     "end_time": "2024-06-16T21:05:08.782566Z",
     "start_time": "2024-06-16T21:05:08.674547Z"
    },
    "scrolled": true
   },
   "outputs": [
    {
     "name": "stdout",
     "output_type": "stream",
     "text": [
      "22109\n",
      "22108\n"
     ]
    }
   ],
   "source": [
    "# Применение функций к столбцам и создание новых столбцов\n",
    "print(df_train_copy['category_list'].nunique())\n",
    "df_train_copy['category_clean'] = df_train_copy['category_list'].apply(standardize_names)\n",
    "print(df_train_copy['category_clean'].nunique())"
   ]
  },
  {
   "cell_type": "markdown",
   "id": "e6bb0fdd",
   "metadata": {},
   "source": [
    "Уменьшим категории путем использования функции `extract_first_value` которая извлекает первое значение"
   ]
  },
  {
   "cell_type": "markdown",
   "id": "f5ab5381",
   "metadata": {},
   "source": [
    "Уменьшим категории путем использования функции `fuzz_standardize_names` которая группирует схожие категории в одну, путем алгоритма Levenshtein distance"
   ]
  },
  {
   "cell_type": "code",
   "execution_count": 37,
   "id": "a10958ce",
   "metadata": {
    "ExecuteTime": {
     "end_time": "2024-06-16T21:05:08.813079Z",
     "start_time": "2024-06-16T21:05:08.783568Z"
    }
   },
   "outputs": [
    {
     "name": "stdout",
     "output_type": "stream",
     "text": [
      "707\n"
     ]
    }
   ],
   "source": [
    "df_train_copy['first_category_list'] = df_train_copy['category_clean'].apply(extract_first_value)\n",
    "\n",
    "print(df_train_copy['first_category_list'].nunique())"
   ]
  },
  {
   "cell_type": "code",
   "execution_count": 38,
   "id": "d341a74b",
   "metadata": {
    "ExecuteTime": {
     "end_time": "2024-06-16T21:05:17.564703Z",
     "start_time": "2024-06-16T21:05:08.814082Z"
    }
   },
   "outputs": [],
   "source": [
    "df_train_copy['standardized_category'] = fuzz_standardize_names(df_train_copy['first_category_list'])"
   ]
  },
  {
   "cell_type": "code",
   "execution_count": 39,
   "id": "8f22d9e5",
   "metadata": {
    "ExecuteTime": {
     "end_time": "2024-06-16T21:05:17.580322Z",
     "start_time": "2024-06-16T21:05:17.567321Z"
    },
    "scrolled": true
   },
   "outputs": [
    {
     "data": {
      "text/plain": [
       "491"
      ]
     },
     "execution_count": 39,
     "metadata": {},
     "output_type": "execute_result"
    }
   ],
   "source": [
    "df_train_copy['standardized_category'].nunique()"
   ]
  },
  {
   "cell_type": "markdown",
   "id": "c7bc611d",
   "metadata": {},
   "source": [
    "На основе этого создадим функцию `process_categories` и проверим работу ее на копии датафрейма"
   ]
  },
  {
   "cell_type": "code",
   "execution_count": 40,
   "id": "07bca083",
   "metadata": {
    "ExecuteTime": {
     "end_time": "2024-06-16T21:05:17.596409Z",
     "start_time": "2024-06-16T21:05:17.581322Z"
    }
   },
   "outputs": [],
   "source": [
    "def process_categories(df, create_mapping=False):\n",
    "    # Шаг 1: Очистка категорий\n",
    "    if 'category_list' in df.columns:\n",
    "        df['category_clean'] = df['category_list'].apply(standardize_names)\n",
    "    else:\n",
    "        print(\"Столбец 'category_list' не найден в DataFrame.\")\n",
    "        return df\n",
    "\n",
    "    # Шаг 2: Извлечение первой категории\n",
    "    if 'category_clean' in df.columns:\n",
    "        df['first_category_list'] = df['category_clean'].apply(extract_first_value)\n",
    "    else:\n",
    "        print(\"Столбец 'category_clean' не найден в DataFrame.\")\n",
    "        return df\n",
    "\n",
    "    # Шаг 3: Стандартизация категорий\n",
    "    if 'first_category_list' in df.columns:\n",
    "        categories = df['first_category_list'].dropna().unique()\n",
    "        if create_mapping:\n",
    "            global category_mapping\n",
    "            category_mapping = {}\n",
    "            groups = {}\n",
    "            for category in categories:\n",
    "                matches = process.extract(category, categories, limit=None, scorer=fuzz.partial_ratio)\n",
    "                for match, score in matches:\n",
    "                    if score >= 90 and match != category:\n",
    "                        if match in groups:\n",
    "                            groups[match].add(category)\n",
    "                        else:\n",
    "                            groups[match] = {match, category}\n",
    "\n",
    "            # Определение главной категории для каждой группы\n",
    "            for group in groups.values():\n",
    "                main_category = max(group, key=lambda cat: df['first_category_list'].value_counts().get(cat, 0))\n",
    "                for cat in group:\n",
    "                    category_mapping[cat] = main_category\n",
    "\n",
    "        df['standardized_category'] = df['first_category_list'].map(lambda x: category_mapping.get(x, x))\n",
    "    else:\n",
    "        print(\"Столбец 'first_category_list' не найден в DataFrame.\")\n",
    "\n",
    "    # Удаление временных столбцов\n",
    "    df = df.drop(['category_list', 'category_clean', 'first_category_list'], axis=1)\n",
    "    \n",
    "    return df"
   ]
  },
  {
   "cell_type": "markdown",
   "id": "7a1b1f5a",
   "metadata": {},
   "source": [
    "Проверим отработку функции"
   ]
  },
  {
   "cell_type": "code",
   "execution_count": 41,
   "id": "3aed61b3",
   "metadata": {
    "ExecuteTime": {
     "end_time": "2024-06-16T21:05:29.341640Z",
     "start_time": "2024-06-16T21:05:17.598321Z"
    }
   },
   "outputs": [
    {
     "data": {
      "text/plain": [
       "490"
      ]
     },
     "execution_count": 41,
     "metadata": {},
     "output_type": "execute_result"
    }
   ],
   "source": [
    "# Создаем маппинг, используя обучающий набор\n",
    "df_train_copy_def = process_categories(df_train_copy_def, create_mapping=True)\n",
    "df_train_copy_def['standardized_category'].nunique()"
   ]
  },
  {
   "cell_type": "markdown",
   "id": "9940ea64",
   "metadata": {},
   "source": [
    "**ВЫВОД:** Уменьшили количество уникальных категорий до 490, применим данную функцию в пайплайне, а пропущенные значения отработаем в SimpleImputer"
   ]
  },
  {
   "cell_type": "markdown",
   "id": "557bdc86",
   "metadata": {},
   "source": [
    "### Уменьшение групп для столбца `city`"
   ]
  },
  {
   "cell_type": "code",
   "execution_count": 42,
   "id": "8ce9753d",
   "metadata": {
    "ExecuteTime": {
     "end_time": "2024-06-16T21:05:29.436562Z",
     "start_time": "2024-06-16T21:05:29.343551Z"
    },
    "scrolled": true
   },
   "outputs": [
    {
     "name": "stdout",
     "output_type": "stream",
     "text": [
      "4477\n",
      "4477\n"
     ]
    }
   ],
   "source": [
    "# Применение функций к столбцам и создание новых столбцов\n",
    "print(df_train_copy['city'].nunique())\n",
    "df_train_copy['city'] = df_train_copy['city'].apply(standardize_names)\n",
    "print(df_train_copy['city'].nunique())"
   ]
  },
  {
   "cell_type": "markdown",
   "id": "636b4061",
   "metadata": {},
   "source": [
    "**ВЫВОД:** Уникальных категорий слишком много, не будем его использовать в модели"
   ]
  },
  {
   "cell_type": "markdown",
   "id": "20c0939f",
   "metadata": {
    "ExecuteTime": {
     "end_time": "2024-06-16T18:13:46.042672Z",
     "start_time": "2024-06-16T18:13:46.027571Z"
    }
   },
   "source": [
    "### Заполним пропуски столбца `country_code`"
   ]
  },
  {
   "cell_type": "markdown",
   "id": "bf2fd19c",
   "metadata": {},
   "source": [
    "Попробуем заполнить пустые значения в столбце `country_code` на основе данных смежных столбцов"
   ]
  },
  {
   "cell_type": "code",
   "execution_count": 43,
   "id": "90063ea8",
   "metadata": {
    "ExecuteTime": {
     "end_time": "2024-06-16T21:05:29.452562Z",
     "start_time": "2024-06-16T21:05:29.437562Z"
    }
   },
   "outputs": [
    {
     "data": {
      "text/html": [
       "<div>\n",
       "<style scoped>\n",
       "    .dataframe tbody tr th:only-of-type {\n",
       "        vertical-align: middle;\n",
       "    }\n",
       "\n",
       "    .dataframe tbody tr th {\n",
       "        vertical-align: top;\n",
       "    }\n",
       "\n",
       "    .dataframe thead th {\n",
       "        text-align: right;\n",
       "    }\n",
       "</style>\n",
       "<table border=\"1\" class=\"dataframe\">\n",
       "  <thead>\n",
       "    <tr style=\"text-align: right;\">\n",
       "      <th></th>\n",
       "      <th>name</th>\n",
       "      <th>category_list</th>\n",
       "      <th>funding_total_usd</th>\n",
       "      <th>status</th>\n",
       "      <th>country_code</th>\n",
       "      <th>state_code</th>\n",
       "      <th>region</th>\n",
       "      <th>city</th>\n",
       "      <th>funding_rounds</th>\n",
       "      <th>founded_at</th>\n",
       "      <th>first_funding_at</th>\n",
       "      <th>last_funding_at</th>\n",
       "      <th>closed_at</th>\n",
       "      <th>lifetime</th>\n",
       "    </tr>\n",
       "  </thead>\n",
       "  <tbody>\n",
       "  </tbody>\n",
       "</table>\n",
       "</div>"
      ],
      "text/plain": [
       "Empty DataFrame\n",
       "Columns: [name, category_list, funding_total_usd, status, country_code, state_code, region, city, funding_rounds, founded_at, first_funding_at, last_funding_at, closed_at, lifetime]\n",
       "Index: []"
      ]
     },
     "execution_count": 43,
     "metadata": {},
     "output_type": "execute_result"
    }
   ],
   "source": [
    "df_train[df_train['country_code'].isna() & df_train[['state_code', 'region', 'city']].notna().any(axis=1)]"
   ]
  },
  {
   "cell_type": "markdown",
   "id": "b9844970",
   "metadata": {},
   "source": [
    "Таких данных нет, следовательно, заполним эти столбцы значением `undefined`"
   ]
  },
  {
   "cell_type": "code",
   "execution_count": 44,
   "id": "cac0bb44",
   "metadata": {
    "ExecuteTime": {
     "end_time": "2024-06-16T21:05:29.468068Z",
     "start_time": "2024-06-16T21:05:29.453561Z"
    },
    "scrolled": true
   },
   "outputs": [],
   "source": [
    "# Условие: столбец 'country_code' содержит NaN\n",
    "#condition = df_train['country_code'].isna()\n",
    "\n",
    "# Столбцы для заполнения значением 'undefined'\n",
    "#columns_to_fill = ['country_code', 'state_code', 'region', 'city']\n",
    "\n",
    "# Заполнение указанных столбцов значением 'undefined', если выполнено условие\n",
    "#df_train.loc[condition, columns_to_fill] = 'undefined'\n",
    "\n",
    "#df_train.info()"
   ]
  },
  {
   "cell_type": "markdown",
   "id": "268c0578",
   "metadata": {
    "ExecuteTime": {
     "end_time": "2024-06-10T16:08:06.356792Z",
     "start_time": "2024-06-10T16:08:06.337284Z"
    }
   },
   "source": [
    "#### "
   ]
  },
  {
   "cell_type": "code",
   "execution_count": 45,
   "id": "11af8dfc",
   "metadata": {
    "ExecuteTime": {
     "end_time": "2024-06-16T21:05:29.483068Z",
     "start_time": "2024-06-16T21:05:29.469069Z"
    }
   },
   "outputs": [
    {
     "data": {
      "text/html": [
       "<div>\n",
       "<style scoped>\n",
       "    .dataframe tbody tr th:only-of-type {\n",
       "        vertical-align: middle;\n",
       "    }\n",
       "\n",
       "    .dataframe tbody tr th {\n",
       "        vertical-align: top;\n",
       "    }\n",
       "\n",
       "    .dataframe thead th {\n",
       "        text-align: right;\n",
       "    }\n",
       "</style>\n",
       "<table border=\"1\" class=\"dataframe\">\n",
       "  <thead>\n",
       "    <tr style=\"text-align: right;\">\n",
       "      <th></th>\n",
       "      <th>name</th>\n",
       "      <th>category_list</th>\n",
       "      <th>funding_total_usd</th>\n",
       "      <th>country_code</th>\n",
       "      <th>state_code</th>\n",
       "      <th>region</th>\n",
       "      <th>city</th>\n",
       "      <th>funding_rounds</th>\n",
       "      <th>founded_at</th>\n",
       "      <th>first_funding_at</th>\n",
       "      <th>last_funding_at</th>\n",
       "      <th>lifetime</th>\n",
       "    </tr>\n",
       "  </thead>\n",
       "  <tbody>\n",
       "  </tbody>\n",
       "</table>\n",
       "</div>"
      ],
      "text/plain": [
       "Empty DataFrame\n",
       "Columns: [name, category_list, funding_total_usd, country_code, state_code, region, city, funding_rounds, founded_at, first_funding_at, last_funding_at, lifetime]\n",
       "Index: []"
      ]
     },
     "execution_count": 45,
     "metadata": {},
     "output_type": "execute_result"
    }
   ],
   "source": [
    "df_test[df_test['country_code'].isna() & df_test[['state_code', 'region', 'city']].notna().any(axis=1)]"
   ]
  },
  {
   "cell_type": "code",
   "execution_count": 46,
   "id": "b2ae429b",
   "metadata": {
    "ExecuteTime": {
     "end_time": "2024-06-16T21:05:29.498156Z",
     "start_time": "2024-06-16T21:05:29.484086Z"
    },
    "scrolled": true
   },
   "outputs": [],
   "source": [
    "# Условие: столбец 'country_code' содержит NaN\n",
    "#condition_test = df_test['country_code'].isna()\n",
    "\n",
    "# Столбцы для заполнения значением 'undefined'\n",
    "#columns_to_fill_test = ['country_code', 'state_code', 'region', 'city']\n",
    "\n",
    "# Заполнение указанных столбцов значением 'undefined', если выполнено условие\n",
    "#df_test.loc[condition_test, columns_to_fill_test] = 'undefined'\n",
    "\n",
    "#df_test.info()"
   ]
  },
  {
   "cell_type": "markdown",
   "id": "7a9bfc24",
   "metadata": {},
   "source": [
    "### Удалим строки с пропущенными значениями"
   ]
  },
  {
   "cell_type": "code",
   "execution_count": 47,
   "id": "643d79db",
   "metadata": {
    "ExecuteTime": {
     "end_time": "2024-06-16T21:05:29.513577Z",
     "start_time": "2024-06-16T21:05:29.499070Z"
    }
   },
   "outputs": [],
   "source": [
    "#df_train = df_train.dropna(subset=['funding_total_usd', 'country_code', 'state_code', 'region', 'city'], how='all')"
   ]
  },
  {
   "cell_type": "markdown",
   "id": "12529c55",
   "metadata": {},
   "source": [
    "### Удалим лишнии сиволы из столбца `region`"
   ]
  },
  {
   "cell_type": "code",
   "execution_count": 48,
   "id": "f277ddfa",
   "metadata": {
    "ExecuteTime": {
     "end_time": "2024-06-16T21:05:29.545696Z",
     "start_time": "2024-06-16T21:05:29.514578Z"
    }
   },
   "outputs": [
    {
     "name": "stdout",
     "output_type": "stream",
     "text": [
      "1036\n"
     ]
    },
    {
     "data": {
      "text/plain": [
       "1036"
      ]
     },
     "execution_count": 48,
     "metadata": {},
     "output_type": "execute_result"
    }
   ],
   "source": [
    "print(df_train_copy['region'].nunique())\n",
    "\n",
    "# Использование str.replace() для удаления ' - Other' из строк столбца 'region'\n",
    "df_train_copy['region'] = df_train_copy['region'].str.replace(' - Other', '', regex=False)\n",
    "df_train_copy['region'].nunique()"
   ]
  },
  {
   "cell_type": "markdown",
   "id": "48257bab",
   "metadata": {},
   "source": [
    "Создадим функцию на основе предыдущего кода"
   ]
  },
  {
   "cell_type": "code",
   "execution_count": 49,
   "id": "c55f1789",
   "metadata": {
    "ExecuteTime": {
     "end_time": "2024-06-16T21:05:29.561088Z",
     "start_time": "2024-06-16T21:05:29.546579Z"
    }
   },
   "outputs": [],
   "source": [
    "def remove_other_from_region(df):\n",
    "    \"\"\"Удаляет подстроку ' - Other' из столбца 'region'.\"\"\"\n",
    "    df['region'] = df['region'].str.replace(' - Other', '', regex=False)\n",
    "    return df"
   ]
  },
  {
   "cell_type": "code",
   "execution_count": 50,
   "id": "700a8ffe",
   "metadata": {
    "ExecuteTime": {
     "end_time": "2024-06-16T21:05:29.592187Z",
     "start_time": "2024-06-16T21:05:29.562087Z"
    }
   },
   "outputs": [
    {
     "data": {
      "text/plain": [
       "1036"
      ]
     },
     "execution_count": 50,
     "metadata": {},
     "output_type": "execute_result"
    }
   ],
   "source": [
    "df_train_copy_def = remove_other_from_region(df_train_copy_def)\n",
    "df_train_copy_def['region'].nunique()"
   ]
  },
  {
   "cell_type": "markdown",
   "id": "fd6205ab",
   "metadata": {},
   "source": [
    "**ВЫВОД:** Применим функцию в пайплайне, для более чистого кода"
   ]
  },
  {
   "cell_type": "markdown",
   "id": "9fe9d61d",
   "metadata": {},
   "source": [
    "### Заполним пропуски в столбцах `state_code` и `region`"
   ]
  },
  {
   "cell_type": "markdown",
   "id": "afa462c7",
   "metadata": {},
   "source": [
    "Заполним пропуски на основе данных из других столбцов"
   ]
  },
  {
   "cell_type": "code",
   "execution_count": 51,
   "id": "9bdd3963",
   "metadata": {
    "ExecuteTime": {
     "end_time": "2024-06-16T21:05:29.607598Z",
     "start_time": "2024-06-16T21:05:29.594089Z"
    }
   },
   "outputs": [
    {
     "data": {
      "text/plain": [
       "(638, 17)"
      ]
     },
     "execution_count": 51,
     "metadata": {},
     "output_type": "execute_result"
    }
   ],
   "source": [
    "df_train_copy[(df_train_copy['state_code'].isna() == True) & (df_train_copy['region'].isna() == False)].shape"
   ]
  },
  {
   "cell_type": "code",
   "execution_count": 52,
   "id": "5c8b936f",
   "metadata": {
    "ExecuteTime": {
     "end_time": "2024-06-16T21:05:30.545907Z",
     "start_time": "2024-06-16T21:05:29.608598Z"
    }
   },
   "outputs": [
    {
     "name": "stdout",
     "output_type": "stream",
     "text": [
      "Количество пропущенных значений до: 6762\n",
      "Количество пропущенных значений после: 628\n"
     ]
    }
   ],
   "source": [
    "print('Количество пропущенных значений до:', df_train_copy['state_code'].isna().sum())\n",
    "\n",
    "# Создаем словарь соответствия регионов и state_code, где state_code уже известен\n",
    "region_to_state_map = df_train_copy.dropna(subset=['state_code']).drop_duplicates(\n",
    "    'region').set_index('region')['state_code']\n",
    "\n",
    "# Применяем маппинг для заполнения пропущенных значений в state_code\n",
    "df_train_copy['state_code'] = df_train_copy.apply(\n",
    "    lambda row: region_to_state_map[row['region']] if pd.isna(\n",
    "        row['state_code']) and row['region'] in region_to_state_map else row['state_code'],\n",
    "    axis=1\n",
    ")\n",
    "\n",
    "print('Количество пропущенных значений после:', df_train_copy['state_code'].isna().sum())"
   ]
  },
  {
   "cell_type": "code",
   "execution_count": 53,
   "id": "7c61f6d0",
   "metadata": {
    "ExecuteTime": {
     "end_time": "2024-06-16T21:05:30.561341Z",
     "start_time": "2024-06-16T21:05:30.547828Z"
    }
   },
   "outputs": [
    {
     "data": {
      "text/plain": [
       "(628, 17)"
      ]
     },
     "execution_count": 53,
     "metadata": {},
     "output_type": "execute_result"
    }
   ],
   "source": [
    "df_train_copy[(df_train_copy['state_code'].isna() == True) & (df_train_copy['region'].isna() == False)].shape"
   ]
  },
  {
   "cell_type": "markdown",
   "id": "6c7b0d7b",
   "metadata": {},
   "source": [
    "Аналогично и для столбца `region`"
   ]
  },
  {
   "cell_type": "code",
   "execution_count": 54,
   "id": "9a41afb1",
   "metadata": {
    "ExecuteTime": {
     "end_time": "2024-06-16T21:05:31.517162Z",
     "start_time": "2024-06-16T21:05:30.563340Z"
    }
   },
   "outputs": [
    {
     "name": "stdout",
     "output_type": "stream",
     "text": [
      "Количество пропущенных значений до: 6358\n",
      "Количество пропущенных значений после: 5508\n"
     ]
    }
   ],
   "source": [
    "print('Количество пропущенных значений до:', df_train_copy['region'].isna().sum())\n",
    "# Создание словаря соответствия country_code и наиболее часто встречающегося region\n",
    "country_to_region_map = df_train_copy.dropna(subset=['region']).groupby(\n",
    "    'country_code')['region'].agg(lambda x: x.value_counts().idxmax())\n",
    "\n",
    "# Заполнение пропущенных значений в region на основе country_code\n",
    "df_train_copy['region'] = df_train_copy.apply(\n",
    "    lambda row: country_to_region_map[row['country_code']] if pd.isna(\n",
    "        row['region']) and row['country_code'] in country_to_region_map else row['region'],\n",
    "    axis=1\n",
    ")\n",
    "\n",
    "print('Количество пропущенных значений после:', df_train_copy['region'].isna().sum())"
   ]
  },
  {
   "cell_type": "code",
   "execution_count": 55,
   "id": "e00a3b18",
   "metadata": {
    "ExecuteTime": {
     "end_time": "2024-06-16T21:05:31.548159Z",
     "start_time": "2024-06-16T21:05:31.519192Z"
    },
    "scrolled": true
   },
   "outputs": [
    {
     "data": {
      "text/html": [
       "<div>\n",
       "<style scoped>\n",
       "    .dataframe tbody tr th:only-of-type {\n",
       "        vertical-align: middle;\n",
       "    }\n",
       "\n",
       "    .dataframe tbody tr th {\n",
       "        vertical-align: top;\n",
       "    }\n",
       "\n",
       "    .dataframe thead th {\n",
       "        text-align: right;\n",
       "    }\n",
       "</style>\n",
       "<table border=\"1\" class=\"dataframe\">\n",
       "  <thead>\n",
       "    <tr style=\"text-align: right;\">\n",
       "      <th></th>\n",
       "      <th>name</th>\n",
       "      <th>category_list</th>\n",
       "      <th>funding_total_usd</th>\n",
       "      <th>status</th>\n",
       "      <th>country_code</th>\n",
       "      <th>state_code</th>\n",
       "      <th>region</th>\n",
       "      <th>city</th>\n",
       "      <th>funding_rounds</th>\n",
       "      <th>founded_at</th>\n",
       "      <th>first_funding_at</th>\n",
       "      <th>last_funding_at</th>\n",
       "      <th>closed_at</th>\n",
       "      <th>lifetime</th>\n",
       "      <th>category_clean</th>\n",
       "      <th>first_category_list</th>\n",
       "      <th>standardized_category</th>\n",
       "    </tr>\n",
       "  </thead>\n",
       "  <tbody>\n",
       "    <tr>\n",
       "      <th>3</th>\n",
       "      <td>Sancilio and Company</td>\n",
       "      <td>Health Care</td>\n",
       "      <td>22250000.0</td>\n",
       "      <td>operating</td>\n",
       "      <td>NaN</td>\n",
       "      <td>F7</td>\n",
       "      <td>NaN</td>\n",
       "      <td>NaN</td>\n",
       "      <td>3</td>\n",
       "      <td>2004-01-01</td>\n",
       "      <td>2011-09-01</td>\n",
       "      <td>2014-07-18</td>\n",
       "      <td>2018-01-01</td>\n",
       "      <td>5114</td>\n",
       "      <td>health care</td>\n",
       "      <td>health care</td>\n",
       "      <td>health care</td>\n",
       "    </tr>\n",
       "    <tr>\n",
       "      <th>12</th>\n",
       "      <td>Iberic Premium</td>\n",
       "      <td>undefined</td>\n",
       "      <td>107239.0</td>\n",
       "      <td>closed</td>\n",
       "      <td>NaN</td>\n",
       "      <td>F7</td>\n",
       "      <td>NaN</td>\n",
       "      <td>NaN</td>\n",
       "      <td>1</td>\n",
       "      <td>2013-01-07</td>\n",
       "      <td>2014-06-01</td>\n",
       "      <td>2014-06-01</td>\n",
       "      <td>2015-07-25</td>\n",
       "      <td>929</td>\n",
       "      <td>undefined</td>\n",
       "      <td>undefined</td>\n",
       "      <td>undefined</td>\n",
       "    </tr>\n",
       "    <tr>\n",
       "      <th>14</th>\n",
       "      <td>Purewine</td>\n",
       "      <td>Nanotechnology|Technology|Wine And Spirits</td>\n",
       "      <td>335000.0</td>\n",
       "      <td>operating</td>\n",
       "      <td>NaN</td>\n",
       "      <td>F7</td>\n",
       "      <td>NaN</td>\n",
       "      <td>NaN</td>\n",
       "      <td>2</td>\n",
       "      <td>2014-01-01</td>\n",
       "      <td>2014-08-28</td>\n",
       "      <td>2015-08-05</td>\n",
       "      <td>2018-01-01</td>\n",
       "      <td>1461</td>\n",
       "      <td>nanotechnology|technology|wine and spirits</td>\n",
       "      <td>nanotechnology</td>\n",
       "      <td>technology</td>\n",
       "    </tr>\n",
       "    <tr>\n",
       "      <th>15</th>\n",
       "      <td>paack</td>\n",
       "      <td>Customer Service|Delivery|Retail</td>\n",
       "      <td>30000.0</td>\n",
       "      <td>operating</td>\n",
       "      <td>NaN</td>\n",
       "      <td>F7</td>\n",
       "      <td>NaN</td>\n",
       "      <td>NaN</td>\n",
       "      <td>1</td>\n",
       "      <td>2014-03-30</td>\n",
       "      <td>2015-02-01</td>\n",
       "      <td>2015-02-01</td>\n",
       "      <td>2018-01-01</td>\n",
       "      <td>1373</td>\n",
       "      <td>customer service|delivery|retail</td>\n",
       "      <td>customer service</td>\n",
       "      <td>customer service</td>\n",
       "    </tr>\n",
       "    <tr>\n",
       "      <th>16</th>\n",
       "      <td>Salesjob</td>\n",
       "      <td>undefined</td>\n",
       "      <td>NaN</td>\n",
       "      <td>closed</td>\n",
       "      <td>NaN</td>\n",
       "      <td>F7</td>\n",
       "      <td>NaN</td>\n",
       "      <td>NaN</td>\n",
       "      <td>1</td>\n",
       "      <td>2013-01-01</td>\n",
       "      <td>2013-10-22</td>\n",
       "      <td>2013-10-22</td>\n",
       "      <td>2014-11-02</td>\n",
       "      <td>670</td>\n",
       "      <td>undefined</td>\n",
       "      <td>undefined</td>\n",
       "      <td>undefined</td>\n",
       "    </tr>\n",
       "  </tbody>\n",
       "</table>\n",
       "</div>"
      ],
      "text/plain": [
       "                    name                               category_list  \\\n",
       "3   Sancilio and Company                                 Health Care   \n",
       "12        Iberic Premium                                   undefined   \n",
       "14              Purewine  Nanotechnology|Technology|Wine And Spirits   \n",
       "15                 paack            Customer Service|Delivery|Retail   \n",
       "16              Salesjob                                   undefined   \n",
       "\n",
       "    funding_total_usd     status country_code state_code region city  \\\n",
       "3          22250000.0  operating          NaN         F7    NaN  NaN   \n",
       "12           107239.0     closed          NaN         F7    NaN  NaN   \n",
       "14           335000.0  operating          NaN         F7    NaN  NaN   \n",
       "15            30000.0  operating          NaN         F7    NaN  NaN   \n",
       "16                NaN     closed          NaN         F7    NaN  NaN   \n",
       "\n",
       "    funding_rounds founded_at first_funding_at last_funding_at  closed_at  \\\n",
       "3                3 2004-01-01       2011-09-01      2014-07-18 2018-01-01   \n",
       "12               1 2013-01-07       2014-06-01      2014-06-01 2015-07-25   \n",
       "14               2 2014-01-01       2014-08-28      2015-08-05 2018-01-01   \n",
       "15               1 2014-03-30       2015-02-01      2015-02-01 2018-01-01   \n",
       "16               1 2013-01-01       2013-10-22      2013-10-22 2014-11-02   \n",
       "\n",
       "    lifetime                              category_clean first_category_list  \\\n",
       "3       5114                                 health care         health care   \n",
       "12       929                                   undefined           undefined   \n",
       "14      1461  nanotechnology|technology|wine and spirits      nanotechnology   \n",
       "15      1373            customer service|delivery|retail    customer service   \n",
       "16       670                                   undefined           undefined   \n",
       "\n",
       "   standardized_category  \n",
       "3            health care  \n",
       "12             undefined  \n",
       "14            technology  \n",
       "15      customer service  \n",
       "16             undefined  "
      ]
     },
     "execution_count": 55,
     "metadata": {},
     "output_type": "execute_result"
    }
   ],
   "source": [
    "df_train_copy[df_train_copy['region'].isna()].head()"
   ]
  },
  {
   "cell_type": "code",
   "execution_count": 56,
   "id": "f30d17ad",
   "metadata": {
    "ExecuteTime": {
     "end_time": "2024-06-16T21:05:32.347455Z",
     "start_time": "2024-06-16T21:05:31.550160Z"
    }
   },
   "outputs": [
    {
     "name": "stdout",
     "output_type": "stream",
     "text": [
      "Количество пропущенных значений: 0\n"
     ]
    }
   ],
   "source": [
    "# Создаем словарь соответствия регионов и state_code, где region уже известен\n",
    "region_to_state_map = df_train_copy.dropna(subset=['region']).drop_duplicates(\n",
    "    'state_code').set_index('state_code')['region']\n",
    "\n",
    "# Применяем маппинг для заполнения пропущенных значений в region\n",
    "df_train_copy['region'] = df_train_copy.apply(\n",
    "    lambda row: region_to_state_map[row['state_code']] if pd.isna(\n",
    "        row['region']) and row['state_code'] in region_to_state_map else row['region'],\n",
    "    axis=1\n",
    ")\n",
    "\n",
    "print('Количество пропущенных значений:', df_train_copy['region'].isna().sum())"
   ]
  },
  {
   "cell_type": "markdown",
   "id": "4a4d505e",
   "metadata": {},
   "source": [
    "Повторим заполнение"
   ]
  },
  {
   "cell_type": "code",
   "execution_count": 57,
   "id": "cb0e86a5",
   "metadata": {
    "ExecuteTime": {
     "end_time": "2024-06-16T21:05:33.165078Z",
     "start_time": "2024-06-16T21:05:32.349351Z"
    }
   },
   "outputs": [
    {
     "name": "stdout",
     "output_type": "stream",
     "text": [
      "Количество пропущенных значений: 106\n"
     ]
    }
   ],
   "source": [
    "# Создаем словарь соответствия регионов и state_code, где state_code уже известен\n",
    "region_to_state_map = df_train_copy.dropna(subset=['state_code']).drop_duplicates(\n",
    "    'region').set_index('region')['state_code']\n",
    "\n",
    "# Применяем маппинг для заполнения пропущенных значений в state_code\n",
    "df_train_copy['state_code'] = df_train_copy.apply(\n",
    "    lambda row: region_to_state_map[row['region']] if pd.isna(\n",
    "        row['state_code']) and row['region'] in region_to_state_map else row['state_code'],\n",
    "    axis=1\n",
    ")\n",
    "\n",
    "print('Количество пропущенных значений:', df_train_copy['state_code'].isna().sum())"
   ]
  },
  {
   "cell_type": "code",
   "execution_count": 58,
   "id": "f12c46c3",
   "metadata": {
    "ExecuteTime": {
     "end_time": "2024-06-16T21:05:33.181081Z",
     "start_time": "2024-06-16T21:05:33.167078Z"
    },
    "scrolled": true
   },
   "outputs": [
    {
     "name": "stdout",
     "output_type": "stream",
     "text": [
      "Количество пропущенных значений: 0\n"
     ]
    }
   ],
   "source": [
    "# Заполнение указанных столбцов значением 'undefined', если выполнено условие\n",
    "df_train_copy.loc[df_train_copy['state_code'].isna(), 'state_code'] = 'undefined'\n",
    "\n",
    "print('Количество пропущенных значений:', df_train_copy['state_code'].isna().sum())"
   ]
  },
  {
   "cell_type": "markdown",
   "id": "077307ce",
   "metadata": {},
   "source": [
    "На основе вышеописанного создадим функции и применим для проверки работоспособности"
   ]
  },
  {
   "cell_type": "code",
   "execution_count": 59,
   "id": "90eea059",
   "metadata": {
    "ExecuteTime": {
     "end_time": "2024-06-16T21:05:33.197078Z",
     "start_time": "2024-06-16T21:05:33.182103Z"
    }
   },
   "outputs": [],
   "source": [
    "def fill_state_code(df):\n",
    "    # Создание словаря маппинга региона к коду штата\n",
    "    region_to_state_map = df.dropna(subset=['state_code']).drop_duplicates('region').set_index('region')['state_code']\n",
    "    # Заполнение пропущенных значений в state_code на основе region\n",
    "    df['state_code'] = df.apply(lambda row: region_to_state_map.get(row['region'], row['state_code']), axis=1)\n",
    "    # Дополнительное заполнение 'undefined'\n",
    "    df['state_code'].fillna('undefined', inplace=True)\n",
    "    return df\n",
    "\n",
    "def fill_region(df):\n",
    "    # Создание словаря маппинга страны к наиболее частому региону\n",
    "    country_to_region_map = df.dropna(subset=['region']).groupby('country_code')['region'].agg(lambda x: x.value_counts().idxmax())\n",
    "    # Заполнение пропущенных значений в region на основе country_code\n",
    "    df['region'] = df.apply(lambda row: country_to_region_map.get(row['country_code'], row['region']), axis=1)\n",
    "    return df"
   ]
  },
  {
   "cell_type": "code",
   "execution_count": 60,
   "id": "b3b32056",
   "metadata": {
    "ExecuteTime": {
     "end_time": "2024-06-16T21:05:34.990568Z",
     "start_time": "2024-06-16T21:05:33.198079Z"
    }
   },
   "outputs": [
    {
     "name": "stdout",
     "output_type": "stream",
     "text": [
      "Количество пропущенных значений: 0\n",
      "Количество пропущенных значений: 5508\n"
     ]
    }
   ],
   "source": [
    "df_train_copy_def = fill_state_code(df_train_copy_def)\n",
    "df_train_copy_def = fill_region(df_train_copy_def)\n",
    "print('Количество пропущенных значений:', df_train_copy_def['state_code'].isna().sum())\n",
    "print('Количество пропущенных значений:', df_train_copy_def['region'].isna().sum())"
   ]
  },
  {
   "cell_type": "markdown",
   "id": "4deb8f79",
   "metadata": {},
   "source": [
    "**ВЫВОД:** Пропуски в state_code и region заменены с учетом данных в других столбцах. Используем данную функцию в пайплайне"
   ]
  },
  {
   "cell_type": "markdown",
   "id": "2820f6bd",
   "metadata": {},
   "source": [
    "### Проверим наличие ошибок  в датах "
   ]
  },
  {
   "cell_type": "markdown",
   "id": "b67f1438",
   "metadata": {},
   "source": [
    "Проверим количество строк в которых дата первого этапа финансирования была раньше чем дата создания стартапа"
   ]
  },
  {
   "cell_type": "code",
   "execution_count": 61,
   "id": "c0882812",
   "metadata": {
    "ExecuteTime": {
     "end_time": "2024-06-16T21:05:35.006077Z",
     "start_time": "2024-06-16T21:05:34.992570Z"
    },
    "scrolled": true
   },
   "outputs": [
    {
     "name": "stdout",
     "output_type": "stream",
     "text": [
      "Количество стартапах где допущена ошибка в дате первого этапа финансирования: 2933\n"
     ]
    }
   ],
   "source": [
    "print('Количество стартапах где допущена ошибка в дате первого этапа финансирования:',\n",
    "      (df_train['first_funding_at'] < df_train['founded_at']).sum())"
   ]
  },
  {
   "cell_type": "code",
   "execution_count": 62,
   "id": "bb2dba73",
   "metadata": {
    "ExecuteTime": {
     "end_time": "2024-06-16T21:05:35.022078Z",
     "start_time": "2024-06-16T21:05:35.007078Z"
    }
   },
   "outputs": [
    {
     "data": {
      "text/html": [
       "<div>\n",
       "<style scoped>\n",
       "    .dataframe tbody tr th:only-of-type {\n",
       "        vertical-align: middle;\n",
       "    }\n",
       "\n",
       "    .dataframe tbody tr th {\n",
       "        vertical-align: top;\n",
       "    }\n",
       "\n",
       "    .dataframe thead th {\n",
       "        text-align: right;\n",
       "    }\n",
       "</style>\n",
       "<table border=\"1\" class=\"dataframe\">\n",
       "  <thead>\n",
       "    <tr style=\"text-align: right;\">\n",
       "      <th></th>\n",
       "      <th>name</th>\n",
       "      <th>category_list</th>\n",
       "      <th>funding_total_usd</th>\n",
       "      <th>status</th>\n",
       "      <th>country_code</th>\n",
       "      <th>state_code</th>\n",
       "      <th>region</th>\n",
       "      <th>city</th>\n",
       "      <th>funding_rounds</th>\n",
       "      <th>founded_at</th>\n",
       "      <th>first_funding_at</th>\n",
       "      <th>last_funding_at</th>\n",
       "      <th>closed_at</th>\n",
       "      <th>lifetime</th>\n",
       "    </tr>\n",
       "  </thead>\n",
       "  <tbody>\n",
       "    <tr>\n",
       "      <th>34</th>\n",
       "      <td>Evargrah Entertainment Group</td>\n",
       "      <td>Entertainment|Games</td>\n",
       "      <td>NaN</td>\n",
       "      <td>operating</td>\n",
       "      <td>USA</td>\n",
       "      <td>CA</td>\n",
       "      <td>Los Angeles</td>\n",
       "      <td>Los Angeles</td>\n",
       "      <td>1</td>\n",
       "      <td>2013-08-13</td>\n",
       "      <td>2013-07-09</td>\n",
       "      <td>2013-07-09</td>\n",
       "      <td>2018-01-01</td>\n",
       "      <td>1602</td>\n",
       "    </tr>\n",
       "    <tr>\n",
       "      <th>74</th>\n",
       "      <td>Box Upon a Time</td>\n",
       "      <td>Fashion|Retail</td>\n",
       "      <td>389454.0</td>\n",
       "      <td>operating</td>\n",
       "      <td>NaN</td>\n",
       "      <td>NaN</td>\n",
       "      <td>NaN</td>\n",
       "      <td>NaN</td>\n",
       "      <td>2</td>\n",
       "      <td>2014-04-01</td>\n",
       "      <td>2013-12-09</td>\n",
       "      <td>2014-09-09</td>\n",
       "      <td>2018-01-01</td>\n",
       "      <td>1371</td>\n",
       "    </tr>\n",
       "    <tr>\n",
       "      <th>96</th>\n",
       "      <td>Heartscape Technologies, Inc.</td>\n",
       "      <td>Healthcare Services|Medical Devices|Technology</td>\n",
       "      <td>18400000.0</td>\n",
       "      <td>closed</td>\n",
       "      <td>USA</td>\n",
       "      <td>NY</td>\n",
       "      <td>New York City</td>\n",
       "      <td>New York</td>\n",
       "      <td>2</td>\n",
       "      <td>2005-11-01</td>\n",
       "      <td>2005-10-10</td>\n",
       "      <td>2007-04-25</td>\n",
       "      <td>2008-08-12</td>\n",
       "      <td>1015</td>\n",
       "    </tr>\n",
       "    <tr>\n",
       "      <th>110</th>\n",
       "      <td>Cohuman</td>\n",
       "      <td>Collaboration|Enterprise Software|Project Mana...</td>\n",
       "      <td>1400000.0</td>\n",
       "      <td>operating</td>\n",
       "      <td>USA</td>\n",
       "      <td>CA</td>\n",
       "      <td>SF Bay Area</td>\n",
       "      <td>San Francisco</td>\n",
       "      <td>2</td>\n",
       "      <td>2009-10-09</td>\n",
       "      <td>2009-09-09</td>\n",
       "      <td>2011-01-01</td>\n",
       "      <td>2018-01-01</td>\n",
       "      <td>3006</td>\n",
       "    </tr>\n",
       "    <tr>\n",
       "      <th>113</th>\n",
       "      <td>Kraftwurx</td>\n",
       "      <td>3D|3D Printing|DIY|E-Commerce|Mass Customizati...</td>\n",
       "      <td>1000000.0</td>\n",
       "      <td>operating</td>\n",
       "      <td>USA</td>\n",
       "      <td>TX</td>\n",
       "      <td>Houston</td>\n",
       "      <td>Cypress</td>\n",
       "      <td>2</td>\n",
       "      <td>2011-08-01</td>\n",
       "      <td>2006-04-01</td>\n",
       "      <td>2011-08-09</td>\n",
       "      <td>2018-01-01</td>\n",
       "      <td>2345</td>\n",
       "    </tr>\n",
       "  </tbody>\n",
       "</table>\n",
       "</div>"
      ],
      "text/plain": [
       "                              name  \\\n",
       "34    Evargrah Entertainment Group   \n",
       "74                 Box Upon a Time   \n",
       "96   Heartscape Technologies, Inc.   \n",
       "110                        Cohuman   \n",
       "113                      Kraftwurx   \n",
       "\n",
       "                                         category_list  funding_total_usd  \\\n",
       "34                                 Entertainment|Games                NaN   \n",
       "74                                      Fashion|Retail           389454.0   \n",
       "96      Healthcare Services|Medical Devices|Technology         18400000.0   \n",
       "110  Collaboration|Enterprise Software|Project Mana...          1400000.0   \n",
       "113  3D|3D Printing|DIY|E-Commerce|Mass Customizati...          1000000.0   \n",
       "\n",
       "        status country_code state_code         region           city  \\\n",
       "34   operating          USA         CA    Los Angeles    Los Angeles   \n",
       "74   operating          NaN        NaN            NaN            NaN   \n",
       "96      closed          USA         NY  New York City       New York   \n",
       "110  operating          USA         CA    SF Bay Area  San Francisco   \n",
       "113  operating          USA         TX        Houston        Cypress   \n",
       "\n",
       "     funding_rounds founded_at first_funding_at last_funding_at  closed_at  \\\n",
       "34                1 2013-08-13       2013-07-09      2013-07-09 2018-01-01   \n",
       "74                2 2014-04-01       2013-12-09      2014-09-09 2018-01-01   \n",
       "96                2 2005-11-01       2005-10-10      2007-04-25 2008-08-12   \n",
       "110               2 2009-10-09       2009-09-09      2011-01-01 2018-01-01   \n",
       "113               2 2011-08-01       2006-04-01      2011-08-09 2018-01-01   \n",
       "\n",
       "     lifetime  \n",
       "34       1602  \n",
       "74       1371  \n",
       "96       1015  \n",
       "110      3006  \n",
       "113      2345  "
      ]
     },
     "execution_count": 62,
     "metadata": {},
     "output_type": "execute_result"
    }
   ],
   "source": [
    "df_train[df_train['first_funding_at'] < df_train['founded_at']].head()"
   ]
  },
  {
   "cell_type": "markdown",
   "id": "3ca249d8",
   "metadata": {},
   "source": [
    "Проверим количество строк в которых дата последнего этапа финансирования была раньше чем дата создания стартапа"
   ]
  },
  {
   "cell_type": "code",
   "execution_count": 63,
   "id": "9da7c03b",
   "metadata": {
    "ExecuteTime": {
     "end_time": "2024-06-16T21:05:35.038078Z",
     "start_time": "2024-06-16T21:05:35.024085Z"
    }
   },
   "outputs": [
    {
     "name": "stdout",
     "output_type": "stream",
     "text": [
      "Количество стартапах где допущена ошибка в дате последнего этапа финансирования: 1629\n"
     ]
    }
   ],
   "source": [
    "print('Количество стартапах где допущена ошибка в дате последнего этапа финансирования:',\n",
    "      (df_train['last_funding_at'] < df_train['founded_at']).sum())"
   ]
  },
  {
   "cell_type": "markdown",
   "id": "956acb62",
   "metadata": {
    "ExecuteTime": {
     "end_time": "2024-06-06T07:52:18.929541Z",
     "start_time": "2024-06-06T07:52:18.917030Z"
    }
   },
   "source": [
    "Проверим количество строк в которых дата последнего этапа финансирования была раньше чем дата первого этапа финансирования"
   ]
  },
  {
   "cell_type": "code",
   "execution_count": 64,
   "id": "fa8cd1b2",
   "metadata": {
    "ExecuteTime": {
     "end_time": "2024-06-16T21:05:35.054079Z",
     "start_time": "2024-06-16T21:05:35.040079Z"
    }
   },
   "outputs": [
    {
     "name": "stdout",
     "output_type": "stream",
     "text": [
      "Количество стартапов, где допущена ошибка в датах первого и последнего этапа финансирования, при этом количество раундов равно одному: 0\n"
     ]
    }
   ],
   "source": [
    "error_count = (\n",
    "        (df_train['last_funding_at'] < df_train['first_funding_at'])\n",
    "     & (df_train['funding_rounds'] == 1)\n",
    ").sum()\n",
    "\n",
    "print(\n",
    "    'Количество стартапов, где допущена ошибка в датах первого и последнего этапа финансирования, '\n",
    "    'при этом количество раундов равно одному:', error_count\n",
    ")"
   ]
  },
  {
   "cell_type": "markdown",
   "id": "9f788625",
   "metadata": {},
   "source": [
    "И так в данных пристутсвуют ошибки в датах. Ошибки могут быть к и в датах основания, так и в датах проведения, но так как отрицательных значений нету в разнице между последним и первым этапом финансирования, то вероятная ошибка кроется в датакх основания стартапа."
   ]
  },
  {
   "cell_type": "code",
   "execution_count": 65,
   "id": "c40550ea",
   "metadata": {
    "ExecuteTime": {
     "end_time": "2024-06-16T21:05:36.911650Z",
     "start_time": "2024-06-16T21:05:35.056083Z"
    }
   },
   "outputs": [
    {
     "name": "stdout",
     "output_type": "stream",
     "text": [
      "Количество пропущенных значений: 0\n",
      "Количество пропущенных значений: 0\n"
     ]
    }
   ],
   "source": [
    "df_train_copy_def = fill_state_code(df_train_copy)\n",
    "df_train_copy_def = fill_region(df_train_copy)\n",
    "print('Количество пропущенных значений:', df_train_copy_def['state_code'].isna().sum())\n",
    "print('Количество пропущенных значений:', df_train_copy_def['region'].isna().sum())"
   ]
  },
  {
   "cell_type": "code",
   "execution_count": 66,
   "id": "f29cd93b",
   "metadata": {
    "ExecuteTime": {
     "end_time": "2024-06-16T21:05:36.943739Z",
     "start_time": "2024-06-16T21:05:36.913649Z"
    }
   },
   "outputs": [
    {
     "data": {
      "text/html": [
       "<div>\n",
       "<style scoped>\n",
       "    .dataframe tbody tr th:only-of-type {\n",
       "        vertical-align: middle;\n",
       "    }\n",
       "\n",
       "    .dataframe tbody tr th {\n",
       "        vertical-align: top;\n",
       "    }\n",
       "\n",
       "    .dataframe thead th {\n",
       "        text-align: right;\n",
       "    }\n",
       "</style>\n",
       "<table border=\"1\" class=\"dataframe\">\n",
       "  <thead>\n",
       "    <tr style=\"text-align: right;\">\n",
       "      <th></th>\n",
       "      <th>name</th>\n",
       "      <th>category_list</th>\n",
       "      <th>funding_total_usd</th>\n",
       "      <th>status</th>\n",
       "      <th>country_code</th>\n",
       "      <th>state_code</th>\n",
       "      <th>region</th>\n",
       "      <th>city</th>\n",
       "      <th>funding_rounds</th>\n",
       "      <th>founded_at</th>\n",
       "      <th>first_funding_at</th>\n",
       "      <th>last_funding_at</th>\n",
       "      <th>closed_at</th>\n",
       "      <th>lifetime</th>\n",
       "    </tr>\n",
       "  </thead>\n",
       "  <tbody>\n",
       "    <tr>\n",
       "      <th>49866</th>\n",
       "      <td>Unyqe</td>\n",
       "      <td>Apps|iPhone|Mobile|Software</td>\n",
       "      <td>35000.0</td>\n",
       "      <td>closed</td>\n",
       "      <td>SYC</td>\n",
       "      <td>8</td>\n",
       "      <td>Seychelles</td>\n",
       "      <td>Victoria</td>\n",
       "      <td>1</td>\n",
       "      <td>2011-11-10</td>\n",
       "      <td>2011-10-23</td>\n",
       "      <td>2011-10-23</td>\n",
       "      <td>2013-02-13</td>\n",
       "      <td>461</td>\n",
       "    </tr>\n",
       "  </tbody>\n",
       "</table>\n",
       "</div>"
      ],
      "text/plain": [
       "        name                category_list  funding_total_usd  status  \\\n",
       "49866  Unyqe  Apps|iPhone|Mobile|Software            35000.0  closed   \n",
       "\n",
       "      country_code state_code      region      city  funding_rounds  \\\n",
       "49866          SYC          8  Seychelles  Victoria               1   \n",
       "\n",
       "      founded_at first_funding_at last_funding_at  closed_at  lifetime  \n",
       "49866 2011-11-10       2011-10-23      2011-10-23 2013-02-13       461  "
      ]
     },
     "execution_count": 66,
     "metadata": {},
     "output_type": "execute_result"
    }
   ],
   "source": [
    "df_train.query('country_code == \"SYC\"')"
   ]
  },
  {
   "cell_type": "markdown",
   "id": "5389ee6a",
   "metadata": {},
   "source": [
    "Заменим для этих строк дату в `founded_at` на более раннюю, дельту возьмем на основании медианного значения по всему датасету, причем для каждой страны отдельно"
   ]
  },
  {
   "cell_type": "code",
   "execution_count": 67,
   "id": "04bd6e09",
   "metadata": {
    "ExecuteTime": {
     "end_time": "2024-06-16T21:05:36.959162Z",
     "start_time": "2024-06-16T21:05:36.944651Z"
    },
    "scrolled": true
   },
   "outputs": [
    {
     "data": {
      "text/plain": [
       "2933"
      ]
     },
     "execution_count": 67,
     "metadata": {},
     "output_type": "execute_result"
    }
   ],
   "source": [
    "# Расчет медианной дельты между 'first_funding_at' и 'founded_at' для каждой страны\n",
    "df_train_copy['delta_days'] = (df_train_copy['first_funding_at'] - df_train_copy['founded_at']).dt.days\n",
    "df_train_filter = df_train_copy[df_train_copy['delta_days'] >= 0]\n",
    "(df_train.shape[0] - df_train_filter.shape[0])"
   ]
  },
  {
   "cell_type": "code",
   "execution_count": 68,
   "id": "83e1c1a6",
   "metadata": {
    "ExecuteTime": {
     "end_time": "2024-06-16T21:05:36.975157Z",
     "start_time": "2024-06-16T21:05:36.961157Z"
    },
    "scrolled": false
   },
   "outputs": [
    {
     "data": {
      "text/plain": [
       "country_code\n",
       "GEO      0.0\n",
       "MDA      0.0\n",
       "MLT      0.0\n",
       "BLM      0.0\n",
       "QAT      0.0\n",
       "SOM      0.0\n",
       "ALB     39.5\n",
       "JEY     59.0\n",
       "OMN    120.0\n",
       "UZB    139.0\n",
       "Name: delta_days, dtype: float64"
      ]
     },
     "execution_count": 68,
     "metadata": {},
     "output_type": "execute_result"
    }
   ],
   "source": [
    "# Расчет медианной дельты по странам\n",
    "median_delta_per_country = df_train_filter.groupby('country_code')['delta_days'].median()\n",
    "\n",
    "# Расчет общей медианы для использования в случае отсутствия данных по стране\n",
    "overall_median = df_train_filter['delta_days'].median()\n",
    "\n",
    "median_delta_per_country.sort_values()[:10]"
   ]
  },
  {
   "cell_type": "code",
   "execution_count": 69,
   "id": "ac58635c",
   "metadata": {
    "ExecuteTime": {
     "end_time": "2024-06-16T21:05:37.005666Z",
     "start_time": "2024-06-16T21:05:36.977158Z"
    },
    "scrolled": true
   },
   "outputs": [
    {
     "name": "stdout",
     "output_type": "stream",
     "text": [
      "    country_code          founded_at first_funding_at last_funding_at\n",
      "34           USA 2012-01-09 00:00:00       2013-07-09      2013-07-09\n",
      "74           NaN 2012-07-15 00:00:00       2013-12-09      2014-09-09\n",
      "96           USA 2004-04-11 00:00:00       2005-10-10      2007-04-25\n",
      "110          USA 2008-03-11 00:00:00       2009-09-09      2011-01-01\n",
      "113          USA 2004-10-01 00:00:00       2006-04-01      2011-08-09\n",
      "118          SVK 2013-11-13 00:00:00       2014-10-01      2014-10-01\n",
      "121          USA 2006-10-02 00:00:00       2008-04-01      2012-01-24\n",
      "137          USA 2011-10-19 00:00:00       2013-04-18      2014-11-10\n",
      "157          ARG 2011-01-05 12:00:00       2012-01-01      2012-01-01\n",
      "162          GBR 2009-04-07 00:00:00       2010-09-16      2014-03-24\n"
     ]
    }
   ],
   "source": [
    "# Идентификация строк, где 'first_funding_at' < 'founded_at'\n",
    "mask = (df_train_copy['first_funding_at'] < df_train_copy['founded_at'])\n",
    "\n",
    "# Замена 'founded_at' на дату, уменьшенную на медианную дельту для соответствующей страны\n",
    "# Для этого сначала создаем временный столбец для хранения дельты\n",
    "df_train_copy.loc[mask, 'country_delta'] = df_train_copy.loc[mask,\n",
    "                                                             'country_code'].map(median_delta_per_country)\n",
    "\n",
    "# Заполнение NaN значений в 'country_delta' общей медианой только если delta_days < 0\n",
    "df_train_copy.loc[mask & (df_train_copy['delta_days'] < 0) & (\n",
    "    df_train_copy['country_delta'].isna()), 'country_delta'] = overall_median\n",
    "\n",
    "# Корректировка даты основания\n",
    "df_train_copy.loc[mask, 'founded_at'] = df_train_copy.loc[mask, 'first_funding_at'] - \\\n",
    "    pd.to_timedelta(df_train_copy.loc[mask, 'country_delta'], unit='days')\n",
    "\n",
    "# Удаление вспомогательных столбцов\n",
    "df_train_copy.drop(columns=['delta_days', 'country_delta'], inplace=True)\n",
    "\n",
    "# Проверка результатов\n",
    "print(df_train_copy.loc[mask, ['country_code', 'founded_at',\n",
    "      'first_funding_at', 'last_funding_at']][:10])"
   ]
  },
  {
   "cell_type": "code",
   "execution_count": 70,
   "id": "39dc30dc",
   "metadata": {
    "ExecuteTime": {
     "end_time": "2024-06-16T21:05:37.021667Z",
     "start_time": "2024-06-16T21:05:37.006667Z"
    },
    "scrolled": true
   },
   "outputs": [
    {
     "name": "stdout",
     "output_type": "stream",
     "text": [
      "Количество стартапах где допущена ошибка в дате первого этапа финансирования: 0\n"
     ]
    }
   ],
   "source": [
    "print('Количество стартапах где допущена ошибка в дате первого этапа финансирования:',\n",
    "      (df_train_copy['first_funding_at'] < df_train_copy['founded_at']).sum())"
   ]
  },
  {
   "cell_type": "markdown",
   "id": "b20c255b",
   "metadata": {},
   "source": [
    "Создадим функцию для пайплайна"
   ]
  },
  {
   "cell_type": "code",
   "execution_count": 71,
   "id": "7cec2b09",
   "metadata": {
    "ExecuteTime": {
     "end_time": "2024-06-16T21:05:37.037666Z",
     "start_time": "2024-06-16T21:05:37.022667Z"
    }
   },
   "outputs": [],
   "source": [
    "def adjust_founding_dates(df):\n",
    "    # Расчет дельты между 'first_funding_at' и 'founded_at'\n",
    "    df['delta_days'] = (df['first_funding_at'] - df['founded_at']).dt.days\n",
    "    df_train_filter = df[df['delta_days'] >= 0]\n",
    "\n",
    "    # Расчет медианных значений дельты по странам\n",
    "    median_delta_per_country = df_train_filter.groupby('country_code')['delta_days'].median()\n",
    "    overall_median = df_train_filter['delta_days'].median()\n",
    "\n",
    "    # Идентификация строк, где 'first_funding_at' < 'founded_at'\n",
    "    mask = (df['first_funding_at'] < df['founded_at'])\n",
    "    df.loc[mask, 'country_delta'] = df.loc[mask, 'country_code'].map(median_delta_per_country)\n",
    "    df.loc[mask & (df['delta_days'] < 0) & (df['country_delta'].isna()), 'country_delta'] = overall_median\n",
    "\n",
    "    # Корректировка даты основания\n",
    "    df.loc[mask, 'founded_at'] = df.loc[mask, 'first_funding_at'] - pd.to_timedelta(df.loc[mask, 'country_delta'], unit='days')\n",
    "\n",
    "    # Удаление вспомогательных столбцов\n",
    "    df.drop(columns=['delta_days', 'country_delta'], inplace=True)\n",
    "    return df"
   ]
  },
  {
   "cell_type": "code",
   "execution_count": 72,
   "id": "24d9702e",
   "metadata": {
    "ExecuteTime": {
     "end_time": "2024-06-16T21:05:37.084180Z",
     "start_time": "2024-06-16T21:05:37.039667Z"
    }
   },
   "outputs": [
    {
     "name": "stdout",
     "output_type": "stream",
     "text": [
      "Количество стартапах где допущена ошибка в дате первого этапа финансирования: 0\n"
     ]
    }
   ],
   "source": [
    "df_train_copy_def = adjust_founding_dates(df_train_copy_def)\n",
    "print('Количество стартапах где допущена ошибка в дате первого этапа финансирования:',\n",
    "      (df_train_copy_def['first_funding_at'] < df_train_copy_def['founded_at']).sum())"
   ]
  },
  {
   "cell_type": "markdown",
   "id": "7bf27475",
   "metadata": {},
   "source": [
    "**ВЫВОД:** В данном разделе анализа были выявлены и исправлены ошибки в датах финансирования стартапов. Основные обнаруженные проблемы:\n",
    "\n",
    "1. У 2933 стартапов дата первого финансирования была раньше даты основания.\n",
    "2. У 1629 стартапов дата последнего финансирования оказалась раньше даты основания.\n",
    "\n",
    "Для коррекции дат основания мы использовали медианные значения разницы между датами первого финансирования и основания по каждой стране. Это позволило адекватно скорректировать даты, устранив выявленные ошибки и сведя количество некорректных дат первого финансирования к нулю. Эффективность подхода подтверждена полным исправлением всех выявленных диссонансов в датах."
   ]
  },
  {
   "cell_type": "markdown",
   "id": "84534db9",
   "metadata": {},
   "source": [
    "### Создание новых столбцов `time_until_first_round`, `funding_duration` и `time_until_last_round`"
   ]
  },
  {
   "cell_type": "code",
   "execution_count": 73,
   "id": "049de2f7",
   "metadata": {
    "ExecuteTime": {
     "end_time": "2024-06-16T21:05:37.100263Z",
     "start_time": "2024-06-16T21:05:37.086180Z"
    }
   },
   "outputs": [],
   "source": [
    "df_train_copy['time_until_first_round'] = (df_train_copy['first_funding_at'] - df_train_copy['founded_at']).dt.days\n",
    "df_train_copy['funding_duration'] = (df_train_copy['last_funding_at'] - df_train_copy['first_funding_at']).dt.days\n",
    "df_train_copy['time_until_last_round'] = (df_train_copy['last_funding_at'] - df_train_copy['founded_at']).dt.days"
   ]
  },
  {
   "cell_type": "code",
   "execution_count": 74,
   "id": "b6f97911",
   "metadata": {
    "ExecuteTime": {
     "end_time": "2024-06-16T21:05:37.131691Z",
     "start_time": "2024-06-16T21:05:37.102179Z"
    },
    "scrolled": true
   },
   "outputs": [
    {
     "data": {
      "text/html": [
       "<div>\n",
       "<style scoped>\n",
       "    .dataframe tbody tr th:only-of-type {\n",
       "        vertical-align: middle;\n",
       "    }\n",
       "\n",
       "    .dataframe tbody tr th {\n",
       "        vertical-align: top;\n",
       "    }\n",
       "\n",
       "    .dataframe thead th {\n",
       "        text-align: right;\n",
       "    }\n",
       "</style>\n",
       "<table border=\"1\" class=\"dataframe\">\n",
       "  <thead>\n",
       "    <tr style=\"text-align: right;\">\n",
       "      <th></th>\n",
       "      <th>name</th>\n",
       "      <th>category_list</th>\n",
       "      <th>funding_total_usd</th>\n",
       "      <th>status</th>\n",
       "      <th>country_code</th>\n",
       "      <th>state_code</th>\n",
       "      <th>region</th>\n",
       "      <th>city</th>\n",
       "      <th>funding_rounds</th>\n",
       "      <th>founded_at</th>\n",
       "      <th>first_funding_at</th>\n",
       "      <th>last_funding_at</th>\n",
       "      <th>closed_at</th>\n",
       "      <th>lifetime</th>\n",
       "      <th>category_clean</th>\n",
       "      <th>first_category_list</th>\n",
       "      <th>standardized_category</th>\n",
       "      <th>time_until_first_round</th>\n",
       "      <th>funding_duration</th>\n",
       "      <th>time_until_last_round</th>\n",
       "    </tr>\n",
       "  </thead>\n",
       "  <tbody>\n",
       "    <tr>\n",
       "      <th>0</th>\n",
       "      <td>Lunchgate</td>\n",
       "      <td>Online Reservations|Restaurants</td>\n",
       "      <td>828626.0</td>\n",
       "      <td>operating</td>\n",
       "      <td>CHE</td>\n",
       "      <td>25</td>\n",
       "      <td>Zurich</td>\n",
       "      <td>zürich</td>\n",
       "      <td>2</td>\n",
       "      <td>2009-12-31</td>\n",
       "      <td>2011-05-01</td>\n",
       "      <td>2014-12-01</td>\n",
       "      <td>2018-01-01</td>\n",
       "      <td>2923</td>\n",
       "      <td>online reservations|restaurants</td>\n",
       "      <td>online reservations</td>\n",
       "      <td>online reservations</td>\n",
       "      <td>486</td>\n",
       "      <td>1310</td>\n",
       "      <td>1796</td>\n",
       "    </tr>\n",
       "    <tr>\n",
       "      <th>1</th>\n",
       "      <td>EarLens</td>\n",
       "      <td>Manufacturing|Medical|Medical Devices</td>\n",
       "      <td>42935019.0</td>\n",
       "      <td>operating</td>\n",
       "      <td>USA</td>\n",
       "      <td>CA</td>\n",
       "      <td>SF Bay Area</td>\n",
       "      <td>redwood city</td>\n",
       "      <td>4</td>\n",
       "      <td>2005-01-01</td>\n",
       "      <td>2010-05-04</td>\n",
       "      <td>2014-02-25</td>\n",
       "      <td>2018-01-01</td>\n",
       "      <td>4748</td>\n",
       "      <td>manufacturing|medical|medical devices</td>\n",
       "      <td>manufacturing</td>\n",
       "      <td>manufacturing</td>\n",
       "      <td>1949</td>\n",
       "      <td>1393</td>\n",
       "      <td>3342</td>\n",
       "    </tr>\n",
       "    <tr>\n",
       "      <th>2</th>\n",
       "      <td>Reviva Pharmaceuticals</td>\n",
       "      <td>Biotechnology</td>\n",
       "      <td>35456381.0</td>\n",
       "      <td>operating</td>\n",
       "      <td>USA</td>\n",
       "      <td>CA</td>\n",
       "      <td>SF Bay Area</td>\n",
       "      <td>san jose</td>\n",
       "      <td>3</td>\n",
       "      <td>2006-01-01</td>\n",
       "      <td>2012-08-20</td>\n",
       "      <td>2014-07-02</td>\n",
       "      <td>2018-01-01</td>\n",
       "      <td>4383</td>\n",
       "      <td>biotechnology</td>\n",
       "      <td>biotechnology</td>\n",
       "      <td>biotechnology</td>\n",
       "      <td>2423</td>\n",
       "      <td>681</td>\n",
       "      <td>3104</td>\n",
       "    </tr>\n",
       "    <tr>\n",
       "      <th>3</th>\n",
       "      <td>Sancilio and Company</td>\n",
       "      <td>Health Care</td>\n",
       "      <td>22250000.0</td>\n",
       "      <td>operating</td>\n",
       "      <td>NaN</td>\n",
       "      <td>F7</td>\n",
       "      <td>Sydney</td>\n",
       "      <td>NaN</td>\n",
       "      <td>3</td>\n",
       "      <td>2004-01-01</td>\n",
       "      <td>2011-09-01</td>\n",
       "      <td>2014-07-18</td>\n",
       "      <td>2018-01-01</td>\n",
       "      <td>5114</td>\n",
       "      <td>health care</td>\n",
       "      <td>health care</td>\n",
       "      <td>health care</td>\n",
       "      <td>2800</td>\n",
       "      <td>1051</td>\n",
       "      <td>3851</td>\n",
       "    </tr>\n",
       "    <tr>\n",
       "      <th>4</th>\n",
       "      <td>WireTough Cylinders</td>\n",
       "      <td>Manufacturing</td>\n",
       "      <td>NaN</td>\n",
       "      <td>operating</td>\n",
       "      <td>USA</td>\n",
       "      <td>VA</td>\n",
       "      <td>SF Bay Area</td>\n",
       "      <td>bristol</td>\n",
       "      <td>1</td>\n",
       "      <td>2010-09-30</td>\n",
       "      <td>2012-02-01</td>\n",
       "      <td>2012-02-01</td>\n",
       "      <td>2018-01-01</td>\n",
       "      <td>2650</td>\n",
       "      <td>manufacturing</td>\n",
       "      <td>manufacturing</td>\n",
       "      <td>manufacturing</td>\n",
       "      <td>489</td>\n",
       "      <td>0</td>\n",
       "      <td>489</td>\n",
       "    </tr>\n",
       "  </tbody>\n",
       "</table>\n",
       "</div>"
      ],
      "text/plain": [
       "                     name                          category_list  \\\n",
       "0               Lunchgate        Online Reservations|Restaurants   \n",
       "1                 EarLens  Manufacturing|Medical|Medical Devices   \n",
       "2  Reviva Pharmaceuticals                          Biotechnology   \n",
       "3    Sancilio and Company                            Health Care   \n",
       "4     WireTough Cylinders                          Manufacturing   \n",
       "\n",
       "   funding_total_usd     status country_code state_code       region  \\\n",
       "0           828626.0  operating          CHE         25       Zurich   \n",
       "1         42935019.0  operating          USA         CA  SF Bay Area   \n",
       "2         35456381.0  operating          USA         CA  SF Bay Area   \n",
       "3         22250000.0  operating          NaN         F7       Sydney   \n",
       "4                NaN  operating          USA         VA  SF Bay Area   \n",
       "\n",
       "           city  funding_rounds founded_at first_funding_at last_funding_at  \\\n",
       "0        zürich               2 2009-12-31       2011-05-01      2014-12-01   \n",
       "1  redwood city               4 2005-01-01       2010-05-04      2014-02-25   \n",
       "2      san jose               3 2006-01-01       2012-08-20      2014-07-02   \n",
       "3           NaN               3 2004-01-01       2011-09-01      2014-07-18   \n",
       "4       bristol               1 2010-09-30       2012-02-01      2012-02-01   \n",
       "\n",
       "   closed_at  lifetime                         category_clean  \\\n",
       "0 2018-01-01      2923        online reservations|restaurants   \n",
       "1 2018-01-01      4748  manufacturing|medical|medical devices   \n",
       "2 2018-01-01      4383                          biotechnology   \n",
       "3 2018-01-01      5114                            health care   \n",
       "4 2018-01-01      2650                          manufacturing   \n",
       "\n",
       "   first_category_list standardized_category  time_until_first_round  \\\n",
       "0  online reservations   online reservations                     486   \n",
       "1        manufacturing         manufacturing                    1949   \n",
       "2        biotechnology         biotechnology                    2423   \n",
       "3          health care           health care                    2800   \n",
       "4        manufacturing         manufacturing                     489   \n",
       "\n",
       "   funding_duration  time_until_last_round  \n",
       "0              1310                   1796  \n",
       "1              1393                   3342  \n",
       "2               681                   3104  \n",
       "3              1051                   3851  \n",
       "4                 0                    489  "
      ]
     },
     "execution_count": 74,
     "metadata": {},
     "output_type": "execute_result"
    }
   ],
   "source": [
    "df_train_copy.head()"
   ]
  },
  {
   "cell_type": "code",
   "execution_count": 75,
   "id": "ecd30bfa",
   "metadata": {
    "ExecuteTime": {
     "end_time": "2024-06-16T21:05:37.162203Z",
     "start_time": "2024-06-16T21:05:37.133693Z"
    }
   },
   "outputs": [
    {
     "name": "stdout",
     "output_type": "stream",
     "text": [
      "<class 'pandas.core.frame.DataFrame'>\n",
      "RangeIndex: 52514 entries, 0 to 52513\n",
      "Data columns (total 20 columns):\n",
      " #   Column                  Non-Null Count  Dtype         \n",
      "---  ------                  --------------  -----         \n",
      " 0   name                    52514 non-null  object        \n",
      " 1   category_list           52514 non-null  object        \n",
      " 2   funding_total_usd       42445 non-null  float64       \n",
      " 3   status                  52514 non-null  object        \n",
      " 4   country_code            47013 non-null  object        \n",
      " 5   state_code              52514 non-null  object        \n",
      " 6   region                  52514 non-null  object        \n",
      " 7   city                    46156 non-null  object        \n",
      " 8   funding_rounds          52514 non-null  int64         \n",
      " 9   founded_at              52514 non-null  datetime64[ns]\n",
      " 10  first_funding_at        52514 non-null  datetime64[ns]\n",
      " 11  last_funding_at         52514 non-null  datetime64[ns]\n",
      " 12  closed_at               52514 non-null  datetime64[ns]\n",
      " 13  lifetime                52514 non-null  int64         \n",
      " 14  category_clean          52514 non-null  object        \n",
      " 15  first_category_list     52514 non-null  object        \n",
      " 16  standardized_category   52514 non-null  object        \n",
      " 17  time_until_first_round  52514 non-null  int64         \n",
      " 18  funding_duration        52514 non-null  int64         \n",
      " 19  time_until_last_round   52514 non-null  int64         \n",
      "dtypes: datetime64[ns](4), float64(1), int64(5), object(10)\n",
      "memory usage: 8.0+ MB\n"
     ]
    }
   ],
   "source": [
    "df_train_copy.info()"
   ]
  },
  {
   "cell_type": "markdown",
   "id": "598b4fa7",
   "metadata": {},
   "source": [
    "Создадим функцию "
   ]
  },
  {
   "cell_type": "code",
   "execution_count": 91,
   "id": "2ec89cbf",
   "metadata": {
    "ExecuteTime": {
     "end_time": "2024-06-16T21:08:44.214122Z",
     "start_time": "2024-06-16T21:08:44.196614Z"
    }
   },
   "outputs": [],
   "source": [
    "def calculate_time_intervals(df):\n",
    "    df['time_until_first_round'] = (df['first_funding_at'] - df['founded_at']).dt.days\n",
    "    df['funding_duration'] = (df['last_funding_at'] - df['first_funding_at']).dt.days\n",
    "    df['time_until_last_round'] = (df['last_funding_at'] - df['founded_at']).dt.days\n",
    "    df = df.drop(['founded_at', 'first_funding_at', 'last_funding_at'], axis=1)\n",
    "    return df"
   ]
  },
  {
   "cell_type": "code",
   "execution_count": 77,
   "id": "a804b93c",
   "metadata": {
    "ExecuteTime": {
     "end_time": "2024-06-16T21:05:37.225711Z",
     "start_time": "2024-06-16T21:05:37.179204Z"
    }
   },
   "outputs": [
    {
     "name": "stdout",
     "output_type": "stream",
     "text": [
      "<class 'pandas.core.frame.DataFrame'>\n",
      "RangeIndex: 52514 entries, 0 to 52513\n",
      "Data columns (total 20 columns):\n",
      " #   Column                  Non-Null Count  Dtype         \n",
      "---  ------                  --------------  -----         \n",
      " 0   name                    52514 non-null  object        \n",
      " 1   category_list           52514 non-null  object        \n",
      " 2   funding_total_usd       42445 non-null  float64       \n",
      " 3   status                  52514 non-null  object        \n",
      " 4   country_code            47013 non-null  object        \n",
      " 5   state_code              52514 non-null  object        \n",
      " 6   region                  52514 non-null  object        \n",
      " 7   city                    46156 non-null  object        \n",
      " 8   funding_rounds          52514 non-null  int64         \n",
      " 9   founded_at              52514 non-null  datetime64[ns]\n",
      " 10  first_funding_at        52514 non-null  datetime64[ns]\n",
      " 11  last_funding_at         52514 non-null  datetime64[ns]\n",
      " 12  closed_at               52514 non-null  datetime64[ns]\n",
      " 13  lifetime                52514 non-null  int64         \n",
      " 14  category_clean          52514 non-null  object        \n",
      " 15  first_category_list     52514 non-null  object        \n",
      " 16  standardized_category   52514 non-null  object        \n",
      " 17  time_until_first_round  52514 non-null  int64         \n",
      " 18  funding_duration        52514 non-null  int64         \n",
      " 19  time_until_last_round   52514 non-null  int64         \n",
      "dtypes: datetime64[ns](4), float64(1), int64(5), object(10)\n",
      "memory usage: 8.0+ MB\n"
     ]
    }
   ],
   "source": [
    "df_train_copy_def = calculate_time_intervals(df_train_copy_def)\n",
    "df_train_copy_def.info()"
   ]
  },
  {
   "cell_type": "markdown",
   "id": "50235249",
   "metadata": {},
   "source": [
    "**ВЫВОД:** Создали три дополнительных столбца, которые определяют количество дней между различными этапами жизни стартапа. Функцию применим в пайплайне"
   ]
  },
  {
   "cell_type": "markdown",
   "id": "cefb31f4",
   "metadata": {},
   "source": [
    "### Заполним пропуски в `funding_total_usd`"
   ]
  },
  {
   "cell_type": "markdown",
   "id": "53fcfcd8",
   "metadata": {},
   "source": [
    "Заменим пропуски в `funding_total_usd` на медианные значения, для каждой `country_code`"
   ]
  },
  {
   "cell_type": "code",
   "execution_count": 78,
   "id": "f27a0b27",
   "metadata": {
    "ExecuteTime": {
     "end_time": "2024-06-16T21:05:38.173479Z",
     "start_time": "2024-06-16T21:05:37.227712Z"
    }
   },
   "outputs": [
    {
     "name": "stdout",
     "output_type": "stream",
     "text": [
      "<class 'pandas.core.frame.DataFrame'>\n",
      "RangeIndex: 52514 entries, 0 to 52513\n",
      "Data columns (total 20 columns):\n",
      " #   Column                  Non-Null Count  Dtype         \n",
      "---  ------                  --------------  -----         \n",
      " 0   name                    52514 non-null  object        \n",
      " 1   category_list           52514 non-null  object        \n",
      " 2   funding_total_usd       52514 non-null  int64         \n",
      " 3   status                  52514 non-null  object        \n",
      " 4   country_code            47013 non-null  object        \n",
      " 5   state_code              52514 non-null  object        \n",
      " 6   region                  52514 non-null  object        \n",
      " 7   city                    46156 non-null  object        \n",
      " 8   funding_rounds          52514 non-null  int64         \n",
      " 9   founded_at              52514 non-null  datetime64[ns]\n",
      " 10  first_funding_at        52514 non-null  datetime64[ns]\n",
      " 11  last_funding_at         52514 non-null  datetime64[ns]\n",
      " 12  closed_at               52514 non-null  datetime64[ns]\n",
      " 13  lifetime                52514 non-null  int64         \n",
      " 14  category_clean          52514 non-null  object        \n",
      " 15  first_category_list     52514 non-null  object        \n",
      " 16  standardized_category   52514 non-null  object        \n",
      " 17  time_until_first_round  52514 non-null  int64         \n",
      " 18  funding_duration        52514 non-null  int64         \n",
      " 19  time_until_last_round   52514 non-null  int64         \n",
      "dtypes: datetime64[ns](4), int64(6), object(10)\n",
      "memory usage: 8.0+ MB\n"
     ]
    }
   ],
   "source": [
    "# Расчет медианного значения для каждой страны\n",
    "median_per_country_usd = df_train_copy.groupby(\n",
    "    'country_code')['funding_total_usd'].median()\n",
    "\n",
    "# Расчет общей медианы для использования в случае отсутствия медианы по стране\n",
    "overall_median_usd = df_train_copy['funding_total_usd'].median()\n",
    "\n",
    "# Замена NaN значений в 'funding_total_usd' медианой для соответствующей страны\n",
    "df_train_copy['funding_total_usd'] = df_train_copy.apply(\n",
    "    lambda row: median_per_country_usd[row['country_code']] if pd.isna(\n",
    "        row['funding_total_usd']) and row['country_code'] in median_per_country_usd else row['funding_total_usd'],\n",
    "    axis=1\n",
    ")\n",
    "\n",
    "# Заполнение оставшихся NaN значений общей медианой\n",
    "df_train_copy['funding_total_usd'].fillna(overall_median_usd, inplace=True)\n",
    "\n",
    "# Преобразование столбца funding_total_usd из float в int64\n",
    "df_train_copy['funding_total_usd'] = df_train_copy['funding_total_usd'].astype('int64')\n",
    "\n",
    "# Проверка результатов\n",
    "df_train_copy.info()"
   ]
  },
  {
   "cell_type": "markdown",
   "id": "09d4e21e",
   "metadata": {},
   "source": [
    "Создадим функцию"
   ]
  },
  {
   "cell_type": "code",
   "execution_count": 79,
   "id": "d8d37265",
   "metadata": {
    "ExecuteTime": {
     "end_time": "2024-06-16T21:05:38.188480Z",
     "start_time": "2024-06-16T21:05:38.175480Z"
    }
   },
   "outputs": [],
   "source": [
    "def fill_funding_total_usd(df):\n",
    "    # Расчет медианного значения для каждой страны\n",
    "    median_per_country_usd = df.groupby('country_code')['funding_total_usd'].median()\n",
    "\n",
    "    # Расчет общей медианы\n",
    "    overall_median_usd = df['funding_total_usd'].median()\n",
    "\n",
    "    # Замена NaN значений медианой для соответствующей страны\n",
    "    df['funding_total_usd'] = df.apply(\n",
    "        lambda row: median_per_country_usd[row['country_code']] if pd.isna(row['funding_total_usd']) and row['country_code'] in median_per_country_usd else row['funding_total_usd'],\n",
    "        axis=1\n",
    "    )\n",
    "\n",
    "    # Заполнение оставшихся NaN значений общей медианой\n",
    "    df['funding_total_usd'].fillna(overall_median_usd, inplace=True)\n",
    "\n",
    "    # Преобразование столбца funding_total_usd из float в int\n",
    "    df['funding_total_usd'] = df['funding_total_usd'].astype('int64')\n",
    "\n",
    "    return df"
   ]
  },
  {
   "cell_type": "code",
   "execution_count": 80,
   "id": "d444fc64",
   "metadata": {
    "ExecuteTime": {
     "end_time": "2024-06-16T21:05:38.929144Z",
     "start_time": "2024-06-16T21:05:38.189480Z"
    }
   },
   "outputs": [
    {
     "name": "stdout",
     "output_type": "stream",
     "text": [
      "<class 'pandas.core.frame.DataFrame'>\n",
      "RangeIndex: 52514 entries, 0 to 52513\n",
      "Data columns (total 20 columns):\n",
      " #   Column                  Non-Null Count  Dtype         \n",
      "---  ------                  --------------  -----         \n",
      " 0   name                    52514 non-null  object        \n",
      " 1   category_list           52514 non-null  object        \n",
      " 2   funding_total_usd       52514 non-null  int64         \n",
      " 3   status                  52514 non-null  object        \n",
      " 4   country_code            47013 non-null  object        \n",
      " 5   state_code              52514 non-null  object        \n",
      " 6   region                  52514 non-null  object        \n",
      " 7   city                    46156 non-null  object        \n",
      " 8   funding_rounds          52514 non-null  int64         \n",
      " 9   founded_at              52514 non-null  datetime64[ns]\n",
      " 10  first_funding_at        52514 non-null  datetime64[ns]\n",
      " 11  last_funding_at         52514 non-null  datetime64[ns]\n",
      " 12  closed_at               52514 non-null  datetime64[ns]\n",
      " 13  lifetime                52514 non-null  int64         \n",
      " 14  category_clean          52514 non-null  object        \n",
      " 15  first_category_list     52514 non-null  object        \n",
      " 16  standardized_category   52514 non-null  object        \n",
      " 17  time_until_first_round  52514 non-null  int64         \n",
      " 18  funding_duration        52514 non-null  int64         \n",
      " 19  time_until_last_round   52514 non-null  int64         \n",
      "dtypes: datetime64[ns](4), int64(6), object(10)\n",
      "memory usage: 8.0+ MB\n"
     ]
    }
   ],
   "source": [
    "df_train_copy_def = fill_funding_total_usd(df_train_copy_def)\n",
    "df_train_copy_def.info()"
   ]
  },
  {
   "cell_type": "markdown",
   "id": "b33c0285",
   "metadata": {},
   "source": [
    "**ВЫВОД:** Заполнели пропуски медианным значением для каждой страны отдельно. Функцию применим в пайплайне."
   ]
  },
  {
   "cell_type": "markdown",
   "id": "00bb9c34",
   "metadata": {},
   "source": [
    "### Создадим столбец с частями света `continent`"
   ]
  },
  {
   "cell_type": "code",
   "execution_count": 81,
   "id": "d422f937",
   "metadata": {
    "ExecuteTime": {
     "end_time": "2024-06-16T21:05:39.070671Z",
     "start_time": "2024-06-16T21:05:38.931143Z"
    },
    "code_folding": [],
    "scrolled": true
   },
   "outputs": [
    {
     "data": {
      "text/html": [
       "<div>\n",
       "<style scoped>\n",
       "    .dataframe tbody tr th:only-of-type {\n",
       "        vertical-align: middle;\n",
       "    }\n",
       "\n",
       "    .dataframe tbody tr th {\n",
       "        vertical-align: top;\n",
       "    }\n",
       "\n",
       "    .dataframe thead th {\n",
       "        text-align: right;\n",
       "    }\n",
       "</style>\n",
       "<table border=\"1\" class=\"dataframe\">\n",
       "  <thead>\n",
       "    <tr style=\"text-align: right;\">\n",
       "      <th></th>\n",
       "      <th>country_code</th>\n",
       "      <th>continent</th>\n",
       "    </tr>\n",
       "  </thead>\n",
       "  <tbody>\n",
       "    <tr>\n",
       "      <th>0</th>\n",
       "      <td>CHE</td>\n",
       "      <td>Europe</td>\n",
       "    </tr>\n",
       "    <tr>\n",
       "      <th>1</th>\n",
       "      <td>USA</td>\n",
       "      <td>North America</td>\n",
       "    </tr>\n",
       "    <tr>\n",
       "      <th>2</th>\n",
       "      <td>USA</td>\n",
       "      <td>North America</td>\n",
       "    </tr>\n",
       "    <tr>\n",
       "      <th>3</th>\n",
       "      <td>NaN</td>\n",
       "      <td>Other</td>\n",
       "    </tr>\n",
       "    <tr>\n",
       "      <th>4</th>\n",
       "      <td>USA</td>\n",
       "      <td>North America</td>\n",
       "    </tr>\n",
       "  </tbody>\n",
       "</table>\n",
       "</div>"
      ],
      "text/plain": [
       "  country_code      continent\n",
       "0          CHE         Europe\n",
       "1          USA  North America\n",
       "2          USA  North America\n",
       "3          NaN          Other\n",
       "4          USA  North America"
      ]
     },
     "execution_count": 81,
     "metadata": {},
     "output_type": "execute_result"
    }
   ],
   "source": [
    "# Стандартизируем названия стран\n",
    "df_train_copy['country_code_standart'] = df_train_copy['country_code'].apply(alpha3_to_alpha2)\n",
    "\n",
    "# Добавим столбец частей света\n",
    "df_train_copy['continent'] = df_train_copy['country_code_standart'].apply(country_to_continent)\n",
    "\n",
    "# Проверяем результат\n",
    "df_train_copy[['country_code', 'continent']].head()"
   ]
  },
  {
   "cell_type": "code",
   "execution_count": 82,
   "id": "de841fbb",
   "metadata": {
    "ExecuteTime": {
     "end_time": "2024-06-16T21:05:39.101673Z",
     "start_time": "2024-06-16T21:05:39.086676Z"
    }
   },
   "outputs": [],
   "source": [
    "# Удалим лишний столбец\n",
    "df_train_copy = df_train_copy.drop('country_code_standart', axis=1)"
   ]
  },
  {
   "cell_type": "markdown",
   "id": "15d3a802",
   "metadata": {},
   "source": [
    "Создадим функцию"
   ]
  },
  {
   "cell_type": "code",
   "execution_count": 83,
   "id": "ea991f5c",
   "metadata": {
    "ExecuteTime": {
     "end_time": "2024-06-16T21:05:39.117181Z",
     "start_time": "2024-06-16T21:05:39.103673Z"
    }
   },
   "outputs": [],
   "source": [
    "def standardize_country_and_add_continent(df):\n",
    "    # Стандартизация кодов стран (предполагаем, что функция alpha3_to_alpha2 уже определена)\n",
    "    df['country_code_standart'] = df['country_code'].apply(alpha3_to_alpha2)\n",
    "\n",
    "    # Добавление информации о континенте (предполагаем, что функция country_to_continent уже определена)\n",
    "    df['continent'] = df['country_code_standart'].apply(country_to_continent)\n",
    "\n",
    "    # Удаление временного столбца\n",
    "    df = df.drop('country_code_standart', axis=1)\n",
    "\n",
    "    return df"
   ]
  },
  {
   "cell_type": "code",
   "execution_count": 84,
   "id": "ed53d431",
   "metadata": {
    "ExecuteTime": {
     "end_time": "2024-06-16T21:05:39.275721Z",
     "start_time": "2024-06-16T21:05:39.118182Z"
    }
   },
   "outputs": [
    {
     "name": "stdout",
     "output_type": "stream",
     "text": [
      "<class 'pandas.core.frame.DataFrame'>\n",
      "RangeIndex: 52514 entries, 0 to 52513\n",
      "Data columns (total 21 columns):\n",
      " #   Column                  Non-Null Count  Dtype         \n",
      "---  ------                  --------------  -----         \n",
      " 0   name                    52514 non-null  object        \n",
      " 1   category_list           52514 non-null  object        \n",
      " 2   funding_total_usd       52514 non-null  int64         \n",
      " 3   status                  52514 non-null  object        \n",
      " 4   country_code            47013 non-null  object        \n",
      " 5   state_code              52514 non-null  object        \n",
      " 6   region                  52514 non-null  object        \n",
      " 7   city                    46156 non-null  object        \n",
      " 8   funding_rounds          52514 non-null  int64         \n",
      " 9   founded_at              52514 non-null  datetime64[ns]\n",
      " 10  first_funding_at        52514 non-null  datetime64[ns]\n",
      " 11  last_funding_at         52514 non-null  datetime64[ns]\n",
      " 12  closed_at               52514 non-null  datetime64[ns]\n",
      " 13  lifetime                52514 non-null  int64         \n",
      " 14  category_clean          52514 non-null  object        \n",
      " 15  first_category_list     52514 non-null  object        \n",
      " 16  standardized_category   52514 non-null  object        \n",
      " 17  time_until_first_round  52514 non-null  int64         \n",
      " 18  funding_duration        52514 non-null  int64         \n",
      " 19  time_until_last_round   52514 non-null  int64         \n",
      " 20  continent               52514 non-null  object        \n",
      "dtypes: datetime64[ns](4), int64(6), object(11)\n",
      "memory usage: 8.4+ MB\n"
     ]
    }
   ],
   "source": [
    "df_train_copy_def = standardize_country_and_add_continent(df_train_copy_def)\n",
    "df_train_copy_def.info()"
   ]
  },
  {
   "cell_type": "markdown",
   "id": "224bb9a2",
   "metadata": {},
   "source": [
    "**ВЫВОД:** Добавили столбец который определяет часть света. Функцию применим в пайплайне"
   ]
  },
  {
   "cell_type": "markdown",
   "id": "d1c7c999",
   "metadata": {},
   "source": [
    "## Исследовательский анализ данных"
   ]
  },
  {
   "cell_type": "markdown",
   "id": "dfacd2db",
   "metadata": {},
   "source": [
    "### Описание количественных параметров"
   ]
  },
  {
   "cell_type": "code",
   "execution_count": null,
   "id": "acd32cbb",
   "metadata": {
    "ExecuteTime": {
     "end_time": "2024-06-13T19:15:02.795869Z",
     "start_time": "2024-06-13T19:14:58.158063Z"
    },
    "scrolled": false
   },
   "outputs": [],
   "source": [
    "# Цикл для вызова функции для каждого датафрейма\n",
    "for name, data_frame in df_dict.items():\n",
    "    plot_histograms_for_df(data_frame, name)"
   ]
  },
  {
   "cell_type": "code",
   "execution_count": null,
   "id": "9aabc1e7",
   "metadata": {
    "ExecuteTime": {
     "end_time": "2024-06-13T19:15:37.754841Z",
     "start_time": "2024-06-13T19:15:31.230810Z"
    },
    "scrolled": true
   },
   "outputs": [],
   "source": [
    "plot_histograms(df_train)"
   ]
  },
  {
   "cell_type": "code",
   "execution_count": null,
   "id": "ce549654",
   "metadata": {
    "ExecuteTime": {
     "end_time": "2024-06-13T19:21:07.841990Z",
     "start_time": "2024-06-13T19:21:07.616732Z"
    },
    "scrolled": false
   },
   "outputs": [],
   "source": [
    "import plotly.graph_objects as go\n",
    "\n",
    "# Функция для построения боксплотов для всех числовых столбцов в датафреймах\n",
    "def plot_boxplots(df_dict):\n",
    "    for name, df in df_dict.items():\n",
    "        # Фильтруем только числовые столбцы\n",
    "        numeric_cols = df.select_dtypes(include=['float64', 'int64']).columns\n",
    "        fig = go.Figure()\n",
    "        for col in numeric_cols:\n",
    "            fig.add_trace(go.Box(y=df[col], name=col))\n",
    "        \n",
    "        fig.update_layout(title=f\"Box Plots of {name}\", xaxis_title=\"Variables\", yaxis_title=\"Values\")\n",
    "        fig.show()\n",
    "\n",
    "# Применяем функцию к вашему словарю датафреймов\n",
    "plot_boxplots(df_dict)"
   ]
  },
  {
   "cell_type": "code",
   "execution_count": null,
   "id": "d6afe8ee",
   "metadata": {
    "ExecuteTime": {
     "end_time": "2024-06-13T19:20:49.621813Z",
     "start_time": "2024-06-13T19:20:49.579304Z"
    }
   },
   "outputs": [],
   "source": [
    "def replace_outliers_with_median(df_dict):\n",
    "    # Проходим по каждому датафрейму в словаре\n",
    "    for name, df in df_dict.items():\n",
    "        print(f\"Processing {name}...\")\n",
    "        # Определяем числовые столбцы\n",
    "        numeric_cols = df.select_dtypes(include=['float64', 'int64']).columns\n",
    "        \n",
    "        for col in numeric_cols:\n",
    "            # Вычисляем 95-й процентиль для текущего столбца\n",
    "            percentile_95 = df[col].quantile(0.95)\n",
    "            # Вычисляем медиану для текущего столбца\n",
    "            median = df[col].median()\n",
    "            # Заменяем значения, которые превышают 95-й процентиль, на медиану\n",
    "            df.loc[df[col] > percentile_95, col] = median\n",
    "        # Вывод информации о процессе\n",
    "        print(f\"Outliers replaced in {name} for columns: {list(numeric_cols)}\")\n",
    "\n",
    "# Применяем функцию к вашему словарю датафреймов\n",
    "replace_outliers_with_median(df_dict)\n"
   ]
  },
  {
   "cell_type": "code",
   "execution_count": null,
   "id": "1b4f20c8",
   "metadata": {},
   "outputs": [],
   "source": []
  },
  {
   "cell_type": "code",
   "execution_count": null,
   "id": "0a3e16a4",
   "metadata": {},
   "outputs": [],
   "source": []
  },
  {
   "cell_type": "code",
   "execution_count": null,
   "id": "4e3b90e5",
   "metadata": {},
   "outputs": [],
   "source": []
  },
  {
   "cell_type": "code",
   "execution_count": null,
   "id": "c6731b6c",
   "metadata": {
    "ExecuteTime": {
     "end_time": "2024-06-10T15:18:26.974922Z",
     "start_time": "2024-06-10T15:18:22.255790Z"
    }
   },
   "outputs": [],
   "source": [
    "label_encoder = LabelEncoder()\n",
    "df_train['target'] = label_encoder.fit_transform(df_train['status'])\n",
    "report = sv.analyze([df_train, \"Profiling Report\"], 'target')\n",
    "report.show_html('Profiling Report.html')\n",
    "IFrame(src='Profiling Report.html', width=1000, height=500)"
   ]
  },
  {
   "cell_type": "code",
   "execution_count": null,
   "id": "7943faa7",
   "metadata": {
    "ExecuteTime": {
     "end_time": "2024-06-06T07:27:52.664786Z",
     "start_time": "2024-06-06T07:27:34.139223Z"
    },
    "scrolled": true
   },
   "outputs": [],
   "source": [
    "profile = ProfileReport(df_train, title=\"Profiling Report\")\n",
    "profile"
   ]
  },
  {
   "cell_type": "markdown",
   "id": "caa7b96a",
   "metadata": {},
   "source": [
    "Построем бохплоты для выявления аномальных значений в данных"
   ]
  },
  {
   "cell_type": "code",
   "execution_count": null,
   "id": "81d348a8",
   "metadata": {
    "ExecuteTime": {
     "end_time": "2024-06-10T15:28:11.378846Z",
     "start_time": "2024-06-10T15:28:11.007007Z"
    },
    "scrolled": false
   },
   "outputs": [],
   "source": [
    "for column in df_train.select_dtypes(include=['float64', 'int64']).columns:\n",
    "    fig = px.box(df_train, y=column, title=f\"Boxplot of {column}\")\n",
    "    fig.show()"
   ]
  },
  {
   "cell_type": "code",
   "execution_count": null,
   "id": "79f57386",
   "metadata": {
    "ExecuteTime": {
     "end_time": "2024-06-10T15:49:58.430942Z",
     "start_time": "2024-06-10T15:49:58.410433Z"
    }
   },
   "outputs": [],
   "source": [
    "df_train.query('funding_total_usd > 0.5e10')"
   ]
  },
  {
   "cell_type": "code",
   "execution_count": null,
   "id": "9fd8430d",
   "metadata": {
    "ExecuteTime": {
     "end_time": "2024-06-10T15:49:31.373699Z",
     "start_time": "2024-06-10T15:49:31.332168Z"
    }
   },
   "outputs": [],
   "source": [
    "df_train = df_train.query('funding_total_usd < 1e9').copy()"
   ]
  },
  {
   "cell_type": "code",
   "execution_count": null,
   "id": "5b335f3b",
   "metadata": {
    "ExecuteTime": {
     "end_time": "2024-06-13T19:20:19.967063Z",
     "start_time": "2024-06-13T19:20:19.932044Z"
    }
   },
   "outputs": [],
   "source": [
    "df_train.query('funding_rounds > 14')"
   ]
  },
  {
   "cell_type": "code",
   "execution_count": null,
   "id": "a8b35e66",
   "metadata": {},
   "outputs": [],
   "source": []
  },
  {
   "cell_type": "code",
   "execution_count": null,
   "id": "aed41557",
   "metadata": {},
   "outputs": [],
   "source": []
  },
  {
   "cell_type": "code",
   "execution_count": 88,
   "id": "b32c7f26",
   "metadata": {
    "ExecuteTime": {
     "end_time": "2024-06-16T21:06:40.750779Z",
     "start_time": "2024-06-16T21:06:40.740783Z"
    }
   },
   "outputs": [],
   "source": [
    "def cap_outliers(df):\n",
    "    numeric_cols = df.select_dtypes(include=['float64', 'int64']).columns\n",
    "        \n",
    "    for col in numeric_cols:\n",
    "        # Вычисляем 95-й процентиль для текущего столбца\n",
    "        percentile_95 = df[col].quantile(0.95)\n",
    "        # Вычисляем медиану для текущего столбца\n",
    "        median = df[col].median()\n",
    "        # Заменяем значения, которые превышают 95-й процентиль, на медиану\n",
    "        df.loc[df[col] > percentile_95, col] = median\n",
    "\n",
    "    return df"
   ]
  },
  {
   "cell_type": "markdown",
   "id": "14aba95b",
   "metadata": {},
   "source": [
    "### Разделим датафрейм по таргету"
   ]
  },
  {
   "cell_type": "markdown",
   "id": "addf6214",
   "metadata": {},
   "source": [
    "Для удобства разделим датафрейм по таргету"
   ]
  },
  {
   "cell_type": "code",
   "execution_count": null,
   "id": "b45bed41",
   "metadata": {
    "ExecuteTime": {
     "end_time": "2024-06-16T20:21:54.870572Z",
     "start_time": "2024-06-16T20:21:54.848062Z"
    }
   },
   "outputs": [],
   "source": [
    "df_closed = df_train_copy[df_train_copy['status'] == 'closed']\n",
    "df_closed.sample(2)"
   ]
  },
  {
   "cell_type": "code",
   "execution_count": null,
   "id": "49a99ddd",
   "metadata": {
    "ExecuteTime": {
     "end_time": "2024-06-16T20:21:55.667812Z",
     "start_time": "2024-06-16T20:21:55.628274Z"
    }
   },
   "outputs": [],
   "source": [
    "df_operating = df_train_copy[df_train_copy['status'] == 'operating']\n",
    "df_operating.sample(2)"
   ]
  },
  {
   "cell_type": "markdown",
   "id": "037999a1",
   "metadata": {},
   "source": [
    "### Распеределение стартапов по категориям"
   ]
  },
  {
   "cell_type": "markdown",
   "id": "f3892cfb",
   "metadata": {},
   "source": [
    "Преставим как распределены категории по стартапам"
   ]
  },
  {
   "cell_type": "code",
   "execution_count": null,
   "id": "f1ead80a",
   "metadata": {
    "ExecuteTime": {
     "end_time": "2024-06-16T20:21:58.953742Z",
     "start_time": "2024-06-16T20:21:58.947214Z"
    }
   },
   "outputs": [],
   "source": [
    "def tag_cloud(df, column, title):\n",
    "    cloud = WordCloud(width=800, height=90, background_color='white').generate_from_frequencies(\n",
    "        df[column].value_counts())\n",
    "\n",
    "    plt.figure(figsize=(12, 10))\n",
    "    plt.imshow(cloud, interpolation='bilinear')\n",
    "    # Название графика\n",
    "    plt.title(title, fontsize=14)\n",
    "    plt.axis('off')\n",
    "    plt.show()"
   ]
  },
  {
   "cell_type": "code",
   "execution_count": null,
   "id": "a2a7cea9",
   "metadata": {
    "ExecuteTime": {
     "end_time": "2024-06-16T20:22:00.016362Z",
     "start_time": "2024-06-16T20:21:59.709731Z"
    }
   },
   "outputs": [],
   "source": [
    "# Визуализация\n",
    "tag_cloud(df_closed, 'standardized_category', 'Облако слов категорий закрытых стартапов')\n",
    "tag_cloud(df_operating, 'standardized_category', 'Облако слов категорий открытых стартапов')"
   ]
  },
  {
   "cell_type": "code",
   "execution_count": null,
   "id": "c0357337",
   "metadata": {
    "ExecuteTime": {
     "end_time": "2024-06-16T20:22:01.248516Z",
     "start_time": "2024-06-16T20:22:01.235390Z"
    }
   },
   "outputs": [],
   "source": [
    "group_category = df_closed['standardized_category'].value_counts()\n",
    "group_category.head(10)"
   ]
  },
  {
   "cell_type": "code",
   "execution_count": null,
   "id": "a751b16e",
   "metadata": {
    "ExecuteTime": {
     "end_time": "2024-06-16T20:22:02.246398Z",
     "start_time": "2024-06-16T20:22:02.226275Z"
    }
   },
   "outputs": [],
   "source": [
    "group_category = df_operating['standardized_category'].value_counts()\n",
    "group_category.head(10)"
   ]
  },
  {
   "cell_type": "code",
   "execution_count": null,
   "id": "24aae566",
   "metadata": {
    "ExecuteTime": {
     "end_time": "2024-06-16T20:22:03.141186Z",
     "start_time": "2024-06-16T20:22:03.120084Z"
    }
   },
   "outputs": [],
   "source": [
    "group_category = df_train_copy['standardized_category'].value_counts()\n",
    "group_category.head(10)"
   ]
  },
  {
   "cell_type": "markdown",
   "id": "58e9c1c6",
   "metadata": {},
   "source": [
    "### Распеределение стартапов по странам"
   ]
  },
  {
   "cell_type": "markdown",
   "id": "e19eabb0",
   "metadata": {},
   "source": [
    "Аналогично представим данные как распрелены по странам "
   ]
  },
  {
   "cell_type": "code",
   "execution_count": null,
   "id": "0beb696a",
   "metadata": {
    "ExecuteTime": {
     "end_time": "2024-06-16T20:22:05.682206Z",
     "start_time": "2024-06-16T20:22:05.451633Z"
    }
   },
   "outputs": [],
   "source": [
    "tag_cloud(df_closed, 'country_code', 'Облако стран закрытых стартапов')\n",
    "tag_cloud(df_operating, 'country_code', 'Облако стран открытых стартапов')"
   ]
  },
  {
   "cell_type": "code",
   "execution_count": null,
   "id": "06eae4b3",
   "metadata": {
    "ExecuteTime": {
     "end_time": "2024-06-16T20:48:38.753935Z",
     "start_time": "2024-06-16T20:48:38.736428Z"
    }
   },
   "outputs": [],
   "source": [
    "group_country_closed = df_closed['country_code'].value_counts()\n",
    "group_country_closed.head(10)"
   ]
  },
  {
   "cell_type": "code",
   "execution_count": null,
   "id": "4c8780f1",
   "metadata": {
    "ExecuteTime": {
     "end_time": "2024-06-16T20:48:39.227525Z",
     "start_time": "2024-06-16T20:48:39.206517Z"
    }
   },
   "outputs": [],
   "source": [
    "group_country_operating = df_operating['country_code'].value_counts()\n",
    "group_country_operating.head(10)"
   ]
  },
  {
   "cell_type": "code",
   "execution_count": null,
   "id": "d34ec280",
   "metadata": {
    "ExecuteTime": {
     "end_time": "2024-06-16T20:48:39.746718Z",
     "start_time": "2024-06-16T20:48:39.726669Z"
    },
    "scrolled": true
   },
   "outputs": [],
   "source": [
    "group_country = df_train_copy['country_code'].value_counts()\n",
    "group_country.head(10)"
   ]
  },
  {
   "cell_type": "code",
   "execution_count": null,
   "id": "c5750b22",
   "metadata": {
    "ExecuteTime": {
     "end_time": "2024-06-16T20:48:40.608663Z",
     "start_time": "2024-06-16T20:48:40.413402Z"
    }
   },
   "outputs": [],
   "source": [
    "plot_grouped_bar_chart(\n",
    "    group_country,\n",
    "    group_country_closed,\n",
    "    group_country_operating,\n",
    "    'Топ-10 частей света по действующим и закрытым стартапам',\n",
    "    'Часть света (все стартапы)', \n",
    "    'Часть света (действующие стартапы)',\n",
    "    'Часть света (закрытые стартапы)'\n",
    ")"
   ]
  },
  {
   "cell_type": "markdown",
   "id": "43df85c1",
   "metadata": {},
   "source": [
    "### Распеределение стартапов по частям света"
   ]
  },
  {
   "cell_type": "code",
   "execution_count": null,
   "id": "882899e9",
   "metadata": {
    "ExecuteTime": {
     "end_time": "2024-06-16T20:22:09.685440Z",
     "start_time": "2024-06-16T20:22:09.523883Z"
    }
   },
   "outputs": [],
   "source": [
    "tag_cloud(df_closed, 'continent', 'Облако частей света закрытых стартапов')\n",
    "tag_cloud(df_operating, 'continent', 'Облако частей света открытых стартапов')"
   ]
  },
  {
   "cell_type": "code",
   "execution_count": null,
   "id": "2e9cbb05",
   "metadata": {
    "ExecuteTime": {
     "end_time": "2024-06-16T20:41:50.298219Z",
     "start_time": "2024-06-16T20:41:50.283243Z"
    }
   },
   "outputs": [],
   "source": [
    "group_continent_closed = df_closed['continent'].value_counts()\n",
    "group_continent_closed.head(10)"
   ]
  },
  {
   "cell_type": "code",
   "execution_count": null,
   "id": "3a60feb2",
   "metadata": {
    "ExecuteTime": {
     "end_time": "2024-06-16T20:41:50.739836Z",
     "start_time": "2024-06-16T20:41:50.717836Z"
    }
   },
   "outputs": [],
   "source": [
    "group_continent_operating = df_operating['continent'].value_counts()\n",
    "group_continent_operating.head(10)"
   ]
  },
  {
   "cell_type": "code",
   "execution_count": null,
   "id": "2bfe6ad2",
   "metadata": {
    "ExecuteTime": {
     "end_time": "2024-06-16T20:41:51.460956Z",
     "start_time": "2024-06-16T20:41:51.446448Z"
    },
    "scrolled": true
   },
   "outputs": [],
   "source": [
    "group_continent = df_train_copy['continent'].value_counts()\n",
    "group_continent.head(10)"
   ]
  },
  {
   "cell_type": "code",
   "execution_count": null,
   "id": "e4f6dbbc",
   "metadata": {
    "ExecuteTime": {
     "end_time": "2024-06-16T20:41:52.445515Z",
     "start_time": "2024-06-16T20:41:52.239473Z"
    }
   },
   "outputs": [],
   "source": [
    "plot_grouped_bar_chart(\n",
    "    group_continent,\n",
    "    group_continent_closed,\n",
    "    group_continent_operating,\n",
    "    'Топ-10 частей света по действующим и закрытым стартапам',\n",
    "    'Часть света (все стартапы)', \n",
    "    'Часть света (действующие стартапы)',\n",
    "    'Часть света (закрытые стартапы)'\n",
    ")"
   ]
  },
  {
   "cell_type": "markdown",
   "id": "b540e5fd",
   "metadata": {},
   "source": [
    "### Распеределение стартапов по городам"
   ]
  },
  {
   "cell_type": "code",
   "execution_count": null,
   "id": "787b44fe",
   "metadata": {
    "ExecuteTime": {
     "end_time": "2024-06-16T20:22:15.239844Z",
     "start_time": "2024-06-16T20:22:14.870207Z"
    }
   },
   "outputs": [],
   "source": [
    "tag_cloud(df_closed, 'city', 'Облако городов закрытых стартапов')\n",
    "tag_cloud(df_operating, 'city', 'Облако городов открытых стартапов')"
   ]
  },
  {
   "cell_type": "code",
   "execution_count": null,
   "id": "61c35efd",
   "metadata": {
    "ExecuteTime": {
     "end_time": "2024-06-16T20:22:15.554425Z",
     "start_time": "2024-06-16T20:22:15.545915Z"
    }
   },
   "outputs": [],
   "source": [
    "group_city_closed = df_closed['city'].value_counts()\n",
    "group_city_closed.head(10)"
   ]
  },
  {
   "cell_type": "code",
   "execution_count": null,
   "id": "66ddb741",
   "metadata": {
    "ExecuteTime": {
     "end_time": "2024-06-16T20:22:16.073461Z",
     "start_time": "2024-06-16T20:22:16.048950Z"
    }
   },
   "outputs": [],
   "source": [
    "group_city_operating = df_operating['city'].value_counts()\n",
    "group_city_operating.head(10)"
   ]
  },
  {
   "cell_type": "code",
   "execution_count": null,
   "id": "941fafc6",
   "metadata": {
    "ExecuteTime": {
     "end_time": "2024-06-16T20:22:16.933243Z",
     "start_time": "2024-06-16T20:22:16.923240Z"
    },
    "scrolled": true
   },
   "outputs": [],
   "source": [
    "group_city = df_train_copy['city'].value_counts()\n",
    "group_city.head(10)"
   ]
  },
  {
   "cell_type": "code",
   "execution_count": null,
   "id": "7762c55a",
   "metadata": {},
   "outputs": [],
   "source": []
  },
  {
   "cell_type": "code",
   "execution_count": null,
   "id": "0f81e44b",
   "metadata": {
    "ExecuteTime": {
     "end_time": "2024-06-16T20:55:23.682403Z",
     "start_time": "2024-06-16T20:55:23.458370Z"
    }
   },
   "outputs": [],
   "source": [
    "def plot_grouped_bar_chart(data1, data2, data3, labels, title='Comparison Chart', x_label='Categories', y_label='Percentage'):\n",
    "    # Normalize the data to percentages\n",
    "    data1_normalized = (data1 / data1.sum()) * 100\n",
    "    data2_normalized = (data2 / data2.sum()) * 100\n",
    "    data3_normalized = (data3 / data3.sum()) * 100\n",
    "\n",
    "    # Ensure all use the same top categories\n",
    "    top_categories = data1_normalized.head(10).index\n",
    "\n",
    "    # Align other datasets to these categories\n",
    "    data2_top = data2_normalized.reindex(top_categories, fill_value=0)\n",
    "    data3_top = data3_normalized.reindex(top_categories, fill_value=0)\n",
    "\n",
    "    # Positioning of the groups\n",
    "    ind = np.arange(len(top_categories))  # the x locations for the groups\n",
    "    width = 0.25  # the width of the bars\n",
    "\n",
    "    fig, ax = plt.subplots(figsize=(12, 8))\n",
    "    rects1 = ax.bar(ind - width, data1_normalized.loc[top_categories], width, label=labels[0], color='#2A9D8F')\n",
    "    rects2 = ax.bar(ind, data2_top, width, label=labels[1], color='#E9C46A')\n",
    "    rects3 = ax.bar(ind + width, data3_top, width, label=labels[2], color='#F4A261')\n",
    "\n",
    "    # Add some text for labels, title, and custom x-axis tick labels, etc.\n",
    "    ax.set_xlabel(x_label)\n",
    "    ax.set_ylabel(y_label)\n",
    "    ax.set_title(title)\n",
    "    ax.set_xticks(ind)\n",
    "    ax.set_xticklabels(top_categories, rotation=90)\n",
    "    ax.legend()\n",
    "\n",
    "    ax.grid(True)\n",
    "    plt.show()\n",
    "\n",
    "# Example usage\n",
    "group_city = df_train_copy['city'].value_counts()\n",
    "group_city_operating = df_operating['city'].value_counts()\n",
    "group_city_closed = df_closed['city'].value_counts()\n",
    "\n",
    "plot_grouped_bar_chart(\n",
    "    group_city,\n",
    "    group_city_operating,\n",
    "    group_city_closed,\n",
    "    ['All Startups', 'Operating Startups', 'Closed Startups'],\n",
    "    title='Top 10 Countries and Cities by Startup Status'\n",
    ")"
   ]
  },
  {
   "cell_type": "markdown",
   "id": "e364876b",
   "metadata": {},
   "source": [
    "### Распеределение стартапов по раундам финансирования"
   ]
  },
  {
   "cell_type": "code",
   "execution_count": null,
   "id": "33330bc7",
   "metadata": {},
   "outputs": [],
   "source": []
  },
  {
   "cell_type": "code",
   "execution_count": null,
   "id": "aa1a42ea",
   "metadata": {},
   "outputs": [],
   "source": []
  },
  {
   "cell_type": "code",
   "execution_count": null,
   "id": "22ed7399",
   "metadata": {},
   "outputs": [],
   "source": []
  },
  {
   "cell_type": "markdown",
   "id": "092d0ead",
   "metadata": {},
   "source": [
    "### Распеределение стартапов по годам основания и суммы финансирования"
   ]
  },
  {
   "cell_type": "code",
   "execution_count": null,
   "id": "20aab992",
   "metadata": {},
   "outputs": [],
   "source": []
  },
  {
   "cell_type": "markdown",
   "id": "8d55eae2",
   "metadata": {},
   "source": [
    "## Создание новых признаков"
   ]
  },
  {
   "cell_type": "markdown",
   "id": "acaec777",
   "metadata": {},
   "source": [
    "### Уровень финансирования"
   ]
  },
  {
   "cell_type": "code",
   "execution_count": null,
   "id": "8965d91b",
   "metadata": {
    "ExecuteTime": {
     "end_time": "2024-06-16T20:57:31.980713Z",
     "start_time": "2024-06-16T20:57:31.952205Z"
    }
   },
   "outputs": [],
   "source": [
    "# Создание трех категорий для столбца 'funding_total_usd'\n",
    "df_train_copy['level_financing'] = pd.cut(\n",
    "    df_train_copy['funding_total_usd'],      # Столбец для разбиения на категории\n",
    "    bins=3,                       # Разбиение на три равных диапазона\n",
    "    labels=['low', 'medium', 'high']  # Метки для диапазонов\n",
    ")\n",
    "\n",
    "df_train_copy.head()"
   ]
  },
  {
   "cell_type": "markdown",
   "id": "1674cddd",
   "metadata": {},
   "source": [
    "Создадим функцию"
   ]
  },
  {
   "cell_type": "code",
   "execution_count": 87,
   "id": "e348b61c",
   "metadata": {
    "ExecuteTime": {
     "end_time": "2024-06-16T21:06:31.604079Z",
     "start_time": "2024-06-16T21:06:31.589572Z"
    }
   },
   "outputs": [],
   "source": [
    "def categorize_funding(df):\n",
    "    df['level_financing'] = pd.cut(\n",
    "        df['funding_total_usd'],\n",
    "        bins=3,  # Делит диапазон значений на три равные части\n",
    "        labels=['low', 'medium', 'high']  # Присваивает каждому диапазону метку\n",
    "    )\n",
    "    return df"
   ]
  },
  {
   "cell_type": "code",
   "execution_count": null,
   "id": "1dc008db",
   "metadata": {
    "ExecuteTime": {
     "end_time": "2024-06-16T20:57:37.538358Z",
     "start_time": "2024-06-16T20:57:37.498848Z"
    }
   },
   "outputs": [],
   "source": [
    "df_train_copy_def = categorize_funding(df_train_copy_def)\n",
    "df_train_copy_def.info()"
   ]
  },
  {
   "cell_type": "markdown",
   "id": "68b5b827",
   "metadata": {},
   "source": []
  },
  {
   "cell_type": "markdown",
   "id": "2ecafe30",
   "metadata": {},
   "source": [
    "## Модель"
   ]
  },
  {
   "cell_type": "code",
   "execution_count": null,
   "id": "6ee90f5f",
   "metadata": {
    "ExecuteTime": {
     "end_time": "2024-06-13T19:52:36.848961Z",
     "start_time": "2024-06-13T19:52:36.826451Z"
    }
   },
   "outputs": [],
   "source": [
    "df_train['funding_rounds'].sort_values().unique()"
   ]
  },
  {
   "cell_type": "code",
   "execution_count": null,
   "id": "3a44456d",
   "metadata": {
    "ExecuteTime": {
     "end_time": "2024-06-13T20:06:43.987673Z",
     "start_time": "2024-06-13T20:06:43.966160Z"
    }
   },
   "outputs": [],
   "source": [
    "df_train['status'].value_counts()"
   ]
  },
  {
   "cell_type": "code",
   "execution_count": null,
   "id": "a748ae8b",
   "metadata": {
    "ExecuteTime": {
     "end_time": "2024-06-13T19:53:13.628269Z",
     "start_time": "2024-06-13T19:53:13.607760Z"
    },
    "scrolled": true
   },
   "outputs": [],
   "source": [
    "df_train_clear = df_train.drop(['name', 'category_list', 'city', 'founded_at', 'first_funding_at',\n",
    "                               'last_funding_at', 'closed_at', 'city_clean', 'first_category_list', 'category_clean'], axis=1)"
   ]
  },
  {
   "cell_type": "code",
   "execution_count": null,
   "id": "8527bc77",
   "metadata": {
    "ExecuteTime": {
     "end_time": "2024-06-10T19:30:49.266859Z",
     "start_time": "2024-06-10T19:30:49.244727Z"
    }
   },
   "outputs": [],
   "source": [
    "df_train_clear = df_train.drop(['name', 'category_list', 'state_code', 'country_code', 'region', 'city', 'founded_at', \n",
    "                                'first_funding_at','last_funding_at', 'closed_at', 'city_clean', 'first_category_list', \n",
    "                                'category_clean'], axis=1)"
   ]
  },
  {
   "cell_type": "code",
   "execution_count": null,
   "id": "81e6e3c2",
   "metadata": {
    "ExecuteTime": {
     "end_time": "2024-06-13T19:53:16.534938Z",
     "start_time": "2024-06-13T19:53:16.530858Z"
    }
   },
   "outputs": [],
   "source": [
    "# Определяем стратегию кросс-валидации\n",
    "stratified_cv = StratifiedKFold(n_splits=5, shuffle=True, random_state=RANDOM_STATE)"
   ]
  },
  {
   "cell_type": "code",
   "execution_count": null,
   "id": "b541ab2b",
   "metadata": {
    "ExecuteTime": {
     "end_time": "2024-06-13T19:53:18.013715Z",
     "start_time": "2024-06-13T19:53:17.965166Z"
    }
   },
   "outputs": [],
   "source": [
    "# загружаем данные\n",
    "df_full_status = df_train_clear.copy()\n",
    "\n",
    "# Создаем экземпляр LabelEncoder\n",
    "label_encoder = LabelEncoder()\n",
    "\n",
    "# Преобразуем категориальные значения в числовой формат\n",
    "df_full_status['status'] = label_encoder.fit_transform(df_full_status['status'])\n",
    "\n",
    "# Выводим связь между значениями и кодами\n",
    "print(\"\\nСвязь между значениями и кодами:\")\n",
    "for code, category in enumerate(label_encoder.classes_):\n",
    "    print(f\"Код {code}: Значение '{category}'\")\n",
    "print(LINE_1)\n",
    "\n",
    "X_train, X_valid, y_train, y_valid = train_test_split(\n",
    "    df_full_status.drop(['status'], axis=1),\n",
    "    df_full_status['status'],\n",
    "    test_size = TEST_SIZE, \n",
    "    random_state = RANDOM_STATE,\n",
    "    stratify = df_full_status['status'])\n",
    "\n",
    "print(X_train.shape, X_valid.shape)\n",
    "print(LINE_1)\n",
    "y_train.shape, y_valid.shape"
   ]
  },
  {
   "cell_type": "code",
   "execution_count": null,
   "id": "a245616f",
   "metadata": {
    "ExecuteTime": {
     "end_time": "2024-06-13T19:53:30.132059Z",
     "start_time": "2024-06-13T19:53:30.104545Z"
    }
   },
   "outputs": [],
   "source": [
    "df_train_clear.info()"
   ]
  },
  {
   "cell_type": "code",
   "execution_count": null,
   "id": "2b73023a",
   "metadata": {
    "ExecuteTime": {
     "end_time": "2024-06-13T19:53:40.548452Z",
     "start_time": "2024-06-13T19:53:40.533022Z"
    }
   },
   "outputs": [],
   "source": [
    "# создаём списки с названиями признаков\n",
    "ord_columns = ['country_code', 'state_code', 'region', 'standardized_category', 'continent']\n",
    "ohe_columns = ['funding_rounds']\n",
    "num_columns = ['funding_total_usd', 'time_until_last_round', 'funding_duration', 'time_until_first_round', 'lifetime'] "
   ]
  },
  {
   "cell_type": "code",
   "execution_count": null,
   "id": "d8935b4b",
   "metadata": {
    "ExecuteTime": {
     "end_time": "2024-06-10T19:30:53.783958Z",
     "start_time": "2024-06-10T19:30:53.774437Z"
    }
   },
   "outputs": [],
   "source": [
    "# создаём списки с названиями признаков\n",
    "ord_columns = ['standardized_category', 'continent']\n",
    "ohe_columns = ['funding_rounds']\n",
    "num_columns = ['funding_total_usd', 'time_until_last_round', 'funding_duration', 'time_until_first_round', 'lifetime'] "
   ]
  },
  {
   "cell_type": "code",
   "execution_count": null,
   "id": "eed81cf1",
   "metadata": {
    "ExecuteTime": {
     "end_time": "2024-06-13T19:53:42.728178Z",
     "start_time": "2024-06-13T19:53:42.705685Z"
    }
   },
   "outputs": [],
   "source": [
    "def pipe_line(ohe_columns, ord_columns, num_columns):\n",
    "    global pipe_final\n",
    "    ohe_pipe = Pipeline(\n",
    "        [\n",
    "            (\n",
    "                'simpleImputer_ohe',  # Название первого шага в конвейере\n",
    "                # Простой импьютер для заполнения пропущенных значений\n",
    "                SimpleImputer(missing_values=np.nan, strategy='most_frequent')  \n",
    "                # В качестве стратегии заполнения выбрано наиболее часто встречающееся значение в столбце\n",
    "            ),\n",
    "            (\n",
    "                'ohe',  # Название второго шага в конвейере\n",
    "                OneHotEncoder(drop='first', sparse_output=False, handle_unknown='ignore')  # Применяем one-hot-encoding\n",
    "                # drop='first' позволяет избежать избыточности данных путем удаления первого уровня каждой категории\n",
    "                # sparse_output=False гарантирует, что вывод будет в виде плотного массива numpy, а не разреженной матрицы\n",
    "                # handle_unknown='ignore' указывает, что в случае новых, ранее не виданных категорий они будут игнорироваться\n",
    "            )\n",
    "        ]\n",
    "    )\n",
    "\n",
    "    ord_pipe = Pipeline([\n",
    "        # Замена пропущенных значений на наиболее часто встречающееся значение\n",
    "        (\n",
    "            'simpleImputer_before_ord',  # Название шага\n",
    "            # Применяем SimpleImputer для замены пропущенных значений\n",
    "            SimpleImputer(missing_values=np.nan, strategy='most_frequent')  \n",
    "        ),\n",
    "        # Кодирование категориальных признаков порядковыми значениями\n",
    "        (\n",
    "            'ord',  # Название шага\n",
    "            OrdinalEncoder(  # Применяем OrdinalEncoder для кодирования категориальных признаков\n",
    "                handle_unknown='use_encoded_value', unknown_value=np.nan  # Обрабатываем неизвестные значения\n",
    "            )\n",
    "        ),\n",
    "        # Замена пропущенных значений на наиболее часто встречающееся значение\n",
    "        (\n",
    "            'simpleImputer_after_ord',  # Название шага\n",
    "            # Применяем SimpleImputer для замены пропущенных значений\n",
    "            SimpleImputer(missing_values=np.nan, strategy='most_frequent') \n",
    "        )\n",
    "    ])  \n",
    "\n",
    "    data_preprocessor = ColumnTransformer(\n",
    "        [\n",
    "            # Шаг 1: Применяем one-hot encoding для выбранных категориальных столбцов\n",
    "            ('ohe', ohe_pipe, ohe_columns),  # Применяем ohe_pipe к ohe_columns\n",
    "            # Шаг 2: Применяем порядковое кодирование для выбранных категориальных столбцов\n",
    "            ('ord', ord_pipe, ord_columns),  # Применяем ord_pipe к ord_columns\n",
    "            # Шаг 3: Применяем MinMaxScaler для числовых столбцов\n",
    "            ('num', MinMaxScaler(), num_columns)\n",
    "        ],\n",
    "        remainder='passthrough'  # Пропускаем остальные столбцы без изменений\n",
    "    )\n",
    "\n",
    "    pipe_final = Pipeline([\n",
    "        # Шаг 1: Подготовка данных с помощью data_preprocessor\n",
    "        ('preprocessor', data_preprocessor),\n",
    "        # Шаг 2: Обучение модели LinearRegression\n",
    "        ('models', LinearRegression(n_jobs=-1)) \n",
    "    ])"
   ]
  },
  {
   "cell_type": "code",
   "execution_count": null,
   "id": "ea8e1996",
   "metadata": {
    "ExecuteTime": {
     "end_time": "2024-06-13T19:53:43.867692Z",
     "start_time": "2024-06-13T19:53:43.861573Z"
    }
   },
   "outputs": [],
   "source": [
    "pipe_line(ohe_columns, ord_columns, num_columns)"
   ]
  },
  {
   "cell_type": "code",
   "execution_count": null,
   "id": "763748c7",
   "metadata": {
    "ExecuteTime": {
     "end_time": "2024-06-13T19:53:44.414487Z",
     "start_time": "2024-06-13T19:53:44.402962Z"
    }
   },
   "outputs": [],
   "source": [
    "param_grid = [\n",
    "    # словарь для модели KNeighborsClassifier() \n",
    "    {\n",
    "        'models': [KNeighborsClassifier()],\n",
    "        'models__n_neighbors': range(2, 10),\n",
    "        'preprocessor__num': [StandardScaler(), MinMaxScaler(), RobustScaler(), 'passthrough']   \n",
    "    },\n",
    "    \n",
    "    # словарь для модели DecisionTreeClassifier()\n",
    "    {\n",
    "        'models': [DecisionTreeClassifier(random_state=RANDOM_STATE)],\n",
    "        'models__max_depth': range(2, 10),\n",
    "        'models__max_features': range(2, 10),\n",
    "        'models__class_weight': [None, 'balanced'],\n",
    "        'preprocessor__num': [StandardScaler(), MinMaxScaler(), RobustScaler(), 'passthrough']  \n",
    "    },\n",
    "    \n",
    "    # словарь для модели LogisticRegression()\n",
    "    {\n",
    "        'models': [LogisticRegression(\n",
    "            random_state=RANDOM_STATE, \n",
    "            solver='liblinear'\n",
    "        )],\n",
    "        'models__penalty': ['l1', 'l2'],\n",
    "        'models__C': range(1, 10),\n",
    "        'models__class_weight': [None, 'balanced'],\n",
    "        'preprocessor__num': [StandardScaler(), MinMaxScaler(), RobustScaler(), 'passthrough']  \n",
    "    }\n",
    "]\n",
    "\n",
    "param_grid"
   ]
  },
  {
   "cell_type": "code",
   "execution_count": null,
   "id": "30e6b79c",
   "metadata": {
    "ExecuteTime": {
     "end_time": "2024-06-13T20:01:12.044843Z",
     "start_time": "2024-06-13T19:54:13.136916Z"
    }
   },
   "outputs": [],
   "source": [
    "grid_search = RandomizedSearchCV(\n",
    "    pipe_final, \n",
    "    param_grid, \n",
    "    n_iter=100,\n",
    "    cv=stratified_cv,\n",
    "    scoring='f1',\n",
    "    n_jobs=-1,\n",
    "    random_state=RANDOM_STATE\n",
    ")\n",
    "grid_search.fit(X_train, y_train)"
   ]
  },
  {
   "cell_type": "code",
   "execution_count": null,
   "id": "ec5759ea",
   "metadata": {
    "ExecuteTime": {
     "end_time": "2024-06-10T16:50:38.923652Z",
     "start_time": "2024-06-10T16:50:38.883242Z"
    }
   },
   "outputs": [],
   "source": [
    "df_train.info()"
   ]
  },
  {
   "cell_type": "code",
   "execution_count": null,
   "id": "7e3d915b",
   "metadata": {
    "ExecuteTime": {
     "end_time": "2024-06-05T20:29:58.225344Z",
     "start_time": "2024-06-05T20:29:58.225344Z"
    }
   },
   "outputs": [],
   "source": [
    "grid_search_quit = GridSearchCV(\n",
    "    pipe_final, \n",
    "    param_grid=param_grid, \n",
    "    cv=stratified_cv,\n",
    "    scoring='f1',\n",
    "    n_jobs=-1\n",
    ")\n",
    "grid_search_quit.fit(X_train_quit, y_train_quit)"
   ]
  },
  {
   "cell_type": "code",
   "execution_count": null,
   "id": "1a7153dc",
   "metadata": {
    "ExecuteTime": {
     "end_time": "2024-06-13T20:01:32.479577Z",
     "start_time": "2024-06-13T20:01:32.443063Z"
    },
    "scrolled": true
   },
   "outputs": [],
   "source": [
    "# Выведем результаты в виде датафрейм\n",
    "pd.DataFrame(grid_search.cv_results_)[\n",
    "    ['std_test_score', 'rank_test_score', 'param_models', 'mean_test_score','params']\n",
    "].sort_values('rank_test_score').head(10)"
   ]
  },
  {
   "cell_type": "code",
   "execution_count": null,
   "id": "849126b5",
   "metadata": {
    "ExecuteTime": {
     "end_time": "2024-06-13T20:01:38.312937Z",
     "start_time": "2024-06-13T20:01:38.265312Z"
    }
   },
   "outputs": [],
   "source": [
    "print('Лучшая модель и её параметры:\\n\\n', grid_search.best_estimator_)\n",
    "print(LINE_1)\n",
    "print('Параметры лучшей модели:', grid_search.best_params_)\n",
    "print(LINE_1)\n",
    "print('Метрика лучшей модели по кросс-валидации на обучающих данных:', grid_search.best_score_)\n",
    "print(LINE_1)"
   ]
  },
  {
   "cell_type": "code",
   "execution_count": null,
   "id": "954a927f",
   "metadata": {},
   "outputs": [],
   "source": []
  },
  {
   "cell_type": "code",
   "execution_count": null,
   "id": "94169938",
   "metadata": {},
   "outputs": [],
   "source": []
  },
  {
   "cell_type": "code",
   "execution_count": null,
   "id": "9e6321e0",
   "metadata": {
    "ExecuteTime": {
     "end_time": "2024-06-05T20:47:49.844522Z",
     "start_time": "2024-06-05T20:47:44.027851Z"
    }
   },
   "outputs": [],
   "source": [
    "df_test.loc[df_test['category_list'].isna(), 'category_list'] = 'undefined'\n",
    "print(df_test['category_list'].nunique())\n",
    "df_test['category_clean'] = df_test['category_list'].apply(standardize_names)\n",
    "print(df_test['category_clean'].nunique())\n",
    "df_test['first_category_list'] = df_test['category_clean'].apply(extract_first_value)\n",
    "print(df_test['first_category_list'].nunique())\n",
    "df_test['standardized_category'] = fuzz_standardize_names(df_test['first_category_list'])\n",
    "print(df_test['standardized_category'].nunique())\n",
    "# Применение функций к столбцам и создание новых столбцов\n",
    "print(df_test['city'].nunique())\n",
    "df_test['city_clean'] = df_test['city'].apply(standardize_names)\n",
    "print(df_test['city_clean'].nunique())\n",
    "df_test[df_test['country_code'].isna() & df_test[['state_code', 'region', 'city']].notna().any(axis=1)]\n",
    "# Условие: столбец 'country_code' содержит NaN\n",
    "condition = df_test['country_code'].isna()\n",
    "# Столбцы для заполнения значением 'undefined'\n",
    "columns_to_fill = ['country_code', 'state_code', 'region', 'city']\n",
    "# Заполнение указанных столбцов значением 'undefined', если выполнено условие\n",
    "df_test.loc[condition, columns_to_fill] = 'undefined'\n",
    "print(df_test['region'].nunique())\n",
    "# Использование str.replace() для удаления ' - Other' из строк столбца 'region'\n",
    "df_test['region'] = df_test['region'].str.replace(' - Other', '', regex=False)\n",
    "print('Количество пропущенных значений до:', df_test['state_code'].isna().sum())\n",
    "# Создаем словарь соответствия регионов и state_code, где state_code уже известен\n",
    "region_to_state_map = df_test.dropna(subset=['state_code']).drop_duplicates(\n",
    "    'region').set_index('region')['state_code']\n",
    "# Применяем маппинг для заполнения пропущенных значений в state_code\n",
    "df_test['state_code'] = df_test.apply(\n",
    "    lambda row: region_to_state_map[row['region']] if pd.isna(\n",
    "        row['state_code']) and row['region'] in region_to_state_map else row['state_code'],\n",
    "    axis=1\n",
    ")\n",
    "\n",
    "print('Количество пропущенных значений после:', df_test['state_code'].isna().sum())\n",
    "print('Количество пропущенных значений до:', df_test['region'].isna().sum())\n",
    "# Создание словаря соответствия country_code и наиболее часто встречающегося region\n",
    "country_to_region_map = df_test.dropna(subset=['region']).groupby(\n",
    "    'country_code')['region'].agg(lambda x: x.value_counts().idxmax())\n",
    "\n",
    "# Заполнение пропущенных значений в region на основе country_code\n",
    "df_test['region'] = df_test.apply(\n",
    "    lambda row: country_to_region_map[row['country_code']] if pd.isna(\n",
    "        row['region']) and row['country_code'] in country_to_region_map else row['region'],\n",
    "    axis=1\n",
    ")\n",
    "\n",
    "print('Количество пропущенных значений после:', df_test['region'].isna().sum())\n",
    "# Создаем словарь соответствия регионов и state_code, где region уже известен\n",
    "region_to_state_map = df_test.dropna(subset=['region']).drop_duplicates(\n",
    "    'state_code').set_index('state_code')['region']\n",
    "\n",
    "# Применяем маппинг для заполнения пропущенных значений в region\n",
    "df_test['region'] = df_test.apply(\n",
    "    lambda row: region_to_state_map[row['state_code']] if pd.isna(\n",
    "        row['region']) and row['state_code'] in region_to_state_map else row['region'],\n",
    "    axis=1\n",
    ")\n",
    "\n",
    "print('Количество пропущенных значений:', df_test['region'].isna().sum())\n",
    "# Создаем словарь соответствия регионов и state_code, где state_code уже известен\n",
    "region_to_state_map = df_test.dropna(subset=['state_code']).drop_duplicates(\n",
    "    'region').set_index('region')['state_code']\n",
    "\n",
    "# Применяем маппинг для заполнения пропущенных значений в state_code\n",
    "df_test['state_code'] = df_test.apply(\n",
    "    lambda row: region_to_state_map[row['region']] if pd.isna(\n",
    "        row['state_code']) and row['region'] in region_to_state_map else row['state_code'],\n",
    "    axis=1\n",
    ")\n",
    "\n",
    "print('Количество пропущенных значений:', df_test['state_code'].isna().sum())\n",
    "# Заполнение указанных столбцов значением 'undefined', если выполнено условие\n",
    "df_test.loc[df_test['state_code'].isna(), 'state_code'] = 'undefined'\n",
    "\n",
    "print('Количество пропущенных значений:', df_test['state_code'].isna().sum())\n",
    "# Заполнение указанных столбцов значением 'undefined', если выполнено условие\n",
    "df_test.loc[df_test['city'].isna(), 'city'] = 'undefined'\n",
    "df_test.loc[df_test['city_clean'].isna(), 'city_clean'] = 'undefined'\n",
    "#df_train.loc[df_train['standardized_city'].isna(), 'standardized_city'] = 'undefined'\n",
    "\n",
    "\n",
    "print('Количество пропущенных значений:', df_test['city'].isna().sum())\n",
    "print('Количество пропущенных значений:', df_test['city_clean'].isna().sum())\n",
    "#print('Количество пропущенных значений:', df_train['standardized_city'].isna().sum())\n",
    "\n",
    "df_test['time_until_first_round'] = (df_test['first_funding_at'] - df_test['founded_at']).dt.days\n",
    "df_test['funding_duration'] = (df_test['last_funding_at'] - df_test['first_funding_at']).dt.days\n",
    "df_test['time_until_last_round'] = (df_test['last_funding_at'] - df_test['founded_at']).dt.days\n",
    "df_test['time_until_last_round'] = (df_test['last_funding_at'] - df_test['founded_at']).dt.days"
   ]
  },
  {
   "cell_type": "code",
   "execution_count": null,
   "id": "296c9de2",
   "metadata": {
    "ExecuteTime": {
     "end_time": "2024-06-13T21:24:14.217704Z",
     "start_time": "2024-06-13T21:24:14.198649Z"
    }
   },
   "outputs": [],
   "source": [
    "df_test.info()"
   ]
  },
  {
   "cell_type": "code",
   "execution_count": null,
   "id": "26bd9a2b",
   "metadata": {
    "ExecuteTime": {
     "end_time": "2024-06-13T21:24:15.370189Z",
     "start_time": "2024-06-13T21:24:15.349659Z"
    }
   },
   "outputs": [],
   "source": [
    "df_test_ = df_test.copy()"
   ]
  },
  {
   "cell_type": "code",
   "execution_count": null,
   "id": "73d44795",
   "metadata": {
    "ExecuteTime": {
     "end_time": "2024-06-13T21:24:16.211966Z",
     "start_time": "2024-06-13T21:24:16.200454Z"
    }
   },
   "outputs": [],
   "source": [
    "df_test_clear = df_test_.drop(['category_list', 'city', 'founded_at', 'first_funding_at',\n",
    "                               'last_funding_at', 'city_clean', 'first_category_list', 'category_clean'], axis=1)"
   ]
  },
  {
   "cell_type": "code",
   "execution_count": null,
   "id": "344b1ef2",
   "metadata": {
    "ExecuteTime": {
     "end_time": "2024-06-13T21:24:17.256637Z",
     "start_time": "2024-06-13T21:24:17.241236Z"
    },
    "scrolled": true
   },
   "outputs": [],
   "source": [
    "df_test_clear.info()"
   ]
  },
  {
   "cell_type": "code",
   "execution_count": null,
   "id": "8b4de081",
   "metadata": {
    "ExecuteTime": {
     "end_time": "2024-06-13T21:24:19.401658Z",
     "start_time": "2024-06-13T21:24:19.287273Z"
    }
   },
   "outputs": [],
   "source": [
    "df_test_clear['predicted_status'] = grid_search.best_estimator_.predict(df_test_clear)"
   ]
  },
  {
   "cell_type": "code",
   "execution_count": null,
   "id": "fb4c2c5d",
   "metadata": {
    "ExecuteTime": {
     "end_time": "2024-06-13T21:24:20.403009Z",
     "start_time": "2024-06-13T21:24:20.387977Z"
    }
   },
   "outputs": [],
   "source": [
    "df_test_clear['status'] = label_encoder.inverse_transform(df_test_clear['predicted_status'])"
   ]
  },
  {
   "cell_type": "code",
   "execution_count": null,
   "id": "32d1a09a",
   "metadata": {
    "ExecuteTime": {
     "end_time": "2024-06-13T21:24:22.127752Z",
     "start_time": "2024-06-13T21:24:22.102720Z"
    }
   },
   "outputs": [],
   "source": [
    "# Создаем новый датафрейм с нужными столбцами\n",
    "df_final = df_test_clear[['name', 'status']]\n",
    "\n",
    "# Сохраняем новый датафрейм в файл CSV\n",
    "df_final.to_csv('final_predictions.csv', index=False)\n",
    "\n",
    "print(\"Файл сохранен как 'final_predictions.csv'.\")"
   ]
  },
  {
   "cell_type": "code",
   "execution_count": null,
   "id": "c73ea6d5",
   "metadata": {},
   "outputs": [],
   "source": []
  },
  {
   "cell_type": "code",
   "execution_count": null,
   "id": "6350a6cc",
   "metadata": {},
   "outputs": [],
   "source": []
  },
  {
   "cell_type": "code",
   "execution_count": null,
   "id": "5c551a94",
   "metadata": {},
   "outputs": [],
   "source": []
  },
  {
   "cell_type": "markdown",
   "id": "020ec4e8",
   "metadata": {},
   "source": [
    "## Пробы"
   ]
  },
  {
   "cell_type": "code",
   "execution_count": null,
   "id": "78a6170f",
   "metadata": {
    "ExecuteTime": {
     "end_time": "2024-06-13T20:49:34.524621Z",
     "start_time": "2024-06-13T20:49:34.496024Z"
    },
    "scrolled": true
   },
   "outputs": [],
   "source": [
    "df_train.info()"
   ]
  },
  {
   "cell_type": "code",
   "execution_count": null,
   "id": "9f77c282",
   "metadata": {
    "ExecuteTime": {
     "end_time": "2024-06-13T20:49:35.054755Z",
     "start_time": "2024-06-13T20:49:35.041243Z"
    }
   },
   "outputs": [],
   "source": [
    "df_train_clear = df_train.drop(['name', 'category_list', 'region', 'city', 'founded_at', \n",
    "                                'first_funding_at', 'last_funding_at', 'closed_at', 'city_clean',  \n",
    "                                'category_clean', 'first_category_list'], axis=1)"
   ]
  },
  {
   "cell_type": "code",
   "execution_count": null,
   "id": "5d0bf910",
   "metadata": {
    "ExecuteTime": {
     "end_time": "2024-06-13T20:49:36.213480Z",
     "start_time": "2024-06-13T20:49:36.183903Z"
    }
   },
   "outputs": [],
   "source": [
    "df_train_clear.info()"
   ]
  },
  {
   "cell_type": "code",
   "execution_count": null,
   "id": "317d770c",
   "metadata": {
    "ExecuteTime": {
     "end_time": "2024-06-13T20:49:37.571444Z",
     "start_time": "2024-06-13T20:49:37.568441Z"
    }
   },
   "outputs": [],
   "source": [
    "# Определяем стратегию кросс-валидации\n",
    "stratified_cv = StratifiedKFold(n_splits=5, shuffle=True, random_state=RANDOM_STATE)"
   ]
  },
  {
   "cell_type": "code",
   "execution_count": null,
   "id": "fc9af93f",
   "metadata": {
    "ExecuteTime": {
     "end_time": "2024-06-13T20:49:26.987790Z",
     "start_time": "2024-06-13T20:49:26.939772Z"
    },
    "scrolled": true
   },
   "outputs": [],
   "source": [
    "# загружаем данные\n",
    "df_full_status = df_train_clear.copy()\n",
    "\n",
    "# Создаем экземпляр LabelEncoder\n",
    "label_encoder = LabelEncoder()\n",
    "\n",
    "# Преобразуем категориальные значения в числовой формат\n",
    "df_full_status['status'] = label_encoder.fit_transform(df_full_status['status'])\n",
    "\n",
    "# Выводим связь между значениями и кодами\n",
    "print(\"\\nСвязь между значениями и кодами:\")\n",
    "for code, category in enumerate(label_encoder.classes_):\n",
    "    print(f\"Код {code}: Значение '{category}'\")\n",
    "print(LINE_1)\n",
    "\n",
    "X_train, X_valid, y_train, y_valid = train_test_split(\n",
    "    df_full_status.drop(['status'], axis=1),\n",
    "    df_full_status['status'],\n",
    "    test_size = TEST_SIZE, \n",
    "    random_state = RANDOM_STATE,\n",
    "    stratify = df_full_status['status'])\n",
    "\n",
    "print(X_train.shape, X_valid.shape)\n",
    "print(LINE_1)"
   ]
  },
  {
   "cell_type": "code",
   "execution_count": null,
   "id": "e95d10eb",
   "metadata": {
    "ExecuteTime": {
     "end_time": "2024-06-13T20:49:52.894886Z",
     "start_time": "2024-06-13T20:49:52.860315Z"
    }
   },
   "outputs": [],
   "source": [
    "from imblearn.over_sampling import SMOTE\n",
    "\n",
    "# загружаем данные\n",
    "df_full_status = df_train_clear.copy()\n",
    "\n",
    "# Создаем экземпляр LabelEncoder\n",
    "label_encoder = LabelEncoder()\n",
    "\n",
    "# Преобразуем категориальные значения в числовой формат\n",
    "df_full_status['status'] = label_encoder.fit_transform(df_full_status['status'])\n",
    "\n",
    "# Выводим связь между значениями и кодами\n",
    "print(\"\\nСвязь между значениями и кодами:\")\n",
    "for code, category in enumerate(label_encoder.classes_):\n",
    "    print(f\"Код {code}: Значение '{category}'\")\n",
    "print(LINE_1)\n",
    "\n",
    "X_train = df_full_status.drop(['status'], axis=1)\n",
    "y_train = df_full_status['status']\n",
    "\n",
    "# Создаем SMOTE объект\n",
    "smote = SMOTE(random_state=RANDOM_STATE, k_neighbors=50)\n",
    "\n",
    "print(X_train.shape)\n",
    "print(LINE_1)"
   ]
  },
  {
   "cell_type": "code",
   "execution_count": null,
   "id": "bc26aa17",
   "metadata": {
    "ExecuteTime": {
     "end_time": "2024-06-13T20:49:57.827987Z",
     "start_time": "2024-06-13T20:49:57.814988Z"
    }
   },
   "outputs": [],
   "source": [
    "# создаём списки с названиями признаков\n",
    "ord_columns = ['country_code', 'continent', 'standardized_category', 'state_code']\n",
    "ohe_columns = ['funding_rounds']\n",
    "num_columns = ['funding_total_usd', 'time_until_first_round', 'funding_duration', 'time_until_last_round', 'lifetime'] "
   ]
  },
  {
   "cell_type": "code",
   "execution_count": null,
   "id": "d076b8dc",
   "metadata": {
    "ExecuteTime": {
     "end_time": "2024-06-13T20:17:10.641362Z",
     "start_time": "2024-06-13T20:17:10.620855Z"
    }
   },
   "outputs": [],
   "source": [
    "def pipe_line(ohe_columns, ord_columns, num_columns):\n",
    "    global pipe_final\n",
    "    ohe_pipe = Pipeline(\n",
    "        [\n",
    "            (\n",
    "                'simpleImputer_ohe',  # Название первого шага в конвейере\n",
    "                # Простой импьютер для заполнения пропущенных значений\n",
    "                SimpleImputer(missing_values=np.nan, strategy='most_frequent')  \n",
    "                # В качестве стратегии заполнения выбрано наиболее часто встречающееся значение в столбце\n",
    "            ),\n",
    "            (\n",
    "                'ohe',  # Название второго шага в конвейере\n",
    "                OneHotEncoder(drop='first', sparse_output=False, handle_unknown='ignore')  # Применяем one-hot-encoding\n",
    "                # drop='first' позволяет избежать избыточности данных путем удаления первого уровня каждой категории\n",
    "                # sparse_output=False гарантирует, что вывод будет в виде плотного массива numpy, а не разреженной матрицы\n",
    "                # handle_unknown='ignore' указывает, что в случае новых, ранее не виданных категорий они будут игнорироваться\n",
    "            )\n",
    "        ]\n",
    "    )\n",
    "\n",
    "    ord_pipe = Pipeline([\n",
    "        # Замена пропущенных значений на наиболее часто встречающееся значение\n",
    "        (\n",
    "            'simpleImputer_before_ord',  # Название шага\n",
    "            # Применяем SimpleImputer для замены пропущенных значений\n",
    "            SimpleImputer(missing_values=np.nan, strategy='most_frequent')  \n",
    "        ),\n",
    "        # Кодирование категориальных признаков порядковыми значениями\n",
    "        (\n",
    "            'ord',  # Название шага\n",
    "            OrdinalEncoder(  # Применяем OrdinalEncoder для кодирования категориальных признаков\n",
    "                handle_unknown='use_encoded_value', unknown_value=np.nan  # Обрабатываем неизвестные значения\n",
    "            )\n",
    "        ),\n",
    "        # Замена пропущенных значений на наиболее часто встречающееся значение\n",
    "        (\n",
    "            'simpleImputer_after_ord',  # Название шага\n",
    "            # Применяем SimpleImputer для замены пропущенных значений\n",
    "            SimpleImputer(missing_values=np.nan, strategy='most_frequent') \n",
    "        )\n",
    "    ])  \n",
    "\n",
    "    data_preprocessor = ColumnTransformer(\n",
    "        [\n",
    "            # Шаг 1: Применяем one-hot encoding для выбранных категориальных столбцов\n",
    "            ('ohe', ohe_pipe, ohe_columns),  # Применяем ohe_pipe к ohe_columns\n",
    "            # Шаг 2: Применяем порядковое кодирование для выбранных категориальных столбцов\n",
    "            ('ord', ord_pipe, ord_columns),  # Применяем ord_pipe к ord_columns\n",
    "            # Шаг 3: Применяем MinMaxScaler для числовых столбцов\n",
    "            ('num', MinMaxScaler(), num_columns)\n",
    "        ],\n",
    "        remainder='passthrough'  # Пропускаем остальные столбцы без изменений\n",
    "    )\n",
    "\n",
    "    pipe_final = Pipeline([\n",
    "        # Шаг 1: Подготовка данных с помощью data_preprocessor\n",
    "        ('preprocessor', data_preprocessor),\n",
    "        # Шаг 2: Продвинутый оверсэмплинг\n",
    "        ('sampling', smote),\n",
    "        # Шаг 3: Обучение модели LinearRegression\n",
    "        ('models', LinearRegression(n_jobs=-1)) \n",
    "    ])\n",
    "    \n",
    "pipe_line(ohe_columns, ord_columns, num_columns)\n",
    "\n",
    "from catboost import CatBoostClassifier\n",
    "\n",
    "param_grid = [\n",
    "    # Добавляем словарь для модели CatBoostClassifier\n",
    "    {\n",
    "        'models': [CatBoostClassifier(verbose=0, random_seed=RANDOM_STATE)],\n",
    "        'models__depth': range(4, 10),\n",
    "        #'models__learning_rate': [0.01, 0.05, 0.1],\n",
    "        #'models__iterations': [100, 500, 1000],\n",
    "        'preprocessor__num': ['passthrough']  # CatBoost не требует масштабирования числовых данных\n",
    "    },\n",
    "    # Остальные модели\n",
    "#    {\n",
    "#        'models': [KNeighborsClassifier()],\n",
    "#        'models__n_neighbors': range(2, 10),\n",
    "#        'preprocessor__num': [StandardScaler(), MinMaxScaler(), RobustScaler(), 'passthrough']\n",
    "#    },\n",
    "    {\n",
    "        'models': [DecisionTreeClassifier(random_state=RANDOM_STATE)],\n",
    "        'models__max_depth': range(2, 10),\n",
    "        'models__max_features': range(2, 10),\n",
    "        'models__class_weight': [None, 'balanced'],\n",
    "        'preprocessor__num': [StandardScaler(), MinMaxScaler(), RobustScaler(), 'passthrough']\n",
    "    },\n",
    "    {\n",
    "        'models': [LogisticRegression(random_state=RANDOM_STATE, solver='liblinear')],\n",
    "        'models__penalty': ['l1', 'l2'],\n",
    "        'models__C': range(1, 10),\n",
    "        'models__class_weight': [None, 'balanced'],\n",
    "        'preprocessor__num': [StandardScaler(), MinMaxScaler(), RobustScaler(), 'passthrough']\n",
    "    }\n",
    "]"
   ]
  },
  {
   "cell_type": "code",
   "execution_count": null,
   "id": "da07e4ae",
   "metadata": {
    "ExecuteTime": {
     "end_time": "2024-06-13T20:17:31.601104Z",
     "start_time": "2024-06-13T20:17:25.587644Z"
    }
   },
   "outputs": [],
   "source": [
    "grid_search = RandomizedSearchCV(\n",
    "    pipe_final, \n",
    "    param_grid, \n",
    "    n_iter=50,\n",
    "    cv=stratified_cv,\n",
    "    scoring='f1',\n",
    "    n_jobs=-1,\n",
    "    random_state=RANDOM_STATE\n",
    ")\n",
    "\n",
    "grid_search.fit(X_train, y_train)"
   ]
  },
  {
   "cell_type": "code",
   "execution_count": null,
   "id": "8b7853b8",
   "metadata": {
    "ExecuteTime": {
     "end_time": "2024-06-13T21:23:50.639353Z",
     "start_time": "2024-06-13T21:23:50.617743Z"
    }
   },
   "outputs": [],
   "source": [
    "# Выведем результаты в виде датафрейм\n",
    "results_df = pd.DataFrame(grid_search.cv_results_)\n",
    "results_df[['rank_test_score', 'std_test_score', 'param_models',\n",
    "            'mean_test_score', 'params']].sort_values('rank_test_score').head(10)"
   ]
  },
  {
   "cell_type": "code",
   "execution_count": null,
   "id": "fbc65b94",
   "metadata": {
    "ExecuteTime": {
     "end_time": "2024-06-13T21:23:55.553149Z",
     "start_time": "2024-06-13T21:23:55.513110Z"
    }
   },
   "outputs": [],
   "source": [
    "print('Лучшая модель и её параметры:\\n\\n', grid_search.best_estimator_)\n",
    "print(LINE_1)\n",
    "print('Параметры лучшей модели:', grid_search.best_params_)\n",
    "print(LINE_1)\n",
    "print('Метрика лучшей модели по кросс-валидации на обучающих данных:', grid_search.best_score_)\n",
    "print(LINE_1)"
   ]
  },
  {
   "cell_type": "code",
   "execution_count": null,
   "id": "234220d4",
   "metadata": {
    "ExecuteTime": {
     "end_time": "2024-06-10T21:27:59.688117Z",
     "start_time": "2024-06-10T20:46:36.709332Z"
    },
    "scrolled": true
   },
   "outputs": [],
   "source": []
  },
  {
   "cell_type": "code",
   "execution_count": null,
   "id": "df95ab03",
   "metadata": {
    "ExecuteTime": {
     "end_time": "2024-06-13T20:01:59.639503Z",
     "start_time": "2024-06-13T20:01:59.592385Z"
    }
   },
   "outputs": [],
   "source": [
    "y_pred = grid_search.best_estimator_.predict(X_valid)"
   ]
  },
  {
   "cell_type": "code",
   "execution_count": null,
   "id": "d475d870",
   "metadata": {
    "ExecuteTime": {
     "end_time": "2024-06-13T20:02:00.186379Z",
     "start_time": "2024-06-13T20:02:00.171322Z"
    }
   },
   "outputs": [],
   "source": [
    "f1 = f1_score(y_valid, y_pred, pos_label=1)  \n",
    "print('F1-score:', round(f1, 6))"
   ]
  },
  {
   "cell_type": "markdown",
   "id": "77676fa7",
   "metadata": {},
   "source": [
    "Выбор другой модели"
   ]
  },
  {
   "cell_type": "code",
   "execution_count": null,
   "id": "2e3e6bd8",
   "metadata": {
    "ExecuteTime": {
     "end_time": "2024-06-13T19:37:31.301451Z",
     "start_time": "2024-06-13T19:37:31.281945Z"
    }
   },
   "outputs": [],
   "source": [
    "selected_index = results_df[results_df['rank_test_score'] == 10].index[0]"
   ]
  },
  {
   "cell_type": "code",
   "execution_count": null,
   "id": "ff6c4b63",
   "metadata": {
    "ExecuteTime": {
     "end_time": "2024-06-13T19:37:34.433836Z",
     "start_time": "2024-06-13T19:37:34.427833Z"
    }
   },
   "outputs": [],
   "source": [
    "selected_params = grid_search.cv_results_['params'][selected_index]\n",
    "print(\"Selected model parameters:\", selected_params)"
   ]
  },
  {
   "cell_type": "code",
   "execution_count": null,
   "id": "54e67443",
   "metadata": {
    "ExecuteTime": {
     "end_time": "2024-06-13T19:38:23.087256Z",
     "start_time": "2024-06-13T19:38:22.861637Z"
    }
   },
   "outputs": [],
   "source": [
    "selected_model = grid_search.estimator.set_params(**selected_params)\n",
    "selected_model.fit(X_train, y_train)"
   ]
  },
  {
   "cell_type": "code",
   "execution_count": null,
   "id": "73f76124",
   "metadata": {
    "ExecuteTime": {
     "end_time": "2024-06-13T19:38:45.026893Z",
     "start_time": "2024-06-13T19:38:44.996303Z"
    }
   },
   "outputs": [],
   "source": [
    "y_pred = selected_model.predict(X_valid)"
   ]
  },
  {
   "cell_type": "code",
   "execution_count": null,
   "id": "c125d7e9",
   "metadata": {
    "ExecuteTime": {
     "end_time": "2024-06-13T19:38:46.163862Z",
     "start_time": "2024-06-13T19:38:46.142749Z"
    }
   },
   "outputs": [],
   "source": [
    "f1 = f1_score(y_valid, y_pred, pos_label=1)  \n",
    "print('F1-score:', round(f1, 6))"
   ]
  },
  {
   "cell_type": "code",
   "execution_count": null,
   "id": "d1c47885",
   "metadata": {
    "ExecuteTime": {
     "end_time": "2024-06-13T19:40:15.979685Z",
     "start_time": "2024-06-13T19:40:15.929666Z"
    }
   },
   "outputs": [],
   "source": [
    "df_test_clear['predicted_status'] = selected_model.predict(df_test_clear)"
   ]
  },
  {
   "cell_type": "code",
   "execution_count": null,
   "id": "18a53034",
   "metadata": {
    "ExecuteTime": {
     "end_time": "2024-06-13T19:40:17.061994Z",
     "start_time": "2024-06-13T19:40:17.053408Z"
    }
   },
   "outputs": [],
   "source": [
    "df_test_clear['status'] = label_encoder.inverse_transform(df_test_clear['predicted_status'])"
   ]
  },
  {
   "cell_type": "code",
   "execution_count": null,
   "id": "5d199412",
   "metadata": {
    "ExecuteTime": {
     "end_time": "2024-06-13T19:40:17.843602Z",
     "start_time": "2024-06-13T19:40:17.825525Z"
    }
   },
   "outputs": [],
   "source": [
    "# Создаем новый датафрейм с нужными столбцами\n",
    "df_final = df_test_clear[['name', 'status']]\n",
    "\n",
    "# Сохраняем новый датафрейм в файл CSV\n",
    "df_final.to_csv('final_predictions.csv', index=False)\n",
    "\n",
    "print(\"Файл сохранен как 'final_predictions.csv'.\")"
   ]
  },
  {
   "cell_type": "code",
   "execution_count": null,
   "id": "e7f9dbc1",
   "metadata": {},
   "outputs": [],
   "source": []
  },
  {
   "cell_type": "code",
   "execution_count": null,
   "id": "7ea0ce64",
   "metadata": {},
   "outputs": [],
   "source": []
  },
  {
   "cell_type": "code",
   "execution_count": null,
   "id": "53e85275",
   "metadata": {},
   "outputs": [],
   "source": []
  },
  {
   "cell_type": "code",
   "execution_count": null,
   "id": "525d8a0f",
   "metadata": {
    "ExecuteTime": {
     "start_time": "2024-06-13T21:27:39.998Z"
    }
   },
   "outputs": [],
   "source": [
    "from imblearn.pipeline import Pipeline as ImbPipeline\n",
    "from imblearn.over_sampling import SMOTE\n",
    "from sklearn.compose import ColumnTransformer\n",
    "from sklearn.impute import SimpleImputer\n",
    "from sklearn.preprocessing import StandardScaler, OneHotEncoder, OrdinalEncoder, MinMaxScaler, QuantileTransformer\n",
    "from sklearn.linear_model import LogisticRegression\n",
    "from sklearn.tree import DecisionTreeClassifier\n",
    "from sklearn.ensemble import RandomForestClassifier\n",
    "from sklearn.model_selection import StratifiedKFold, RandomizedSearchCV\n",
    "from catboost import CatBoostClassifier\n",
    "from sklearn.metrics import f1_score, make_scorer\n",
    "\n",
    "# Настройка SMOTE\n",
    "smote = SMOTE(random_state=RANDOM_STATE, k_neighbors=50)\n",
    "\n",
    "# Подготовка преобразователей для колонок\n",
    "ohe_pipe = ImbPipeline([\n",
    "    ('simpleImputer_ohe', SimpleImputer(strategy='most_frequent')),\n",
    "    ('ohe', OneHotEncoder(drop='first', sparse_output=False, handle_unknown='ignore'))\n",
    "])\n",
    "\n",
    "ord_pipe = ImbPipeline([\n",
    "    ('simpleImputer_ord', SimpleImputer(strategy='most_frequent')),\n",
    "    ('ord', OrdinalEncoder(handle_unknown='use_encoded_value', unknown_value=np.nan)),\n",
    "    ('simpleImputer_after_ord', SimpleImputer(strategy='most_frequent'))\n",
    "])\n",
    "\n",
    "# Подготовка ColumnTransformer\n",
    "data_preprocessor = ColumnTransformer(\n",
    "    transformers=[\n",
    "        ('ohe', ohe_pipe, ohe_columns),\n",
    "        ('ord', ord_pipe, ord_columns),\n",
    "        ('num', MinMaxScaler(), num_columns)\n",
    "    ],\n",
    "    remainder='passthrough'\n",
    ")\n",
    "\n",
    "# Конфигурация пайплайна с SMOTE\n",
    "pipe_final = ImbPipeline([\n",
    "    ('preprocessor', data_preprocessor),\n",
    "    ('sampling', smote),\n",
    "    ('models', LogisticRegression())  # Этот классификатор будет перезаписан в RandomizedSearchCV\n",
    "])\n",
    "\n",
    "# Настройка grid параметров\n",
    "param_grid = [\n",
    "#    {\n",
    "#        'models': [CatBoostClassifier(verbose=0, random_seed=RANDOM_STATE)],\n",
    "#        'models__depth': range(4, 10),\n",
    "#        'models__learning_rate': [0.01, 0.05, 0.1],\n",
    "#        'models__iterations': [10, 100, 500],\n",
    "#        'models__auto_class_weights': ['Balanced'],  # Автоматическое балансирование весов классов\n",
    "#        'models__loss_function': ['Logloss'],  # Функция потерь\n",
    "#        'models__l2_leaf_reg': [1, 3, 5, 7],  # Регуляризация\n",
    "#        'models__od_type': ['IncToDec', 'Iter'],  # Тип обнаружения переобучения\n",
    "#        'preprocessor__num': ['passthrough']  # CatBoost не требует масштабирования числовых данных\n",
    "#    },\n",
    "    {'models': [LogisticRegression(random_state=RANDOM_STATE, solver='liblinear')],\n",
    "     'models__penalty': ['l1', 'l2'],\n",
    "     'models__C': np.arange(0.1, 10, 0.5),\n",
    "     'models__class_weight': [None, 'balanced'],\n",
    "     'preprocessor__num': [StandardScaler(), MinMaxScaler(), RobustScaler(), QuantileTransformer(), 'passthrough']\n",
    "    }\n",
    "]\n",
    "\n",
    "\n",
    "# Конфигурация RandomizedSearchCV\n",
    "stratified_cv = StratifiedKFold(n_splits=5, shuffle=True, random_state=RANDOM_STATE)\n",
    "grid_search = RandomizedSearchCV(\n",
    "    pipe_final, \n",
    "    param_grid, \n",
    "    n_iter=50,\n",
    "    cv=stratified_cv,\n",
    "    scoring='f1',\n",
    "    n_jobs=-1,\n",
    "    random_state=RANDOM_STATE\n",
    ")\n",
    "\n",
    "# Запуск обучения\n",
    "grid_search.fit(X_train, y_train)"
   ]
  },
  {
   "cell_type": "code",
   "execution_count": 85,
   "id": "c8567c1c",
   "metadata": {
    "ExecuteTime": {
     "end_time": "2024-06-16T21:05:58.645559Z",
     "start_time": "2024-06-16T21:05:58.614445Z"
    }
   },
   "outputs": [
    {
     "name": "stdout",
     "output_type": "stream",
     "text": [
      "<class 'pandas.core.frame.DataFrame'>\n",
      "RangeIndex: 52514 entries, 0 to 52513\n",
      "Data columns (total 14 columns):\n",
      " #   Column             Non-Null Count  Dtype         \n",
      "---  ------             --------------  -----         \n",
      " 0   name               52514 non-null  object        \n",
      " 1   category_list      50049 non-null  object        \n",
      " 2   funding_total_usd  42445 non-null  float64       \n",
      " 3   status             52514 non-null  object        \n",
      " 4   country_code       47013 non-null  object        \n",
      " 5   state_code         45752 non-null  object        \n",
      " 6   region             46156 non-null  object        \n",
      " 7   city               46156 non-null  object        \n",
      " 8   funding_rounds     52514 non-null  int64         \n",
      " 9   founded_at         52514 non-null  datetime64[ns]\n",
      " 10  first_funding_at   52514 non-null  datetime64[ns]\n",
      " 11  last_funding_at    52514 non-null  datetime64[ns]\n",
      " 12  closed_at          52514 non-null  datetime64[ns]\n",
      " 13  lifetime           52514 non-null  int64         \n",
      "dtypes: datetime64[ns](4), float64(1), int64(2), object(7)\n",
      "memory usage: 5.6+ MB\n"
     ]
    }
   ],
   "source": [
    "df_train.info()"
   ]
  },
  {
   "cell_type": "code",
   "execution_count": 93,
   "id": "1dadbe62",
   "metadata": {
    "ExecuteTime": {
     "end_time": "2024-06-16T21:08:50.129223Z",
     "start_time": "2024-06-16T21:08:50.121224Z"
    }
   },
   "outputs": [
    {
     "data": {
      "text/plain": [
       "Index(['name', 'category_list', 'funding_total_usd', 'status', 'country_code',\n",
       "       'state_code', 'region', 'city', 'funding_rounds', 'founded_at',\n",
       "       'first_funding_at', 'last_funding_at', 'closed_at', 'lifetime'],\n",
       "      dtype='object')"
      ]
     },
     "execution_count": 93,
     "metadata": {},
     "output_type": "execute_result"
    }
   ],
   "source": [
    "df_train.columns"
   ]
  },
  {
   "cell_type": "code",
   "execution_count": null,
   "id": "f2842e4d",
   "metadata": {
    "ExecuteTime": {
     "end_time": "2024-06-16T14:05:30.091018Z",
     "start_time": "2024-06-16T14:05:30.079944Z"
    },
    "scrolled": true
   },
   "outputs": [],
   "source": [
    "# Создаем маппинг, используя обучающий набор\n",
    "df_train = process_categories(df_train, create_mapping=True)\n",
    "\n",
    "# Применяем маппинг к тестовому набору\n",
    "df_test = process_categories(df_test, create_mapping=True)"
   ]
  },
  {
   "cell_type": "markdown",
   "id": "8409cb42",
   "metadata": {},
   "source": [
    "## Пайплайн"
   ]
  },
  {
   "cell_type": "code",
   "execution_count": 92,
   "id": "b0870081",
   "metadata": {
    "ExecuteTime": {
     "end_time": "2024-06-16T21:08:48.100493Z",
     "start_time": "2024-06-16T21:08:48.081399Z"
    }
   },
   "outputs": [],
   "source": [
    "# Создаем трансформеры на основе функций пердобработки\n",
    "category_processing_transformer = FunctionTransformer(process_categories, validate=False, kw_args={'create_mapping': True})\n",
    "fill_state_code_transformer = FunctionTransformer(fill_state_code, validate=False)\n",
    "remove_other_transformer = FunctionTransformer(remove_other_from_region, validate=False)\n",
    "fill_region_transformer = FunctionTransformer(fill_region, validate=False)\n",
    "# Иправление ошибок в датах\n",
    "adjust_dates_transformer = FunctionTransformer(adjust_founding_dates, validate=False)\n",
    "# Создание новых столбцов\n",
    "time_intervals_transformer = FunctionTransformer(calculate_time_intervals, validate=False)\n",
    "# Заполним пропуски медианными значчениями в столбце funding_total_usd\n",
    "fill_funding_transformer = FunctionTransformer(fill_funding_total_usd, validate=False)\n",
    "# Создание нового столбца континент\n",
    "country_continent_transformer = FunctionTransformer(standardize_country_and_add_continent, validate=False)\n",
    "# Создание нового столбца уровень финансирования\n",
    "categorize_funding_transformer = FunctionTransformer(categorize_funding, validate=False)\n",
    "# Удаление выбросов\n",
    "cap_outliers_transformer = FunctionTransformer(cap_outliers, validate=False)"
   ]
  },
  {
   "cell_type": "code",
   "execution_count": 94,
   "id": "d792eeee",
   "metadata": {
    "ExecuteTime": {
     "end_time": "2024-06-16T21:09:03.135135Z",
     "start_time": "2024-06-16T21:09:02.985612Z"
    },
    "scrolled": false
   },
   "outputs": [
    {
     "name": "stdout",
     "output_type": "stream",
     "text": [
      "Количество дубликатов 10\n",
      "Количество дубликатов после отчистки 0\n",
      "\n",
      "Связь между значениями и кодами:\n",
      "Код 0: Значение 'closed'\n",
      "Код 1: Значение 'operating'\n",
      "-----------------------------------------------------------------------------------------------------------------------------\n",
      "(39378, 11) (13126, 11)\n",
      "-----------------------------------------------------------------------------------------------------------------------------\n"
     ]
    },
    {
     "data": {
      "text/plain": [
       "((39378,), (13126,))"
      ]
     },
     "execution_count": 94,
     "metadata": {},
     "output_type": "execute_result"
    }
   ],
   "source": [
    "df_train_clear = df_train.drop(['name', 'closed_at'], axis=1)\n",
    "print('Количество дубликатов', df_train_clear.duplicated().sum())\n",
    "df_train_clear = df_train_clear.drop_duplicates()\n",
    "print('Количество дубликатов после отчистки', df_train_clear.duplicated().sum())\n",
    "\n",
    "# Определяем стратегию кросс-валидации\n",
    "stratified_cv = StratifiedKFold(n_splits=5, shuffle=True, random_state=RANDOM_STATE)\n",
    "\n",
    "# загружаем данные\n",
    "df_full_status = df_train_clear.copy()\n",
    "\n",
    "# Создаем экземпляр LabelEncoder\n",
    "label_encoder = LabelEncoder()\n",
    "\n",
    "# Преобразуем категориальные значения в числовой формат\n",
    "df_full_status['status'] = label_encoder.fit_transform(df_full_status['status'])\n",
    "\n",
    "# Выводим связь между значениями и кодами\n",
    "print(\"\\nСвязь между значениями и кодами:\")\n",
    "for code, category in enumerate(label_encoder.classes_):\n",
    "    print(f\"Код {code}: Значение '{category}'\")\n",
    "print(LINE_1)\n",
    "\n",
    "X_train, X_valid, y_train, y_valid = train_test_split(\n",
    "    df_full_status.drop(['status'], axis=1),\n",
    "    df_full_status['status'],\n",
    "    test_size = TEST_SIZE, \n",
    "    random_state = RANDOM_STATE,\n",
    "    stratify = df_full_status['status'])\n",
    "\n",
    "# Создаем SMOTE объект\n",
    "smote = SMOTE(random_state=RANDOM_STATE, k_neighbors=5)\n",
    "\n",
    "print(X_train.shape, X_valid.shape)\n",
    "print(LINE_1)\n",
    "y_train.shape, y_valid.shape"
   ]
  },
  {
   "cell_type": "code",
   "execution_count": 95,
   "id": "a72f73c6",
   "metadata": {
    "ExecuteTime": {
     "end_time": "2024-06-16T21:09:17.366947Z",
     "start_time": "2024-06-16T21:09:17.348449Z"
    }
   },
   "outputs": [
    {
     "name": "stdout",
     "output_type": "stream",
     "text": [
      "<class 'pandas.core.frame.DataFrame'>\n",
      "Index: 52504 entries, 0 to 52513\n",
      "Data columns (total 12 columns):\n",
      " #   Column             Non-Null Count  Dtype         \n",
      "---  ------             --------------  -----         \n",
      " 0   category_list      50046 non-null  object        \n",
      " 1   funding_total_usd  42443 non-null  float64       \n",
      " 2   status             52504 non-null  object        \n",
      " 3   country_code       47009 non-null  object        \n",
      " 4   state_code         45748 non-null  object        \n",
      " 5   region             46152 non-null  object        \n",
      " 6   city               46152 non-null  object        \n",
      " 7   funding_rounds     52504 non-null  int64         \n",
      " 8   founded_at         52504 non-null  datetime64[ns]\n",
      " 9   first_funding_at   52504 non-null  datetime64[ns]\n",
      " 10  last_funding_at    52504 non-null  datetime64[ns]\n",
      " 11  lifetime           52504 non-null  int64         \n",
      "dtypes: datetime64[ns](3), float64(1), int64(2), object(6)\n",
      "memory usage: 5.2+ MB\n"
     ]
    }
   ],
   "source": [
    "df_train_clear.info()"
   ]
  },
  {
   "cell_type": "code",
   "execution_count": 96,
   "id": "04b68e3d",
   "metadata": {
    "ExecuteTime": {
     "end_time": "2024-06-16T21:09:33.990152Z",
     "start_time": "2024-06-16T21:09:33.977047Z"
    },
    "scrolled": true
   },
   "outputs": [
    {
     "data": {
      "text/plain": [
       "Index(['category_list', 'funding_total_usd', 'status', 'country_code',\n",
       "       'state_code', 'region', 'city', 'funding_rounds', 'founded_at',\n",
       "       'first_funding_at', 'last_funding_at', 'lifetime'],\n",
       "      dtype='object')"
      ]
     },
     "execution_count": 96,
     "metadata": {},
     "output_type": "execute_result"
    }
   ],
   "source": [
    "df_train_clear.columns"
   ]
  },
  {
   "cell_type": "code",
   "execution_count": 97,
   "id": "1cdec93d",
   "metadata": {
    "ExecuteTime": {
     "end_time": "2024-06-16T21:10:04.509782Z",
     "start_time": "2024-06-16T21:10:04.491285Z"
    }
   },
   "outputs": [
    {
     "data": {
      "text/plain": [
       "Index(['name', 'category_list', 'funding_total_usd', 'status', 'country_code',\n",
       "       'state_code', 'region', 'city', 'funding_rounds', 'founded_at',\n",
       "       'first_funding_at', 'last_funding_at', 'closed_at', 'lifetime',\n",
       "       'category_clean', 'first_category_list', 'standardized_category',\n",
       "       'time_until_first_round', 'funding_duration', 'time_until_last_round',\n",
       "       'continent'],\n",
       "      dtype='object')"
      ]
     },
     "execution_count": 97,
     "metadata": {},
     "output_type": "execute_result"
    }
   ],
   "source": [
    "df_train_copy.columns"
   ]
  },
  {
   "cell_type": "code",
   "execution_count": 98,
   "id": "afc52097",
   "metadata": {
    "ExecuteTime": {
     "end_time": "2024-06-16T21:11:36.359318Z",
     "start_time": "2024-06-16T21:11:36.349828Z"
    }
   },
   "outputs": [],
   "source": [
    "# создаём списки с названиями признаков\n",
    "ord_columns = ['country_code', 'state_code', 'region', 'city', 'standardized_category', 'continent']\n",
    "ohe_columns = ['funding_rounds', 'level_financing']\n",
    "num_columns = ['funding_total_usd', 'time_until_first_round', 'funding_duration', 'time_until_last_round', 'lifetime'] "
   ]
  },
  {
   "cell_type": "code",
   "execution_count": 101,
   "id": "56795aa8",
   "metadata": {
    "ExecuteTime": {
     "end_time": "2024-06-16T21:12:17.322422Z",
     "start_time": "2024-06-16T21:12:17.303424Z"
    }
   },
   "outputs": [],
   "source": [
    "def pipe_line(ohe_columns, ord_columns, num_columns):\n",
    "    global pipe_final\n",
    "    \n",
    "    preprocessing_pipeline = Pipeline([\n",
    "    # Шаг предобработки категорий \n",
    "    ('process_categories', category_processing_transformer),\n",
    "    # Шаг предобработки region, в части удаления лишнего \n",
    "    ('remove_other_from_region', remove_other_transformer),\n",
    "    # Шаг предобработки state_code \n",
    "    ('fill_state_code', fill_state_code_transformer),\n",
    "    # Шаг предобработки region \n",
    "    ('fill_region', fill_region_transformer),\n",
    "    # Шаг предобработки ошибок в датах\n",
    "    ('adjust_dates', adjust_dates_transformer),\n",
    "    # Создание новых столбцов\n",
    "    ('time_intervals', time_intervals_transformer),\n",
    "    # Заполним пропуски медианными значчениями в столбце funding_total_usd\n",
    "    ('fill_funding', fill_funding_transformer),\n",
    "    # Создание нового столбца континент\n",
    "    ('country_and_continent', country_continent_transformer),\n",
    "    # Удаление выбросов\n",
    "    ('cap_outliers', cap_outliers_transformer),\n",
    "    # Создание нового столбца уровень финансирования\n",
    "    ('categorize_funding', categorize_funding_transformer),\n",
    "    ])\n",
    "    \n",
    "    ohe_pipe = Pipeline(\n",
    "        [\n",
    "            (\n",
    "                'simpleImputer_ohe',  # Название первого шага в конвейере\n",
    "                # Простой импьютер для заполнения пропущенных значений\n",
    "                SimpleImputer(missing_values=np.nan, strategy='constant', fill_value='undefined')  \n",
    "                # В качестве стратегии заполнения выбрано наиболее часто встречающееся значение в столбце\n",
    "            ),\n",
    "            (\n",
    "                'ohe',  # Название второго шага в конвейере\n",
    "                OneHotEncoder(drop='first', sparse_output=False, handle_unknown='ignore')  # Применяем one-hot-encoding\n",
    "                # drop='first' позволяет избежать избыточности данных путем удаления первого уровня каждой категории\n",
    "                # sparse_output=False гарантирует, что вывод будет в виде плотного массива numpy, а не разреженной матрицы\n",
    "                # handle_unknown='ignore' указывает, что в случае новых, ранее не виданных категорий они будут игнорироваться\n",
    "            )\n",
    "        ]\n",
    "    )\n",
    "\n",
    "    ord_pipe = Pipeline([\n",
    "        # Замена пропущенных значений на наиболее часто встречающееся значение\n",
    "        (\n",
    "            'simpleImputer_before_ord',  # Название шага\n",
    "            # Применяем SimpleImputer для замены пропущенных значений\n",
    "            SimpleImputer(missing_values=np.nan, strategy='most_frequent')  \n",
    "        ),\n",
    "        # Кодирование категориальных признаков порядковыми значениями\n",
    "        (\n",
    "            'ord',  # Название шага\n",
    "            OrdinalEncoder(  # Применяем OrdinalEncoder для кодирования категориальных признаков\n",
    "                handle_unknown='use_encoded_value', unknown_value=np.nan  # Обрабатываем неизвестные значения\n",
    "            )\n",
    "        ),\n",
    "        # Замена пропущенных значений на наиболее часто встречающееся значение\n",
    "        (\n",
    "            'simpleImputer_after_ord',  # Название шага\n",
    "            # Применяем SimpleImputer для замены пропущенных значений\n",
    "            SimpleImputer(missing_values=np.nan, strategy='most_frequent') \n",
    "        )\n",
    "    ])  \n",
    "\n",
    "    data_preprocessor = ColumnTransformer(\n",
    "        [\n",
    "            # Шаг 1: Применяем one-hot encoding для выбранных категориальных столбцов\n",
    "            ('ohe', ohe_pipe, ohe_columns),  # Применяем ohe_pipe к ohe_columns\n",
    "            # Шаг 2: Применяем порядковое кодирование для выбранных категориальных столбцов\n",
    "            ('ord', ord_pipe, ord_columns),  # Применяем ord_pipe к ord_columns\n",
    "            # Шаг 3: Применяем MinMaxScaler для числовых столбцов\n",
    "            ('num', MinMaxScaler(), num_columns)\n",
    "        ],\n",
    "        remainder='passthrough'  # Пропускаем остальные столбцы без изменений\n",
    "    )\n",
    "\n",
    "    pipe_final = Pipeline([\n",
    "        # Шаг 1: Предобрабработка данных с помощью preprocessing\n",
    "        ('preprocessing', preprocessing_pipeline),\n",
    "        # Шаг 2: Подготовка данных с помощью data_preprocessor\n",
    "        ('preprocessor', data_preprocessor),\n",
    "        # Шаг 3: Продвинутый оверсэмплинг\n",
    "        #('sampling', smote),\n",
    "        # Шаг 4: Обучение модели LinearRegression\n",
    "        ('models', LinearRegression(n_jobs=-1)) \n",
    "    ])\n",
    "    \n",
    "pipe_line(ohe_columns, ord_columns, num_columns)\n",
    "\n",
    "from catboost import CatBoostClassifier\n",
    "\n",
    "param_grid = [\n",
    "    # Добавляем словарь для модели CatBoostClassifier\n",
    "    {\n",
    "        'models': [CatBoostClassifier(verbose=0, random_seed=RANDOM_STATE)],\n",
    "        'models__depth': range(4, 10),\n",
    "        #'models__learning_rate': [0.01, 0.05, 0.1],\n",
    "        #'models__iterations': [100, 500, 1000],\n",
    "        'preprocessor__num': ['passthrough']  # CatBoost не требует масштабирования числовых данных\n",
    "    },\n",
    "    # Остальные модели\n",
    "#    {\n",
    "#        'models': [KNeighborsClassifier()],\n",
    "#        'models__n_neighbors': range(2, 10),\n",
    "#        'preprocessor__num': [StandardScaler(), MinMaxScaler(), RobustScaler(), 'passthrough']\n",
    "#    },\n",
    "    {\n",
    "        'models': [DecisionTreeClassifier(random_state=RANDOM_STATE)],\n",
    "        'models__max_depth': range(2, 10),\n",
    "        'models__max_features': range(2, 10),\n",
    "        'models__class_weight': [None, 'balanced'],\n",
    "        'preprocessor__num': [StandardScaler(), MinMaxScaler(), RobustScaler(), 'passthrough']\n",
    "    },\n",
    "    {\n",
    "        'models': [LogisticRegression(random_state=RANDOM_STATE, solver='liblinear')],\n",
    "        'models__penalty': ['l1', 'l2'],\n",
    "        'models__C': range(1, 10),\n",
    "        'models__class_weight': [None, 'balanced'],\n",
    "        'preprocessor__num': [StandardScaler(), MinMaxScaler(), RobustScaler(), 'passthrough']\n",
    "    }\n",
    "]"
   ]
  },
  {
   "cell_type": "code",
   "execution_count": 102,
   "id": "d90d4fc3",
   "metadata": {
    "ExecuteTime": {
     "end_time": "2024-06-16T21:23:50.110886Z",
     "start_time": "2024-06-16T21:12:19.844856Z"
    },
    "scrolled": true
   },
   "outputs": [
    {
     "data": {
      "text/html": [
       "<style>#sk-container-id-1 {\n",
       "  /* Definition of color scheme common for light and dark mode */\n",
       "  --sklearn-color-text: black;\n",
       "  --sklearn-color-line: gray;\n",
       "  /* Definition of color scheme for unfitted estimators */\n",
       "  --sklearn-color-unfitted-level-0: #fff5e6;\n",
       "  --sklearn-color-unfitted-level-1: #f6e4d2;\n",
       "  --sklearn-color-unfitted-level-2: #ffe0b3;\n",
       "  --sklearn-color-unfitted-level-3: chocolate;\n",
       "  /* Definition of color scheme for fitted estimators */\n",
       "  --sklearn-color-fitted-level-0: #f0f8ff;\n",
       "  --sklearn-color-fitted-level-1: #d4ebff;\n",
       "  --sklearn-color-fitted-level-2: #b3dbfd;\n",
       "  --sklearn-color-fitted-level-3: cornflowerblue;\n",
       "\n",
       "  /* Specific color for light theme */\n",
       "  --sklearn-color-text-on-default-background: var(--sg-text-color, var(--theme-code-foreground, var(--jp-content-font-color1, black)));\n",
       "  --sklearn-color-background: var(--sg-background-color, var(--theme-background, var(--jp-layout-color0, white)));\n",
       "  --sklearn-color-border-box: var(--sg-text-color, var(--theme-code-foreground, var(--jp-content-font-color1, black)));\n",
       "  --sklearn-color-icon: #696969;\n",
       "\n",
       "  @media (prefers-color-scheme: dark) {\n",
       "    /* Redefinition of color scheme for dark theme */\n",
       "    --sklearn-color-text-on-default-background: var(--sg-text-color, var(--theme-code-foreground, var(--jp-content-font-color1, white)));\n",
       "    --sklearn-color-background: var(--sg-background-color, var(--theme-background, var(--jp-layout-color0, #111)));\n",
       "    --sklearn-color-border-box: var(--sg-text-color, var(--theme-code-foreground, var(--jp-content-font-color1, white)));\n",
       "    --sklearn-color-icon: #878787;\n",
       "  }\n",
       "}\n",
       "\n",
       "#sk-container-id-1 {\n",
       "  color: var(--sklearn-color-text);\n",
       "}\n",
       "\n",
       "#sk-container-id-1 pre {\n",
       "  padding: 0;\n",
       "}\n",
       "\n",
       "#sk-container-id-1 input.sk-hidden--visually {\n",
       "  border: 0;\n",
       "  clip: rect(1px 1px 1px 1px);\n",
       "  clip: rect(1px, 1px, 1px, 1px);\n",
       "  height: 1px;\n",
       "  margin: -1px;\n",
       "  overflow: hidden;\n",
       "  padding: 0;\n",
       "  position: absolute;\n",
       "  width: 1px;\n",
       "}\n",
       "\n",
       "#sk-container-id-1 div.sk-dashed-wrapped {\n",
       "  border: 1px dashed var(--sklearn-color-line);\n",
       "  margin: 0 0.4em 0.5em 0.4em;\n",
       "  box-sizing: border-box;\n",
       "  padding-bottom: 0.4em;\n",
       "  background-color: var(--sklearn-color-background);\n",
       "}\n",
       "\n",
       "#sk-container-id-1 div.sk-container {\n",
       "  /* jupyter's `normalize.less` sets `[hidden] { display: none; }`\n",
       "     but bootstrap.min.css set `[hidden] { display: none !important; }`\n",
       "     so we also need the `!important` here to be able to override the\n",
       "     default hidden behavior on the sphinx rendered scikit-learn.org.\n",
       "     See: https://github.com/scikit-learn/scikit-learn/issues/21755 */\n",
       "  display: inline-block !important;\n",
       "  position: relative;\n",
       "}\n",
       "\n",
       "#sk-container-id-1 div.sk-text-repr-fallback {\n",
       "  display: none;\n",
       "}\n",
       "\n",
       "div.sk-parallel-item,\n",
       "div.sk-serial,\n",
       "div.sk-item {\n",
       "  /* draw centered vertical line to link estimators */\n",
       "  background-image: linear-gradient(var(--sklearn-color-text-on-default-background), var(--sklearn-color-text-on-default-background));\n",
       "  background-size: 2px 100%;\n",
       "  background-repeat: no-repeat;\n",
       "  background-position: center center;\n",
       "}\n",
       "\n",
       "/* Parallel-specific style estimator block */\n",
       "\n",
       "#sk-container-id-1 div.sk-parallel-item::after {\n",
       "  content: \"\";\n",
       "  width: 100%;\n",
       "  border-bottom: 2px solid var(--sklearn-color-text-on-default-background);\n",
       "  flex-grow: 1;\n",
       "}\n",
       "\n",
       "#sk-container-id-1 div.sk-parallel {\n",
       "  display: flex;\n",
       "  align-items: stretch;\n",
       "  justify-content: center;\n",
       "  background-color: var(--sklearn-color-background);\n",
       "  position: relative;\n",
       "}\n",
       "\n",
       "#sk-container-id-1 div.sk-parallel-item {\n",
       "  display: flex;\n",
       "  flex-direction: column;\n",
       "}\n",
       "\n",
       "#sk-container-id-1 div.sk-parallel-item:first-child::after {\n",
       "  align-self: flex-end;\n",
       "  width: 50%;\n",
       "}\n",
       "\n",
       "#sk-container-id-1 div.sk-parallel-item:last-child::after {\n",
       "  align-self: flex-start;\n",
       "  width: 50%;\n",
       "}\n",
       "\n",
       "#sk-container-id-1 div.sk-parallel-item:only-child::after {\n",
       "  width: 0;\n",
       "}\n",
       "\n",
       "/* Serial-specific style estimator block */\n",
       "\n",
       "#sk-container-id-1 div.sk-serial {\n",
       "  display: flex;\n",
       "  flex-direction: column;\n",
       "  align-items: center;\n",
       "  background-color: var(--sklearn-color-background);\n",
       "  padding-right: 1em;\n",
       "  padding-left: 1em;\n",
       "}\n",
       "\n",
       "\n",
       "/* Toggleable style: style used for estimator/Pipeline/ColumnTransformer box that is\n",
       "clickable and can be expanded/collapsed.\n",
       "- Pipeline and ColumnTransformer use this feature and define the default style\n",
       "- Estimators will overwrite some part of the style using the `sk-estimator` class\n",
       "*/\n",
       "\n",
       "/* Pipeline and ColumnTransformer style (default) */\n",
       "\n",
       "#sk-container-id-1 div.sk-toggleable {\n",
       "  /* Default theme specific background. It is overwritten whether we have a\n",
       "  specific estimator or a Pipeline/ColumnTransformer */\n",
       "  background-color: var(--sklearn-color-background);\n",
       "}\n",
       "\n",
       "/* Toggleable label */\n",
       "#sk-container-id-1 label.sk-toggleable__label {\n",
       "  cursor: pointer;\n",
       "  display: block;\n",
       "  width: 100%;\n",
       "  margin-bottom: 0;\n",
       "  padding: 0.5em;\n",
       "  box-sizing: border-box;\n",
       "  text-align: center;\n",
       "}\n",
       "\n",
       "#sk-container-id-1 label.sk-toggleable__label-arrow:before {\n",
       "  /* Arrow on the left of the label */\n",
       "  content: \"▸\";\n",
       "  float: left;\n",
       "  margin-right: 0.25em;\n",
       "  color: var(--sklearn-color-icon);\n",
       "}\n",
       "\n",
       "#sk-container-id-1 label.sk-toggleable__label-arrow:hover:before {\n",
       "  color: var(--sklearn-color-text);\n",
       "}\n",
       "\n",
       "/* Toggleable content - dropdown */\n",
       "\n",
       "#sk-container-id-1 div.sk-toggleable__content {\n",
       "  max-height: 0;\n",
       "  max-width: 0;\n",
       "  overflow: hidden;\n",
       "  text-align: left;\n",
       "  /* unfitted */\n",
       "  background-color: var(--sklearn-color-unfitted-level-0);\n",
       "}\n",
       "\n",
       "#sk-container-id-1 div.sk-toggleable__content.fitted {\n",
       "  /* fitted */\n",
       "  background-color: var(--sklearn-color-fitted-level-0);\n",
       "}\n",
       "\n",
       "#sk-container-id-1 div.sk-toggleable__content pre {\n",
       "  margin: 0.2em;\n",
       "  border-radius: 0.25em;\n",
       "  color: var(--sklearn-color-text);\n",
       "  /* unfitted */\n",
       "  background-color: var(--sklearn-color-unfitted-level-0);\n",
       "}\n",
       "\n",
       "#sk-container-id-1 div.sk-toggleable__content.fitted pre {\n",
       "  /* unfitted */\n",
       "  background-color: var(--sklearn-color-fitted-level-0);\n",
       "}\n",
       "\n",
       "#sk-container-id-1 input.sk-toggleable__control:checked~div.sk-toggleable__content {\n",
       "  /* Expand drop-down */\n",
       "  max-height: 200px;\n",
       "  max-width: 100%;\n",
       "  overflow: auto;\n",
       "}\n",
       "\n",
       "#sk-container-id-1 input.sk-toggleable__control:checked~label.sk-toggleable__label-arrow:before {\n",
       "  content: \"▾\";\n",
       "}\n",
       "\n",
       "/* Pipeline/ColumnTransformer-specific style */\n",
       "\n",
       "#sk-container-id-1 div.sk-label input.sk-toggleable__control:checked~label.sk-toggleable__label {\n",
       "  color: var(--sklearn-color-text);\n",
       "  background-color: var(--sklearn-color-unfitted-level-2);\n",
       "}\n",
       "\n",
       "#sk-container-id-1 div.sk-label.fitted input.sk-toggleable__control:checked~label.sk-toggleable__label {\n",
       "  background-color: var(--sklearn-color-fitted-level-2);\n",
       "}\n",
       "\n",
       "/* Estimator-specific style */\n",
       "\n",
       "/* Colorize estimator box */\n",
       "#sk-container-id-1 div.sk-estimator input.sk-toggleable__control:checked~label.sk-toggleable__label {\n",
       "  /* unfitted */\n",
       "  background-color: var(--sklearn-color-unfitted-level-2);\n",
       "}\n",
       "\n",
       "#sk-container-id-1 div.sk-estimator.fitted input.sk-toggleable__control:checked~label.sk-toggleable__label {\n",
       "  /* fitted */\n",
       "  background-color: var(--sklearn-color-fitted-level-2);\n",
       "}\n",
       "\n",
       "#sk-container-id-1 div.sk-label label.sk-toggleable__label,\n",
       "#sk-container-id-1 div.sk-label label {\n",
       "  /* The background is the default theme color */\n",
       "  color: var(--sklearn-color-text-on-default-background);\n",
       "}\n",
       "\n",
       "/* On hover, darken the color of the background */\n",
       "#sk-container-id-1 div.sk-label:hover label.sk-toggleable__label {\n",
       "  color: var(--sklearn-color-text);\n",
       "  background-color: var(--sklearn-color-unfitted-level-2);\n",
       "}\n",
       "\n",
       "/* Label box, darken color on hover, fitted */\n",
       "#sk-container-id-1 div.sk-label.fitted:hover label.sk-toggleable__label.fitted {\n",
       "  color: var(--sklearn-color-text);\n",
       "  background-color: var(--sklearn-color-fitted-level-2);\n",
       "}\n",
       "\n",
       "/* Estimator label */\n",
       "\n",
       "#sk-container-id-1 div.sk-label label {\n",
       "  font-family: monospace;\n",
       "  font-weight: bold;\n",
       "  display: inline-block;\n",
       "  line-height: 1.2em;\n",
       "}\n",
       "\n",
       "#sk-container-id-1 div.sk-label-container {\n",
       "  text-align: center;\n",
       "}\n",
       "\n",
       "/* Estimator-specific */\n",
       "#sk-container-id-1 div.sk-estimator {\n",
       "  font-family: monospace;\n",
       "  border: 1px dotted var(--sklearn-color-border-box);\n",
       "  border-radius: 0.25em;\n",
       "  box-sizing: border-box;\n",
       "  margin-bottom: 0.5em;\n",
       "  /* unfitted */\n",
       "  background-color: var(--sklearn-color-unfitted-level-0);\n",
       "}\n",
       "\n",
       "#sk-container-id-1 div.sk-estimator.fitted {\n",
       "  /* fitted */\n",
       "  background-color: var(--sklearn-color-fitted-level-0);\n",
       "}\n",
       "\n",
       "/* on hover */\n",
       "#sk-container-id-1 div.sk-estimator:hover {\n",
       "  /* unfitted */\n",
       "  background-color: var(--sklearn-color-unfitted-level-2);\n",
       "}\n",
       "\n",
       "#sk-container-id-1 div.sk-estimator.fitted:hover {\n",
       "  /* fitted */\n",
       "  background-color: var(--sklearn-color-fitted-level-2);\n",
       "}\n",
       "\n",
       "/* Specification for estimator info (e.g. \"i\" and \"?\") */\n",
       "\n",
       "/* Common style for \"i\" and \"?\" */\n",
       "\n",
       ".sk-estimator-doc-link,\n",
       "a:link.sk-estimator-doc-link,\n",
       "a:visited.sk-estimator-doc-link {\n",
       "  float: right;\n",
       "  font-size: smaller;\n",
       "  line-height: 1em;\n",
       "  font-family: monospace;\n",
       "  background-color: var(--sklearn-color-background);\n",
       "  border-radius: 1em;\n",
       "  height: 1em;\n",
       "  width: 1em;\n",
       "  text-decoration: none !important;\n",
       "  margin-left: 1ex;\n",
       "  /* unfitted */\n",
       "  border: var(--sklearn-color-unfitted-level-1) 1pt solid;\n",
       "  color: var(--sklearn-color-unfitted-level-1);\n",
       "}\n",
       "\n",
       ".sk-estimator-doc-link.fitted,\n",
       "a:link.sk-estimator-doc-link.fitted,\n",
       "a:visited.sk-estimator-doc-link.fitted {\n",
       "  /* fitted */\n",
       "  border: var(--sklearn-color-fitted-level-1) 1pt solid;\n",
       "  color: var(--sklearn-color-fitted-level-1);\n",
       "}\n",
       "\n",
       "/* On hover */\n",
       "div.sk-estimator:hover .sk-estimator-doc-link:hover,\n",
       ".sk-estimator-doc-link:hover,\n",
       "div.sk-label-container:hover .sk-estimator-doc-link:hover,\n",
       ".sk-estimator-doc-link:hover {\n",
       "  /* unfitted */\n",
       "  background-color: var(--sklearn-color-unfitted-level-3);\n",
       "  color: var(--sklearn-color-background);\n",
       "  text-decoration: none;\n",
       "}\n",
       "\n",
       "div.sk-estimator.fitted:hover .sk-estimator-doc-link.fitted:hover,\n",
       ".sk-estimator-doc-link.fitted:hover,\n",
       "div.sk-label-container:hover .sk-estimator-doc-link.fitted:hover,\n",
       ".sk-estimator-doc-link.fitted:hover {\n",
       "  /* fitted */\n",
       "  background-color: var(--sklearn-color-fitted-level-3);\n",
       "  color: var(--sklearn-color-background);\n",
       "  text-decoration: none;\n",
       "}\n",
       "\n",
       "/* Span, style for the box shown on hovering the info icon */\n",
       ".sk-estimator-doc-link span {\n",
       "  display: none;\n",
       "  z-index: 9999;\n",
       "  position: relative;\n",
       "  font-weight: normal;\n",
       "  right: .2ex;\n",
       "  padding: .5ex;\n",
       "  margin: .5ex;\n",
       "  width: min-content;\n",
       "  min-width: 20ex;\n",
       "  max-width: 50ex;\n",
       "  color: var(--sklearn-color-text);\n",
       "  box-shadow: 2pt 2pt 4pt #999;\n",
       "  /* unfitted */\n",
       "  background: var(--sklearn-color-unfitted-level-0);\n",
       "  border: .5pt solid var(--sklearn-color-unfitted-level-3);\n",
       "}\n",
       "\n",
       ".sk-estimator-doc-link.fitted span {\n",
       "  /* fitted */\n",
       "  background: var(--sklearn-color-fitted-level-0);\n",
       "  border: var(--sklearn-color-fitted-level-3);\n",
       "}\n",
       "\n",
       ".sk-estimator-doc-link:hover span {\n",
       "  display: block;\n",
       "}\n",
       "\n",
       "/* \"?\"-specific style due to the `<a>` HTML tag */\n",
       "\n",
       "#sk-container-id-1 a.estimator_doc_link {\n",
       "  float: right;\n",
       "  font-size: 1rem;\n",
       "  line-height: 1em;\n",
       "  font-family: monospace;\n",
       "  background-color: var(--sklearn-color-background);\n",
       "  border-radius: 1rem;\n",
       "  height: 1rem;\n",
       "  width: 1rem;\n",
       "  text-decoration: none;\n",
       "  /* unfitted */\n",
       "  color: var(--sklearn-color-unfitted-level-1);\n",
       "  border: var(--sklearn-color-unfitted-level-1) 1pt solid;\n",
       "}\n",
       "\n",
       "#sk-container-id-1 a.estimator_doc_link.fitted {\n",
       "  /* fitted */\n",
       "  border: var(--sklearn-color-fitted-level-1) 1pt solid;\n",
       "  color: var(--sklearn-color-fitted-level-1);\n",
       "}\n",
       "\n",
       "/* On hover */\n",
       "#sk-container-id-1 a.estimator_doc_link:hover {\n",
       "  /* unfitted */\n",
       "  background-color: var(--sklearn-color-unfitted-level-3);\n",
       "  color: var(--sklearn-color-background);\n",
       "  text-decoration: none;\n",
       "}\n",
       "\n",
       "#sk-container-id-1 a.estimator_doc_link.fitted:hover {\n",
       "  /* fitted */\n",
       "  background-color: var(--sklearn-color-fitted-level-3);\n",
       "}\n",
       "</style><div id=\"sk-container-id-1\" class=\"sk-top-container\"><div class=\"sk-text-repr-fallback\"><pre>RandomizedSearchCV(cv=StratifiedKFold(n_splits=5, random_state=45, shuffle=True),\n",
       "                   estimator=Pipeline(steps=[(&#x27;preprocessing&#x27;,\n",
       "                                              Pipeline(steps=[(&#x27;process_categories&#x27;,\n",
       "                                                               FunctionTransformer(func=&lt;function process_categories at 0x000001764B2ECCA0&gt;,\n",
       "                                                                                   kw_args={&#x27;create_mapping&#x27;: True})),\n",
       "                                                              (&#x27;remove_other_from_region&#x27;,\n",
       "                                                               FunctionTransformer(func=&lt;function remove_other_from_re...\n",
       "                                         &#x27;preprocessor__num&#x27;: [StandardScaler(),\n",
       "                                                               MinMaxScaler(),\n",
       "                                                               RobustScaler(),\n",
       "                                                               &#x27;passthrough&#x27;]},\n",
       "                                        {&#x27;models&#x27;: [LogisticRegression(random_state=45,\n",
       "                                                                       solver=&#x27;liblinear&#x27;)],\n",
       "                                         &#x27;models__C&#x27;: range(1, 10),\n",
       "                                         &#x27;models__class_weight&#x27;: [None,\n",
       "                                                                  &#x27;balanced&#x27;],\n",
       "                                         &#x27;models__penalty&#x27;: [&#x27;l1&#x27;, &#x27;l2&#x27;],\n",
       "                                         &#x27;preprocessor__num&#x27;: [StandardScaler(),\n",
       "                                                               MinMaxScaler(),\n",
       "                                                               RobustScaler(),\n",
       "                                                               &#x27;passthrough&#x27;]}],\n",
       "                   random_state=45, scoring=&#x27;f1&#x27;)</pre><b>In a Jupyter environment, please rerun this cell to show the HTML representation or trust the notebook. <br />On GitHub, the HTML representation is unable to render, please try loading this page with nbviewer.org.</b></div><div class=\"sk-container\" hidden><div class=\"sk-item sk-dashed-wrapped\"><div class=\"sk-label-container\"><div class=\"sk-label fitted sk-toggleable\"><input class=\"sk-toggleable__control sk-hidden--visually\" id=\"sk-estimator-id-1\" type=\"checkbox\" ><label for=\"sk-estimator-id-1\" class=\"sk-toggleable__label fitted sk-toggleable__label-arrow fitted\">&nbsp;&nbsp;RandomizedSearchCV<a class=\"sk-estimator-doc-link fitted\" rel=\"noreferrer\" target=\"_blank\" href=\"https://scikit-learn.org/1.5/modules/generated/sklearn.model_selection.RandomizedSearchCV.html\">?<span>Documentation for RandomizedSearchCV</span></a><span class=\"sk-estimator-doc-link fitted\">i<span>Fitted</span></span></label><div class=\"sk-toggleable__content fitted\"><pre>RandomizedSearchCV(cv=StratifiedKFold(n_splits=5, random_state=45, shuffle=True),\n",
       "                   estimator=Pipeline(steps=[(&#x27;preprocessing&#x27;,\n",
       "                                              Pipeline(steps=[(&#x27;process_categories&#x27;,\n",
       "                                                               FunctionTransformer(func=&lt;function process_categories at 0x000001764B2ECCA0&gt;,\n",
       "                                                                                   kw_args={&#x27;create_mapping&#x27;: True})),\n",
       "                                                              (&#x27;remove_other_from_region&#x27;,\n",
       "                                                               FunctionTransformer(func=&lt;function remove_other_from_re...\n",
       "                                         &#x27;preprocessor__num&#x27;: [StandardScaler(),\n",
       "                                                               MinMaxScaler(),\n",
       "                                                               RobustScaler(),\n",
       "                                                               &#x27;passthrough&#x27;]},\n",
       "                                        {&#x27;models&#x27;: [LogisticRegression(random_state=45,\n",
       "                                                                       solver=&#x27;liblinear&#x27;)],\n",
       "                                         &#x27;models__C&#x27;: range(1, 10),\n",
       "                                         &#x27;models__class_weight&#x27;: [None,\n",
       "                                                                  &#x27;balanced&#x27;],\n",
       "                                         &#x27;models__penalty&#x27;: [&#x27;l1&#x27;, &#x27;l2&#x27;],\n",
       "                                         &#x27;preprocessor__num&#x27;: [StandardScaler(),\n",
       "                                                               MinMaxScaler(),\n",
       "                                                               RobustScaler(),\n",
       "                                                               &#x27;passthrough&#x27;]}],\n",
       "                   random_state=45, scoring=&#x27;f1&#x27;)</pre></div> </div></div><div class=\"sk-parallel\"><div class=\"sk-parallel-item\"><div class=\"sk-item\"><div class=\"sk-label-container\"><div class=\"sk-label fitted sk-toggleable\"><input class=\"sk-toggleable__control sk-hidden--visually\" id=\"sk-estimator-id-2\" type=\"checkbox\" ><label for=\"sk-estimator-id-2\" class=\"sk-toggleable__label fitted sk-toggleable__label-arrow fitted\">best_estimator_: Pipeline</label><div class=\"sk-toggleable__content fitted\"><pre>Pipeline(steps=[(&#x27;preprocessing&#x27;,\n",
       "                 Pipeline(steps=[(&#x27;process_categories&#x27;,\n",
       "                                  FunctionTransformer(func=&lt;function process_categories at 0x000001764B2ECCA0&gt;,\n",
       "                                                      kw_args={&#x27;create_mapping&#x27;: True})),\n",
       "                                 (&#x27;remove_other_from_region&#x27;,\n",
       "                                  FunctionTransformer(func=&lt;function remove_other_from_region at 0x000001764D49E5E0&gt;)),\n",
       "                                 (&#x27;fill_state_code&#x27;,\n",
       "                                  FunctionTransformer(func=&lt;function fill_sta...\n",
       "                                                                  (&#x27;simpleImputer_after_ord&#x27;,\n",
       "                                                                   SimpleImputer(strategy=&#x27;most_frequent&#x27;))]),\n",
       "                                                  [&#x27;country_code&#x27;, &#x27;state_code&#x27;,\n",
       "                                                   &#x27;region&#x27;, &#x27;city&#x27;,\n",
       "                                                   &#x27;standardized_category&#x27;,\n",
       "                                                   &#x27;continent&#x27;]),\n",
       "                                                 (&#x27;num&#x27;, &#x27;passthrough&#x27;,\n",
       "                                                  [&#x27;funding_total_usd&#x27;,\n",
       "                                                   &#x27;time_until_first_round&#x27;,\n",
       "                                                   &#x27;funding_duration&#x27;,\n",
       "                                                   &#x27;time_until_last_round&#x27;,\n",
       "                                                   &#x27;lifetime&#x27;])])),\n",
       "                (&#x27;models&#x27;,\n",
       "                 &lt;catboost.core.CatBoostClassifier object at 0x0000017652EAA5E0&gt;)])</pre></div> </div></div><div class=\"sk-serial\"><div class=\"sk-item\"><div class=\"sk-serial\"><div class=\"sk-item\"><div class=\"sk-label-container\"><div class=\"sk-label fitted sk-toggleable\"><input class=\"sk-toggleable__control sk-hidden--visually\" id=\"sk-estimator-id-3\" type=\"checkbox\" ><label for=\"sk-estimator-id-3\" class=\"sk-toggleable__label fitted sk-toggleable__label-arrow fitted\">&nbsp;preprocessing: Pipeline<a class=\"sk-estimator-doc-link fitted\" rel=\"noreferrer\" target=\"_blank\" href=\"https://scikit-learn.org/1.5/modules/generated/sklearn.pipeline.Pipeline.html\">?<span>Documentation for preprocessing: Pipeline</span></a></label><div class=\"sk-toggleable__content fitted\"><pre>Pipeline(steps=[(&#x27;process_categories&#x27;,\n",
       "                 FunctionTransformer(func=&lt;function process_categories at 0x000001764B2ECCA0&gt;,\n",
       "                                     kw_args={&#x27;create_mapping&#x27;: True})),\n",
       "                (&#x27;remove_other_from_region&#x27;,\n",
       "                 FunctionTransformer(func=&lt;function remove_other_from_region at 0x000001764D49E5E0&gt;)),\n",
       "                (&#x27;fill_state_code&#x27;,\n",
       "                 FunctionTransformer(func=&lt;function fill_state_code at 0x0000017649D308B0&gt;)),\n",
       "                (&#x27;...\n",
       "                 FunctionTransformer(func=&lt;function fill_funding_total_usd at 0x00000176495B2EE0&gt;)),\n",
       "                (&#x27;country_and_continent&#x27;,\n",
       "                 FunctionTransformer(func=&lt;function standardize_country_and_add_continent at 0x00000176494CD1F0&gt;)),\n",
       "                (&#x27;categorize_funding&#x27;,\n",
       "                 FunctionTransformer(func=&lt;function categorize_funding at 0x0000017649343940&gt;)),\n",
       "                (&#x27;cap_outliers&#x27;,\n",
       "                 FunctionTransformer(func=&lt;function cap_outliers at 0x0000017649292670&gt;))])</pre></div> </div></div><div class=\"sk-serial\"><div class=\"sk-item\"><div class=\"sk-estimator fitted sk-toggleable\"><input class=\"sk-toggleable__control sk-hidden--visually\" id=\"sk-estimator-id-4\" type=\"checkbox\" ><label for=\"sk-estimator-id-4\" class=\"sk-toggleable__label fitted sk-toggleable__label-arrow fitted\">&nbsp;FunctionTransformer<a class=\"sk-estimator-doc-link fitted\" rel=\"noreferrer\" target=\"_blank\" href=\"https://scikit-learn.org/1.5/modules/generated/sklearn.preprocessing.FunctionTransformer.html\">?<span>Documentation for FunctionTransformer</span></a></label><div class=\"sk-toggleable__content fitted\"><pre>FunctionTransformer(func=&lt;function process_categories at 0x000001764B2ECCA0&gt;,\n",
       "                    kw_args={&#x27;create_mapping&#x27;: True})</pre></div> </div></div><div class=\"sk-item\"><div class=\"sk-estimator fitted sk-toggleable\"><input class=\"sk-toggleable__control sk-hidden--visually\" id=\"sk-estimator-id-5\" type=\"checkbox\" ><label for=\"sk-estimator-id-5\" class=\"sk-toggleable__label fitted sk-toggleable__label-arrow fitted\">&nbsp;FunctionTransformer<a class=\"sk-estimator-doc-link fitted\" rel=\"noreferrer\" target=\"_blank\" href=\"https://scikit-learn.org/1.5/modules/generated/sklearn.preprocessing.FunctionTransformer.html\">?<span>Documentation for FunctionTransformer</span></a></label><div class=\"sk-toggleable__content fitted\"><pre>FunctionTransformer(func=&lt;function remove_other_from_region at 0x000001764D49E5E0&gt;)</pre></div> </div></div><div class=\"sk-item\"><div class=\"sk-estimator fitted sk-toggleable\"><input class=\"sk-toggleable__control sk-hidden--visually\" id=\"sk-estimator-id-6\" type=\"checkbox\" ><label for=\"sk-estimator-id-6\" class=\"sk-toggleable__label fitted sk-toggleable__label-arrow fitted\">&nbsp;FunctionTransformer<a class=\"sk-estimator-doc-link fitted\" rel=\"noreferrer\" target=\"_blank\" href=\"https://scikit-learn.org/1.5/modules/generated/sklearn.preprocessing.FunctionTransformer.html\">?<span>Documentation for FunctionTransformer</span></a></label><div class=\"sk-toggleable__content fitted\"><pre>FunctionTransformer(func=&lt;function fill_state_code at 0x0000017649D308B0&gt;)</pre></div> </div></div><div class=\"sk-item\"><div class=\"sk-estimator fitted sk-toggleable\"><input class=\"sk-toggleable__control sk-hidden--visually\" id=\"sk-estimator-id-7\" type=\"checkbox\" ><label for=\"sk-estimator-id-7\" class=\"sk-toggleable__label fitted sk-toggleable__label-arrow fitted\">&nbsp;FunctionTransformer<a class=\"sk-estimator-doc-link fitted\" rel=\"noreferrer\" target=\"_blank\" href=\"https://scikit-learn.org/1.5/modules/generated/sklearn.preprocessing.FunctionTransformer.html\">?<span>Documentation for FunctionTransformer</span></a></label><div class=\"sk-toggleable__content fitted\"><pre>FunctionTransformer(func=&lt;function fill_region at 0x0000017649D30310&gt;)</pre></div> </div></div><div class=\"sk-item\"><div class=\"sk-estimator fitted sk-toggleable\"><input class=\"sk-toggleable__control sk-hidden--visually\" id=\"sk-estimator-id-8\" type=\"checkbox\" ><label for=\"sk-estimator-id-8\" class=\"sk-toggleable__label fitted sk-toggleable__label-arrow fitted\">&nbsp;FunctionTransformer<a class=\"sk-estimator-doc-link fitted\" rel=\"noreferrer\" target=\"_blank\" href=\"https://scikit-learn.org/1.5/modules/generated/sklearn.preprocessing.FunctionTransformer.html\">?<span>Documentation for FunctionTransformer</span></a></label><div class=\"sk-toggleable__content fitted\"><pre>FunctionTransformer(func=&lt;function adjust_founding_dates at 0x000001764A57F550&gt;)</pre></div> </div></div><div class=\"sk-item\"><div class=\"sk-estimator fitted sk-toggleable\"><input class=\"sk-toggleable__control sk-hidden--visually\" id=\"sk-estimator-id-9\" type=\"checkbox\" ><label for=\"sk-estimator-id-9\" class=\"sk-toggleable__label fitted sk-toggleable__label-arrow fitted\">&nbsp;FunctionTransformer<a class=\"sk-estimator-doc-link fitted\" rel=\"noreferrer\" target=\"_blank\" href=\"https://scikit-learn.org/1.5/modules/generated/sklearn.preprocessing.FunctionTransformer.html\">?<span>Documentation for FunctionTransformer</span></a></label><div class=\"sk-toggleable__content fitted\"><pre>FunctionTransformer(func=&lt;function calculate_time_intervals at 0x00000176503A5430&gt;)</pre></div> </div></div><div class=\"sk-item\"><div class=\"sk-estimator fitted sk-toggleable\"><input class=\"sk-toggleable__control sk-hidden--visually\" id=\"sk-estimator-id-10\" type=\"checkbox\" ><label for=\"sk-estimator-id-10\" class=\"sk-toggleable__label fitted sk-toggleable__label-arrow fitted\">&nbsp;FunctionTransformer<a class=\"sk-estimator-doc-link fitted\" rel=\"noreferrer\" target=\"_blank\" href=\"https://scikit-learn.org/1.5/modules/generated/sklearn.preprocessing.FunctionTransformer.html\">?<span>Documentation for FunctionTransformer</span></a></label><div class=\"sk-toggleable__content fitted\"><pre>FunctionTransformer(func=&lt;function fill_funding_total_usd at 0x00000176495B2EE0&gt;)</pre></div> </div></div><div class=\"sk-item\"><div class=\"sk-estimator fitted sk-toggleable\"><input class=\"sk-toggleable__control sk-hidden--visually\" id=\"sk-estimator-id-11\" type=\"checkbox\" ><label for=\"sk-estimator-id-11\" class=\"sk-toggleable__label fitted sk-toggleable__label-arrow fitted\">&nbsp;FunctionTransformer<a class=\"sk-estimator-doc-link fitted\" rel=\"noreferrer\" target=\"_blank\" href=\"https://scikit-learn.org/1.5/modules/generated/sklearn.preprocessing.FunctionTransformer.html\">?<span>Documentation for FunctionTransformer</span></a></label><div class=\"sk-toggleable__content fitted\"><pre>FunctionTransformer(func=&lt;function standardize_country_and_add_continent at 0x00000176494CD1F0&gt;)</pre></div> </div></div><div class=\"sk-item\"><div class=\"sk-estimator fitted sk-toggleable\"><input class=\"sk-toggleable__control sk-hidden--visually\" id=\"sk-estimator-id-12\" type=\"checkbox\" ><label for=\"sk-estimator-id-12\" class=\"sk-toggleable__label fitted sk-toggleable__label-arrow fitted\">&nbsp;FunctionTransformer<a class=\"sk-estimator-doc-link fitted\" rel=\"noreferrer\" target=\"_blank\" href=\"https://scikit-learn.org/1.5/modules/generated/sklearn.preprocessing.FunctionTransformer.html\">?<span>Documentation for FunctionTransformer</span></a></label><div class=\"sk-toggleable__content fitted\"><pre>FunctionTransformer(func=&lt;function categorize_funding at 0x0000017649343940&gt;)</pre></div> </div></div><div class=\"sk-item\"><div class=\"sk-estimator fitted sk-toggleable\"><input class=\"sk-toggleable__control sk-hidden--visually\" id=\"sk-estimator-id-13\" type=\"checkbox\" ><label for=\"sk-estimator-id-13\" class=\"sk-toggleable__label fitted sk-toggleable__label-arrow fitted\">&nbsp;FunctionTransformer<a class=\"sk-estimator-doc-link fitted\" rel=\"noreferrer\" target=\"_blank\" href=\"https://scikit-learn.org/1.5/modules/generated/sklearn.preprocessing.FunctionTransformer.html\">?<span>Documentation for FunctionTransformer</span></a></label><div class=\"sk-toggleable__content fitted\"><pre>FunctionTransformer(func=&lt;function cap_outliers at 0x0000017649292670&gt;)</pre></div> </div></div></div></div><div class=\"sk-item sk-dashed-wrapped\"><div class=\"sk-label-container\"><div class=\"sk-label fitted sk-toggleable\"><input class=\"sk-toggleable__control sk-hidden--visually\" id=\"sk-estimator-id-14\" type=\"checkbox\" ><label for=\"sk-estimator-id-14\" class=\"sk-toggleable__label fitted sk-toggleable__label-arrow fitted\">&nbsp;preprocessor: ColumnTransformer<a class=\"sk-estimator-doc-link fitted\" rel=\"noreferrer\" target=\"_blank\" href=\"https://scikit-learn.org/1.5/modules/generated/sklearn.compose.ColumnTransformer.html\">?<span>Documentation for preprocessor: ColumnTransformer</span></a></label><div class=\"sk-toggleable__content fitted\"><pre>ColumnTransformer(remainder=&#x27;passthrough&#x27;,\n",
       "                  transformers=[(&#x27;ohe&#x27;,\n",
       "                                 Pipeline(steps=[(&#x27;simpleImputer_ohe&#x27;,\n",
       "                                                  SimpleImputer(fill_value=&#x27;undefined&#x27;,\n",
       "                                                                strategy=&#x27;constant&#x27;)),\n",
       "                                                 (&#x27;ohe&#x27;,\n",
       "                                                  OneHotEncoder(drop=&#x27;first&#x27;,\n",
       "                                                                handle_unknown=&#x27;ignore&#x27;,\n",
       "                                                                sparse_output=False))]),\n",
       "                                 [&#x27;funding_rounds&#x27;, &#x27;level_financing&#x27;]),\n",
       "                                (&#x27;ord&#x27;,\n",
       "                                 Pipeline(steps=[(&#x27;simpleImputer_before_ord&#x27;,\n",
       "                                                  SimpleImputer(strate...\n",
       "                                                 (&#x27;ord&#x27;,\n",
       "                                                  OrdinalEncoder(handle_unknown=&#x27;use_encoded_value&#x27;,\n",
       "                                                                 unknown_value=nan)),\n",
       "                                                 (&#x27;simpleImputer_after_ord&#x27;,\n",
       "                                                  SimpleImputer(strategy=&#x27;most_frequent&#x27;))]),\n",
       "                                 [&#x27;country_code&#x27;, &#x27;state_code&#x27;, &#x27;region&#x27;,\n",
       "                                  &#x27;city&#x27;, &#x27;standardized_category&#x27;,\n",
       "                                  &#x27;continent&#x27;]),\n",
       "                                (&#x27;num&#x27;, &#x27;passthrough&#x27;,\n",
       "                                 [&#x27;funding_total_usd&#x27;, &#x27;time_until_first_round&#x27;,\n",
       "                                  &#x27;funding_duration&#x27;, &#x27;time_until_last_round&#x27;,\n",
       "                                  &#x27;lifetime&#x27;])])</pre></div> </div></div><div class=\"sk-parallel\"><div class=\"sk-parallel-item\"><div class=\"sk-item\"><div class=\"sk-label-container\"><div class=\"sk-label fitted sk-toggleable\"><input class=\"sk-toggleable__control sk-hidden--visually\" id=\"sk-estimator-id-15\" type=\"checkbox\" ><label for=\"sk-estimator-id-15\" class=\"sk-toggleable__label fitted sk-toggleable__label-arrow fitted\">ohe</label><div class=\"sk-toggleable__content fitted\"><pre>[&#x27;funding_rounds&#x27;, &#x27;level_financing&#x27;]</pre></div> </div></div><div class=\"sk-serial\"><div class=\"sk-item\"><div class=\"sk-serial\"><div class=\"sk-item\"><div class=\"sk-estimator fitted sk-toggleable\"><input class=\"sk-toggleable__control sk-hidden--visually\" id=\"sk-estimator-id-16\" type=\"checkbox\" ><label for=\"sk-estimator-id-16\" class=\"sk-toggleable__label fitted sk-toggleable__label-arrow fitted\">&nbsp;SimpleImputer<a class=\"sk-estimator-doc-link fitted\" rel=\"noreferrer\" target=\"_blank\" href=\"https://scikit-learn.org/1.5/modules/generated/sklearn.impute.SimpleImputer.html\">?<span>Documentation for SimpleImputer</span></a></label><div class=\"sk-toggleable__content fitted\"><pre>SimpleImputer(fill_value=&#x27;undefined&#x27;, strategy=&#x27;constant&#x27;)</pre></div> </div></div><div class=\"sk-item\"><div class=\"sk-estimator fitted sk-toggleable\"><input class=\"sk-toggleable__control sk-hidden--visually\" id=\"sk-estimator-id-17\" type=\"checkbox\" ><label for=\"sk-estimator-id-17\" class=\"sk-toggleable__label fitted sk-toggleable__label-arrow fitted\">&nbsp;OneHotEncoder<a class=\"sk-estimator-doc-link fitted\" rel=\"noreferrer\" target=\"_blank\" href=\"https://scikit-learn.org/1.5/modules/generated/sklearn.preprocessing.OneHotEncoder.html\">?<span>Documentation for OneHotEncoder</span></a></label><div class=\"sk-toggleable__content fitted\"><pre>OneHotEncoder(drop=&#x27;first&#x27;, handle_unknown=&#x27;ignore&#x27;, sparse_output=False)</pre></div> </div></div></div></div></div></div></div><div class=\"sk-parallel-item\"><div class=\"sk-item\"><div class=\"sk-label-container\"><div class=\"sk-label fitted sk-toggleable\"><input class=\"sk-toggleable__control sk-hidden--visually\" id=\"sk-estimator-id-18\" type=\"checkbox\" ><label for=\"sk-estimator-id-18\" class=\"sk-toggleable__label fitted sk-toggleable__label-arrow fitted\">ord</label><div class=\"sk-toggleable__content fitted\"><pre>[&#x27;country_code&#x27;, &#x27;state_code&#x27;, &#x27;region&#x27;, &#x27;city&#x27;, &#x27;standardized_category&#x27;, &#x27;continent&#x27;]</pre></div> </div></div><div class=\"sk-serial\"><div class=\"sk-item\"><div class=\"sk-serial\"><div class=\"sk-item\"><div class=\"sk-estimator fitted sk-toggleable\"><input class=\"sk-toggleable__control sk-hidden--visually\" id=\"sk-estimator-id-19\" type=\"checkbox\" ><label for=\"sk-estimator-id-19\" class=\"sk-toggleable__label fitted sk-toggleable__label-arrow fitted\">&nbsp;SimpleImputer<a class=\"sk-estimator-doc-link fitted\" rel=\"noreferrer\" target=\"_blank\" href=\"https://scikit-learn.org/1.5/modules/generated/sklearn.impute.SimpleImputer.html\">?<span>Documentation for SimpleImputer</span></a></label><div class=\"sk-toggleable__content fitted\"><pre>SimpleImputer(strategy=&#x27;most_frequent&#x27;)</pre></div> </div></div><div class=\"sk-item\"><div class=\"sk-estimator fitted sk-toggleable\"><input class=\"sk-toggleable__control sk-hidden--visually\" id=\"sk-estimator-id-20\" type=\"checkbox\" ><label for=\"sk-estimator-id-20\" class=\"sk-toggleable__label fitted sk-toggleable__label-arrow fitted\">&nbsp;OrdinalEncoder<a class=\"sk-estimator-doc-link fitted\" rel=\"noreferrer\" target=\"_blank\" href=\"https://scikit-learn.org/1.5/modules/generated/sklearn.preprocessing.OrdinalEncoder.html\">?<span>Documentation for OrdinalEncoder</span></a></label><div class=\"sk-toggleable__content fitted\"><pre>OrdinalEncoder(handle_unknown=&#x27;use_encoded_value&#x27;, unknown_value=nan)</pre></div> </div></div><div class=\"sk-item\"><div class=\"sk-estimator fitted sk-toggleable\"><input class=\"sk-toggleable__control sk-hidden--visually\" id=\"sk-estimator-id-21\" type=\"checkbox\" ><label for=\"sk-estimator-id-21\" class=\"sk-toggleable__label fitted sk-toggleable__label-arrow fitted\">&nbsp;SimpleImputer<a class=\"sk-estimator-doc-link fitted\" rel=\"noreferrer\" target=\"_blank\" href=\"https://scikit-learn.org/1.5/modules/generated/sklearn.impute.SimpleImputer.html\">?<span>Documentation for SimpleImputer</span></a></label><div class=\"sk-toggleable__content fitted\"><pre>SimpleImputer(strategy=&#x27;most_frequent&#x27;)</pre></div> </div></div></div></div></div></div></div><div class=\"sk-parallel-item\"><div class=\"sk-item\"><div class=\"sk-label-container\"><div class=\"sk-label fitted sk-toggleable\"><input class=\"sk-toggleable__control sk-hidden--visually\" id=\"sk-estimator-id-22\" type=\"checkbox\" ><label for=\"sk-estimator-id-22\" class=\"sk-toggleable__label fitted sk-toggleable__label-arrow fitted\">num</label><div class=\"sk-toggleable__content fitted\"><pre>[&#x27;funding_total_usd&#x27;, &#x27;time_until_first_round&#x27;, &#x27;funding_duration&#x27;, &#x27;time_until_last_round&#x27;, &#x27;lifetime&#x27;]</pre></div> </div></div><div class=\"sk-serial\"><div class=\"sk-item\"><div class=\"sk-estimator fitted sk-toggleable\"><input class=\"sk-toggleable__control sk-hidden--visually\" id=\"sk-estimator-id-23\" type=\"checkbox\" ><label for=\"sk-estimator-id-23\" class=\"sk-toggleable__label fitted sk-toggleable__label-arrow fitted\">passthrough</label><div class=\"sk-toggleable__content fitted\"><pre>passthrough</pre></div> </div></div></div></div></div><div class=\"sk-parallel-item\"><div class=\"sk-item\"><div class=\"sk-label-container\"><div class=\"sk-label fitted sk-toggleable\"><input class=\"sk-toggleable__control sk-hidden--visually\" id=\"sk-estimator-id-24\" type=\"checkbox\" ><label for=\"sk-estimator-id-24\" class=\"sk-toggleable__label fitted sk-toggleable__label-arrow fitted\">remainder</label><div class=\"sk-toggleable__content fitted\"><pre>[]</pre></div> </div></div><div class=\"sk-serial\"><div class=\"sk-item\"><div class=\"sk-estimator fitted sk-toggleable\"><input class=\"sk-toggleable__control sk-hidden--visually\" id=\"sk-estimator-id-25\" type=\"checkbox\" ><label for=\"sk-estimator-id-25\" class=\"sk-toggleable__label fitted sk-toggleable__label-arrow fitted\">passthrough</label><div class=\"sk-toggleable__content fitted\"><pre>passthrough</pre></div> </div></div></div></div></div></div></div><div class=\"sk-item\"><div class=\"sk-estimator fitted sk-toggleable\"><input class=\"sk-toggleable__control sk-hidden--visually\" id=\"sk-estimator-id-26\" type=\"checkbox\" ><label for=\"sk-estimator-id-26\" class=\"sk-toggleable__label fitted sk-toggleable__label-arrow fitted\">CatBoostClassifier</label><div class=\"sk-toggleable__content fitted\"><pre>&lt;catboost.core.CatBoostClassifier object at 0x0000017652EAA5E0&gt;</pre></div> </div></div></div></div></div></div></div></div></div></div></div>"
      ],
      "text/plain": [
       "RandomizedSearchCV(cv=StratifiedKFold(n_splits=5, random_state=45, shuffle=True),\n",
       "                   estimator=Pipeline(steps=[('preprocessing',\n",
       "                                              Pipeline(steps=[('process_categories',\n",
       "                                                               FunctionTransformer(func=<function process_categories at 0x000001764B2ECCA0>,\n",
       "                                                                                   kw_args={'create_mapping': True})),\n",
       "                                                              ('remove_other_from_region',\n",
       "                                                               FunctionTransformer(func=<function remove_other_from_re...\n",
       "                                         'preprocessor__num': [StandardScaler(),\n",
       "                                                               MinMaxScaler(),\n",
       "                                                               RobustScaler(),\n",
       "                                                               'passthrough']},\n",
       "                                        {'models': [LogisticRegression(random_state=45,\n",
       "                                                                       solver='liblinear')],\n",
       "                                         'models__C': range(1, 10),\n",
       "                                         'models__class_weight': [None,\n",
       "                                                                  'balanced'],\n",
       "                                         'models__penalty': ['l1', 'l2'],\n",
       "                                         'preprocessor__num': [StandardScaler(),\n",
       "                                                               MinMaxScaler(),\n",
       "                                                               RobustScaler(),\n",
       "                                                               'passthrough']}],\n",
       "                   random_state=45, scoring='f1')"
      ]
     },
     "execution_count": 102,
     "metadata": {},
     "output_type": "execute_result"
    }
   ],
   "source": [
    "grid_search = RandomizedSearchCV(\n",
    "    pipe_final, \n",
    "    param_grid, \n",
    "    n_iter=50,\n",
    "    cv=stratified_cv,\n",
    "    scoring='f1',\n",
    "    n_jobs=-1,\n",
    "    random_state=RANDOM_STATE\n",
    ")\n",
    "\n",
    "grid_search.fit(X_train, y_train)"
   ]
  },
  {
   "cell_type": "code",
   "execution_count": 103,
   "id": "e8c4e56b",
   "metadata": {
    "ExecuteTime": {
     "end_time": "2024-06-16T21:25:12.673707Z",
     "start_time": "2024-06-16T21:25:12.600685Z"
    }
   },
   "outputs": [
    {
     "name": "stdout",
     "output_type": "stream",
     "text": [
      "Лучшая модель и её параметры:\n",
      "\n",
      " Pipeline(steps=[('preprocessing',\n",
      "                 Pipeline(steps=[('process_categories',\n",
      "                                  FunctionTransformer(func=<function process_categories at 0x000001764B2ECCA0>,\n",
      "                                                      kw_args={'create_mapping': True})),\n",
      "                                 ('remove_other_from_region',\n",
      "                                  FunctionTransformer(func=<function remove_other_from_region at 0x000001764D49E5E0>)),\n",
      "                                 ('fill_state_code',\n",
      "                                  FunctionTransformer(func=<function fill_sta...\n",
      "                                                                  ('simpleImputer_after_ord',\n",
      "                                                                   SimpleImputer(strategy='most_frequent'))]),\n",
      "                                                  ['country_code', 'state_code',\n",
      "                                                   'region', 'city',\n",
      "                                                   'standardized_category',\n",
      "                                                   'continent']),\n",
      "                                                 ('num', 'passthrough',\n",
      "                                                  ['funding_total_usd',\n",
      "                                                   'time_until_first_round',\n",
      "                                                   'funding_duration',\n",
      "                                                   'time_until_last_round',\n",
      "                                                   'lifetime'])])),\n",
      "                ('models',\n",
      "                 <catboost.core.CatBoostClassifier object at 0x0000017652EAA5E0>)])\n",
      "-----------------------------------------------------------------------------------------------------------------------------\n",
      "Параметры лучшей модели: {'preprocessor__num': 'passthrough', 'models__depth': 8, 'models': <catboost.core.CatBoostClassifier object at 0x0000017652E7AC70>}\n",
      "-----------------------------------------------------------------------------------------------------------------------------\n",
      "Метрика лучшей модели по кросс-валидации на обучающих данных: 0.9914300077816357\n",
      "-----------------------------------------------------------------------------------------------------------------------------\n"
     ]
    }
   ],
   "source": [
    "# Выведем результаты в виде датафрейм\n",
    "results_df = pd.DataFrame(grid_search.cv_results_)\n",
    "results_df[['rank_test_score', 'std_test_score', 'param_models',\n",
    "            'mean_test_score', 'params']].sort_values('rank_test_score').head(10)\n",
    "\n",
    "print('Лучшая модель и её параметры:\\n\\n', grid_search.best_estimator_)\n",
    "print(LINE_1)\n",
    "print('Параметры лучшей модели:', grid_search.best_params_)\n",
    "print(LINE_1)\n",
    "print('Метрика лучшей модели по кросс-валидации на обучающих данных:', grid_search.best_score_)\n",
    "print(LINE_1)"
   ]
  },
  {
   "cell_type": "code",
   "execution_count": 104,
   "id": "a1759c04",
   "metadata": {
    "ExecuteTime": {
     "end_time": "2024-06-16T21:25:23.142787Z",
     "start_time": "2024-06-16T21:25:16.705798Z"
    }
   },
   "outputs": [
    {
     "name": "stdout",
     "output_type": "stream",
     "text": [
      "F1-score: 0.992771\n"
     ]
    },
    {
     "name": "stderr",
     "output_type": "stream",
     "text": [
      "C:\\Users\\Asus\\anaconda3\\envs\\practicum\\lib\\site-packages\\sklearn\\preprocessing\\_encoders.py:242: UserWarning: Found unknown categories in columns [0] during transform. These unknown categories will be encoded as all zeros\n",
      "  warnings.warn(\n"
     ]
    }
   ],
   "source": [
    "y_pred = grid_search.best_estimator_.predict(X_valid)\n",
    "f1 = f1_score(y_valid, y_pred, pos_label=1)  \n",
    "print('F1-score:', round(f1, 6))"
   ]
  },
  {
   "cell_type": "code",
   "execution_count": 108,
   "id": "0822b696",
   "metadata": {
    "ExecuteTime": {
     "end_time": "2024-06-16T21:30:44.996335Z",
     "start_time": "2024-06-16T21:30:44.931538Z"
    }
   },
   "outputs": [
    {
     "ename": "ValueError",
     "evalue": "columns are missing: {'funding_duration', 'level_financing', 'time_until_last_round', 'time_until_first_round', 'continent'}",
     "output_type": "error",
     "traceback": [
      "\u001b[1;31m---------------------------------------------------------------------------\u001b[0m",
      "\u001b[1;31mValueError\u001b[0m                                Traceback (most recent call last)",
      "Cell \u001b[1;32mIn[108], line 8\u001b[0m\n\u001b[0;32m      5\u001b[0m preprocessor \u001b[38;5;241m=\u001b[39m grid_search\u001b[38;5;241m.\u001b[39mbest_estimator_\u001b[38;5;241m.\u001b[39mnamed_steps[\u001b[38;5;124m'\u001b[39m\u001b[38;5;124mpreprocessor\u001b[39m\u001b[38;5;124m'\u001b[39m]\n\u001b[0;32m      7\u001b[0m \u001b[38;5;66;03m# Подготавливаем данные для SHAP. Трансформируем X_train и X_test\u001b[39;00m\n\u001b[1;32m----> 8\u001b[0m X_train_transformed \u001b[38;5;241m=\u001b[39m \u001b[43mpreprocessor\u001b[49m\u001b[38;5;241;43m.\u001b[39;49m\u001b[43mtransform\u001b[49m\u001b[43m(\u001b[49m\u001b[43mX_train\u001b[49m\u001b[43m)\u001b[49m\n\u001b[0;32m      9\u001b[0m X_valid_transformed \u001b[38;5;241m=\u001b[39m preprocessor\u001b[38;5;241m.\u001b[39mtransform(X_valid)\n\u001b[0;32m     12\u001b[0m \u001b[38;5;66;03m# Визуализация# Функция для получения имен признаков из ColumnTransformer\u001b[39;00m\n",
      "File \u001b[1;32m~\\anaconda3\\envs\\practicum\\lib\\site-packages\\sklearn\\utils\\_set_output.py:313\u001b[0m, in \u001b[0;36m_wrap_method_output.<locals>.wrapped\u001b[1;34m(self, X, *args, **kwargs)\u001b[0m\n\u001b[0;32m    311\u001b[0m \u001b[38;5;129m@wraps\u001b[39m(f)\n\u001b[0;32m    312\u001b[0m \u001b[38;5;28;01mdef\u001b[39;00m \u001b[38;5;21mwrapped\u001b[39m(\u001b[38;5;28mself\u001b[39m, X, \u001b[38;5;241m*\u001b[39margs, \u001b[38;5;241m*\u001b[39m\u001b[38;5;241m*\u001b[39mkwargs):\n\u001b[1;32m--> 313\u001b[0m     data_to_wrap \u001b[38;5;241m=\u001b[39m f(\u001b[38;5;28mself\u001b[39m, X, \u001b[38;5;241m*\u001b[39margs, \u001b[38;5;241m*\u001b[39m\u001b[38;5;241m*\u001b[39mkwargs)\n\u001b[0;32m    314\u001b[0m     \u001b[38;5;28;01mif\u001b[39;00m \u001b[38;5;28misinstance\u001b[39m(data_to_wrap, \u001b[38;5;28mtuple\u001b[39m):\n\u001b[0;32m    315\u001b[0m         \u001b[38;5;66;03m# only wrap the first output for cross decomposition\u001b[39;00m\n\u001b[0;32m    316\u001b[0m         return_tuple \u001b[38;5;241m=\u001b[39m (\n\u001b[0;32m    317\u001b[0m             _wrap_data_with_container(method, data_to_wrap[\u001b[38;5;241m0\u001b[39m], X, \u001b[38;5;28mself\u001b[39m),\n\u001b[0;32m    318\u001b[0m             \u001b[38;5;241m*\u001b[39mdata_to_wrap[\u001b[38;5;241m1\u001b[39m:],\n\u001b[0;32m    319\u001b[0m         )\n",
      "File \u001b[1;32m~\\anaconda3\\envs\\practicum\\lib\\site-packages\\sklearn\\compose\\_column_transformer.py:1066\u001b[0m, in \u001b[0;36mColumnTransformer.transform\u001b[1;34m(self, X, **params)\u001b[0m\n\u001b[0;32m   1064\u001b[0m     diff \u001b[38;5;241m=\u001b[39m all_names \u001b[38;5;241m-\u001b[39m \u001b[38;5;28mset\u001b[39m(column_names)\n\u001b[0;32m   1065\u001b[0m     \u001b[38;5;28;01mif\u001b[39;00m diff:\n\u001b[1;32m-> 1066\u001b[0m         \u001b[38;5;28;01mraise\u001b[39;00m \u001b[38;5;167;01mValueError\u001b[39;00m(\u001b[38;5;124mf\u001b[39m\u001b[38;5;124m\"\u001b[39m\u001b[38;5;124mcolumns are missing: \u001b[39m\u001b[38;5;132;01m{\u001b[39;00mdiff\u001b[38;5;132;01m}\u001b[39;00m\u001b[38;5;124m\"\u001b[39m)\n\u001b[0;32m   1067\u001b[0m \u001b[38;5;28;01melse\u001b[39;00m:\n\u001b[0;32m   1068\u001b[0m     \u001b[38;5;66;03m# ndarray was used for fitting or transforming, thus we only\u001b[39;00m\n\u001b[0;32m   1069\u001b[0m     \u001b[38;5;66;03m# check that n_features_in_ is consistent\u001b[39;00m\n\u001b[0;32m   1070\u001b[0m     \u001b[38;5;28mself\u001b[39m\u001b[38;5;241m.\u001b[39m_check_n_features(X, reset\u001b[38;5;241m=\u001b[39m\u001b[38;5;28;01mFalse\u001b[39;00m)\n",
      "\u001b[1;31mValueError\u001b[0m: columns are missing: {'funding_duration', 'level_financing', 'time_until_last_round', 'time_until_first_round', 'continent'}"
     ]
    }
   ],
   "source": [
    "import shap\n",
    "\n",
    "# Подготовка объяснителя SHAP. Используем лучшую модель из вашего поиска\n",
    "best_model = grid_search.best_estimator_.named_steps['models']\n",
    "preprocessor = grid_search.best_estimator_.named_steps['preprocessor']\n",
    "\n",
    "# Подготавливаем данные для SHAP. Трансформируем X_train и X_test\n",
    "X_train_transformed = preprocessor.transform(X_train)\n",
    "X_valid_transformed = preprocessor.transform(X_valid)\n",
    "\n",
    "\n",
    "# Визуализация# Функция для получения имен признаков из ColumnTransformer\n",
    "def get_feature_names(transformer, input_features=None):\n",
    "    \"\"\"\n",
    "    Получение имен признаков из ColumnTransformer.\n",
    "    \"\"\"\n",
    "    output_features = []\n",
    "\n",
    "    for name, pipe, features in transformer.transformers_:\n",
    "        if name == 'remainder':\n",
    "            # Если 'remainder', добавляем неизменные признаки\n",
    "            output_features.extend(input_features[features])\n",
    "        else:\n",
    "            # Для каждого трансформера получаем имена\n",
    "            if hasattr(pipe, 'get_feature_names_out'):\n",
    "                feature_names = pipe.get_feature_names_out(features)\n",
    "            elif hasattr(pipe, 'get_feature_names'):\n",
    "                feature_names = pipe.get_feature_names(features)\n",
    "            else:\n",
    "                feature_names = features  # Если трансформер не изменяет имена, оставляем как есть\n",
    "            output_features.extend(feature_names)\n",
    "    \n",
    "    return output_features\n",
    "\n",
    "# Используйте эту функцию, чтобы получить имена признаков после препроцессинга\n",
    "feature_names = get_feature_names(preprocessor, input_features=X_train.columns.tolist())\n",
    "\n",
    "# Передайте полученные имена признаков в Explainer\n",
    "explainer = shap.Explainer(best_model, X_train_transformed, feature_names=feature_names)\n",
    "\n",
    "# Вычисление SHAP значений\n",
    "shap_values = explainer(X_valid_transformed)\n",
    "\n",
    "# Визуализация с подписями столбцов\n",
    "shap.plots.beeswarm(shap_values)"
   ]
  },
  {
   "cell_type": "code",
   "execution_count": 109,
   "id": "98743034",
   "metadata": {
    "ExecuteTime": {
     "end_time": "2024-06-16T21:31:12.238619Z",
     "start_time": "2024-06-16T21:31:12.211481Z"
    }
   },
   "outputs": [
    {
     "ename": "AttributeError",
     "evalue": "'CatBoostClassifier' object has no attribute 'coef_'",
     "output_type": "error",
     "traceback": [
      "\u001b[1;31m---------------------------------------------------------------------------\u001b[0m",
      "\u001b[1;31mAttributeError\u001b[0m                            Traceback (most recent call last)",
      "Cell \u001b[1;32mIn[109], line 5\u001b[0m\n\u001b[0;32m      3\u001b[0m \u001b[38;5;66;03m# Логика для LogisticRegression\u001b[39;00m\n\u001b[0;32m      4\u001b[0m logreg_model \u001b[38;5;241m=\u001b[39m best_model\u001b[38;5;241m.\u001b[39mnamed_steps[\u001b[38;5;124m'\u001b[39m\u001b[38;5;124mmodels\u001b[39m\u001b[38;5;124m'\u001b[39m] \u001b[38;5;66;03m# Извлечем модель логистической регрессии из пайплайна.\u001b[39;00m\n\u001b[1;32m----> 5\u001b[0m coefficients \u001b[38;5;241m=\u001b[39m \u001b[43mlogreg_model\u001b[49m\u001b[38;5;241;43m.\u001b[39;49m\u001b[43mcoef_\u001b[49m[\u001b[38;5;241m0\u001b[39m] \u001b[38;5;66;03m# Извлечем коэффициенты\u001b[39;00m\n\u001b[0;32m      6\u001b[0m \u001b[38;5;66;03m# Получим названия признаков после предобработки данных.\u001b[39;00m\n\u001b[0;32m      7\u001b[0m feature_names \u001b[38;5;241m=\u001b[39m best_model\u001b[38;5;241m.\u001b[39mnamed_steps[\u001b[38;5;124m'\u001b[39m\u001b[38;5;124mpreprocessor\u001b[39m\u001b[38;5;124m'\u001b[39m]\u001b[38;5;241m.\u001b[39mget_feature_names_out() \n",
      "\u001b[1;31mAttributeError\u001b[0m: 'CatBoostClassifier' object has no attribute 'coef_'"
     ]
    }
   ],
   "source": [
    "best_model = grid_search.best_estimator_\n",
    "\n",
    "# Логика для LogisticRegression\n",
    "logreg_model = best_model.named_steps['models'] # Извлечем модель логистической регрессии из пайплайна.\n",
    "coefficients = logreg_model.coef_[0] # Извлечем коэффициенты\n",
    "# Получим названия признаков после предобработки данных.\n",
    "feature_names = best_model.named_steps['preprocessor'].get_feature_names_out() \n",
    "# Создадим DataFrame для коэффициентов и названий признаков.\n",
    "importance = pd.DataFrame({'Feature': feature_names, 'Coefficient': coefficients})\n",
    "importance = importance.sort_values(by='Coefficient', key=abs, ascending=False)\n",
    "# Визуализация важности признаков для LogisticRegression\n",
    "importance.plot(kind='barh', x='Feature', y='Coefficient', legend=False)\n",
    "plt.show()"
   ]
  },
  {
   "cell_type": "code",
   "execution_count": 111,
   "id": "984a4b7a",
   "metadata": {
    "ExecuteTime": {
     "end_time": "2024-06-16T21:39:54.457740Z",
     "start_time": "2024-06-16T21:39:48.065315Z"
    }
   },
   "outputs": [],
   "source": [
    "df_test_clear = df_test.copy()\n",
    "df_test_clear['predicted_status'] = grid_search.best_estimator_.predict(df_test_clear)"
   ]
  },
  {
   "cell_type": "code",
   "execution_count": 112,
   "id": "8fd603dc",
   "metadata": {
    "ExecuteTime": {
     "end_time": "2024-06-16T21:39:55.973041Z",
     "start_time": "2024-06-16T21:39:55.967024Z"
    }
   },
   "outputs": [],
   "source": [
    "df_test_clear['status'] = label_encoder.inverse_transform(df_test_clear['predicted_status'])"
   ]
  },
  {
   "cell_type": "code",
   "execution_count": 113,
   "id": "33d3afa0",
   "metadata": {
    "ExecuteTime": {
     "end_time": "2024-06-16T21:39:57.062124Z",
     "start_time": "2024-06-16T21:39:57.034612Z"
    }
   },
   "outputs": [
    {
     "name": "stdout",
     "output_type": "stream",
     "text": [
      "Файл сохранен как 'final_predictions.csv'.\n"
     ]
    }
   ],
   "source": [
    "# Создаем новый датафрейм с нужными столбцами\n",
    "df_final = df_test_clear[['name', 'status']]\n",
    "\n",
    "# Сохраняем новый датафрейм в файл CSV\n",
    "df_final.to_csv('final_predictions.csv', index=False)\n",
    "\n",
    "print(\"Файл сохранен как 'final_predictions.csv'.\")"
   ]
  },
  {
   "cell_type": "code",
   "execution_count": null,
   "id": "e9cd9e45",
   "metadata": {},
   "outputs": [],
   "source": []
  },
  {
   "cell_type": "code",
   "execution_count": null,
   "id": "6d9d458a",
   "metadata": {},
   "outputs": [],
   "source": []
  },
  {
   "cell_type": "code",
   "execution_count": null,
   "id": "3eba9305",
   "metadata": {},
   "outputs": [],
   "source": []
  },
  {
   "cell_type": "code",
   "execution_count": null,
   "id": "a0ad8006",
   "metadata": {},
   "outputs": [],
   "source": []
  },
  {
   "cell_type": "code",
   "execution_count": null,
   "id": "240f93ae",
   "metadata": {},
   "outputs": [],
   "source": []
  },
  {
   "cell_type": "markdown",
   "id": "19e05478",
   "metadata": {},
   "source": [
    "#### "
   ]
  },
  {
   "cell_type": "code",
   "execution_count": null,
   "id": "540502ba",
   "metadata": {
    "ExecuteTime": {
     "end_time": "2024-06-13T19:12:30.044104Z",
     "start_time": "2024-06-13T19:12:30.030604Z"
    }
   },
   "outputs": [],
   "source": [
    "df_test.loc[df_test['category_list'].isna(), 'category_list'] = 'undefined'"
   ]
  },
  {
   "cell_type": "code",
   "execution_count": null,
   "id": "5c927d27",
   "metadata": {
    "ExecuteTime": {
     "end_time": "2024-06-13T19:12:30.090142Z",
     "start_time": "2024-06-13T19:12:30.046108Z"
    }
   },
   "outputs": [],
   "source": [
    "print(df_test['category_list'].nunique())\n",
    "df_test['category_clean'] = df_test['category_list'].apply(standardize_names)\n",
    "print(df_test['category_clean'].nunique())"
   ]
  },
  {
   "cell_type": "code",
   "execution_count": null,
   "id": "02469b75",
   "metadata": {
    "ExecuteTime": {
     "end_time": "2024-06-13T19:12:30.105661Z",
     "start_time": "2024-06-13T19:12:30.091142Z"
    }
   },
   "outputs": [],
   "source": [
    "df_test['first_category_list'] = df_test['category_clean'].apply(extract_first_value)\n",
    "\n",
    "print(df_test['first_category_list'].nunique())"
   ]
  },
  {
   "cell_type": "code",
   "execution_count": null,
   "id": "ba6c28ba",
   "metadata": {
    "ExecuteTime": {
     "end_time": "2024-06-13T19:12:35.312923Z",
     "start_time": "2024-06-13T19:12:30.106658Z"
    }
   },
   "outputs": [],
   "source": [
    "df_test['standardized_category'] = fuzz_standardize_names(df_test['first_category_list'])"
   ]
  },
  {
   "cell_type": "code",
   "execution_count": null,
   "id": "14ff3b61",
   "metadata": {
    "ExecuteTime": {
     "end_time": "2024-06-13T19:12:35.328238Z",
     "start_time": "2024-06-13T19:12:35.316733Z"
    }
   },
   "outputs": [],
   "source": [
    "df_test['standardized_category'].nunique()"
   ]
  },
  {
   "cell_type": "code",
   "execution_count": null,
   "id": "72d81bce",
   "metadata": {},
   "outputs": [],
   "source": []
  },
  {
   "cell_type": "code",
   "execution_count": null,
   "id": "a2b2c717",
   "metadata": {},
   "outputs": [],
   "source": []
  },
  {
   "cell_type": "code",
   "execution_count": null,
   "id": "58076b5d",
   "metadata": {},
   "outputs": [],
   "source": []
  },
  {
   "cell_type": "markdown",
   "id": "96be7bd4",
   "metadata": {},
   "source": [
    "#### "
   ]
  },
  {
   "cell_type": "code",
   "execution_count": null,
   "id": "c5bb9395",
   "metadata": {
    "ExecuteTime": {
     "end_time": "2024-06-13T19:12:39.645582Z",
     "start_time": "2024-06-13T19:12:39.631067Z"
    }
   },
   "outputs": [],
   "source": [
    "print('Количество стартапах где допущена ошибка в дате первого этапа финансирования:',\n",
    "      (df_test['first_funding_at'] < df_test['founded_at']).sum())"
   ]
  },
  {
   "cell_type": "code",
   "execution_count": null,
   "id": "c8b280ea",
   "metadata": {
    "ExecuteTime": {
     "end_time": "2024-06-13T19:12:39.661607Z",
     "start_time": "2024-06-13T19:12:39.646582Z"
    }
   },
   "outputs": [],
   "source": [
    "df_test[df_test['first_funding_at'] < df_test['founded_at']].head()"
   ]
  },
  {
   "cell_type": "code",
   "execution_count": null,
   "id": "ba21126a",
   "metadata": {
    "ExecuteTime": {
     "end_time": "2024-06-13T19:12:39.677128Z",
     "start_time": "2024-06-13T19:12:39.662615Z"
    }
   },
   "outputs": [],
   "source": [
    "print('Количество стартапах где допущена ошибка в дате последнего этапа финансирования:',\n",
    "      (df_test['last_funding_at'] < df_test['founded_at']).sum())"
   ]
  },
  {
   "cell_type": "code",
   "execution_count": null,
   "id": "40e3fded",
   "metadata": {
    "ExecuteTime": {
     "end_time": "2024-06-13T19:12:39.692191Z",
     "start_time": "2024-06-13T19:12:39.679129Z"
    }
   },
   "outputs": [],
   "source": [
    "error_count = (\n",
    "        (df_test['last_funding_at'] < df_test['first_funding_at'])\n",
    "     & (df_test['funding_rounds'] == 1)\n",
    ").sum()\n",
    "\n",
    "print(\n",
    "    'Количество стартапов, где допущена ошибка в датах первого и последнего этапа финансирования, '\n",
    "    'при этом количество раундов равно одному:', error_count\n",
    ")"
   ]
  },
  {
   "cell_type": "code",
   "execution_count": null,
   "id": "bb3ec0a0",
   "metadata": {
    "ExecuteTime": {
     "end_time": "2024-06-13T19:12:39.707641Z",
     "start_time": "2024-06-13T19:12:39.693129Z"
    }
   },
   "outputs": [],
   "source": [
    "# Расчет медианной дельты между 'first_funding_at' и 'founded_at' для каждой страны\n",
    "df_test['delta_days'] = (df_test['first_funding_at'] - df_test['founded_at']).dt.days\n",
    "df_test_filter = df_test[df_test['delta_days'] >= 0]\n",
    "(df_test.shape[0] - df_test_filter.shape[0])"
   ]
  },
  {
   "cell_type": "code",
   "execution_count": null,
   "id": "aed01165",
   "metadata": {
    "ExecuteTime": {
     "end_time": "2024-06-13T19:12:39.739154Z",
     "start_time": "2024-06-13T19:12:39.721641Z"
    }
   },
   "outputs": [],
   "source": [
    "# Расчет медианной дельты по странам\n",
    "median_delta_per_country_test = df_test_filter.groupby('country_code')['delta_days'].median()\n",
    "\n",
    "# Расчет общей медианы для использования в случае отсутствия данных по стране\n",
    "overall_median_test = df_test_filter['delta_days'].median()\n",
    "\n",
    "median_delta_per_country_test.sort_values()[:10]"
   ]
  },
  {
   "cell_type": "code",
   "execution_count": null,
   "id": "2aea8bde",
   "metadata": {
    "ExecuteTime": {
     "end_time": "2024-06-13T19:12:39.755279Z",
     "start_time": "2024-06-13T19:12:39.740154Z"
    }
   },
   "outputs": [],
   "source": [
    "# Идентификация строк, где 'first_funding_at' < 'founded_at'\n",
    "mask = (df_test['first_funding_at'] < df_test['founded_at'])\n",
    "\n",
    "# Замена 'founded_at' на дату, уменьшенную на медианную дельту для соответствующей страны\n",
    "# Для этого сначала создаем временный столбец для хранения дельты\n",
    "df_test.loc[mask, 'country_delta'] = df_test.loc[mask,\n",
    "                                                   'country_code'].map(median_delta_per_country_test)\n",
    "\n",
    "# Заполнение NaN значений в 'country_delta' общей медианой только если delta_days < 0\n",
    "df_test.loc[mask & (df_test['delta_days'] < 0) & (df_test['country_delta'].isna()), 'country_delta'] = overall_median_test\n",
    "\n",
    "# Корректировка даты основания\n",
    "df_test.loc[mask, 'founded_at'] = df_test.loc[mask, 'first_funding_at'] - \\\n",
    "    pd.to_timedelta(df_test.loc[mask, 'country_delta'], unit='days')\n",
    "\n",
    "# Удаление вспомогательных столбцов\n",
    "df_test.drop(columns=['delta_days', 'country_delta'], inplace=True)\n",
    "\n",
    "# Проверка результатов\n",
    "print(df_test.loc[mask, ['country_code', 'founded_at',\n",
    "      'first_funding_at', 'last_funding_at']][:10])"
   ]
  },
  {
   "cell_type": "code",
   "execution_count": null,
   "id": "b37c5bf2",
   "metadata": {
    "ExecuteTime": {
     "end_time": "2024-06-13T19:12:39.770779Z",
     "start_time": "2024-06-13T19:12:39.756176Z"
    }
   },
   "outputs": [],
   "source": [
    "print('Количество стартапах где допущена ошибка в дате первого этапа финансирования:',\n",
    "      (df_test['first_funding_at'] < df_test['founded_at']).sum())"
   ]
  },
  {
   "cell_type": "code",
   "execution_count": null,
   "id": "873fbb0d",
   "metadata": {},
   "outputs": [],
   "source": []
  },
  {
   "cell_type": "code",
   "execution_count": null,
   "id": "da84f3a4",
   "metadata": {},
   "outputs": [],
   "source": []
  },
  {
   "cell_type": "code",
   "execution_count": null,
   "id": "82152a5a",
   "metadata": {},
   "outputs": [],
   "source": []
  },
  {
   "cell_type": "code",
   "execution_count": null,
   "id": "25bdbc04",
   "metadata": {},
   "outputs": [],
   "source": []
  },
  {
   "cell_type": "code",
   "execution_count": null,
   "id": "e4cd8830",
   "metadata": {},
   "outputs": [],
   "source": []
  },
  {
   "cell_type": "code",
   "execution_count": null,
   "id": "a4531e97",
   "metadata": {},
   "outputs": [],
   "source": []
  },
  {
   "cell_type": "code",
   "execution_count": null,
   "id": "a469c161",
   "metadata": {},
   "outputs": [],
   "source": []
  },
  {
   "cell_type": "code",
   "execution_count": null,
   "id": "ee8dcb27",
   "metadata": {},
   "outputs": [],
   "source": []
  },
  {
   "cell_type": "code",
   "execution_count": null,
   "id": "3bd29b1f",
   "metadata": {},
   "outputs": [],
   "source": []
  },
  {
   "cell_type": "code",
   "execution_count": null,
   "id": "53812f34",
   "metadata": {},
   "outputs": [],
   "source": []
  },
  {
   "cell_type": "code",
   "execution_count": null,
   "id": "dd3c1b83",
   "metadata": {},
   "outputs": [],
   "source": []
  },
  {
   "cell_type": "code",
   "execution_count": null,
   "id": "0030feb5",
   "metadata": {},
   "outputs": [],
   "source": []
  },
  {
   "cell_type": "code",
   "execution_count": null,
   "id": "53351ce8",
   "metadata": {},
   "outputs": [],
   "source": []
  },
  {
   "cell_type": "code",
   "execution_count": null,
   "id": "e0351ba2",
   "metadata": {},
   "outputs": [],
   "source": []
  },
  {
   "cell_type": "code",
   "execution_count": null,
   "id": "24a0a9df",
   "metadata": {},
   "outputs": [],
   "source": []
  },
  {
   "cell_type": "code",
   "execution_count": null,
   "id": "3c32ebed",
   "metadata": {},
   "outputs": [],
   "source": []
  },
  {
   "cell_type": "code",
   "execution_count": null,
   "id": "5d21ccd2",
   "metadata": {},
   "outputs": [],
   "source": []
  },
  {
   "cell_type": "code",
   "execution_count": null,
   "id": "be5f21f5",
   "metadata": {},
   "outputs": [],
   "source": []
  },
  {
   "cell_type": "code",
   "execution_count": null,
   "id": "d8ce6733",
   "metadata": {},
   "outputs": [],
   "source": []
  },
  {
   "cell_type": "code",
   "execution_count": null,
   "id": "39aa3096",
   "metadata": {},
   "outputs": [],
   "source": []
  },
  {
   "cell_type": "code",
   "execution_count": null,
   "id": "bc83bb94",
   "metadata": {},
   "outputs": [],
   "source": []
  },
  {
   "cell_type": "code",
   "execution_count": null,
   "id": "cd81f825",
   "metadata": {},
   "outputs": [],
   "source": []
  },
  {
   "cell_type": "code",
   "execution_count": null,
   "id": "f925475e",
   "metadata": {},
   "outputs": [],
   "source": []
  },
  {
   "cell_type": "code",
   "execution_count": null,
   "id": "2e30d0f2",
   "metadata": {},
   "outputs": [],
   "source": []
  }
 ],
 "metadata": {
  "kernelspec": {
   "display_name": "Python 3 (ipykernel)",
   "language": "python",
   "name": "python3"
  },
  "language_info": {
   "codemirror_mode": {
    "name": "ipython",
    "version": 3
   },
   "file_extension": ".py",
   "mimetype": "text/x-python",
   "name": "python",
   "nbconvert_exporter": "python",
   "pygments_lexer": "ipython3",
   "version": "3.9.19"
  },
  "nbTranslate": {
   "displayLangs": [
    "*"
   ],
   "hotkey": "alt-t",
   "langInMainMenu": true,
   "sourceLang": "en",
   "targetLang": "fr",
   "useGoogleTranslate": true
  },
  "toc": {
   "base_numbering": 1,
   "nav_menu": {},
   "number_sections": true,
   "sideBar": true,
   "skip_h1_title": true,
   "title_cell": "Table of Contents",
   "title_sidebar": "Contents",
   "toc_cell": true,
   "toc_position": {
    "height": "855.556px",
    "left": "33px",
    "top": "111.445px",
    "width": "374.375px"
   },
   "toc_section_display": true,
   "toc_window_display": true
  },
  "varInspector": {
   "cols": {
    "lenName": 16,
    "lenType": 16,
    "lenVar": 40
   },
   "kernels_config": {
    "python": {
     "delete_cmd_postfix": "",
     "delete_cmd_prefix": "del ",
     "library": "var_list.py",
     "varRefreshCmd": "print(var_dic_list())"
    },
    "r": {
     "delete_cmd_postfix": ") ",
     "delete_cmd_prefix": "rm(",
     "library": "var_list.r",
     "varRefreshCmd": "cat(var_dic_list()) "
    }
   },
   "types_to_exclude": [
    "module",
    "function",
    "builtin_function_or_method",
    "instance",
    "_Feature"
   ],
   "window_display": false
  }
 },
 "nbformat": 4,
 "nbformat_minor": 5
}
